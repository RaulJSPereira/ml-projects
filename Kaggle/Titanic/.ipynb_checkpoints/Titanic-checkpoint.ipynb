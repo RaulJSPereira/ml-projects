{
 "cells": [
  {
   "cell_type": "code",
   "execution_count": null,
   "metadata": {},
   "outputs": [],
   "source": [
    "# Import numpy, pandas, sklearn, matplotlib.\n",
    "# Import lightgbm (gradient boosted decision tree algorithm)"
   ]
  },
  {
   "cell_type": "code",
   "execution_count": 1,
   "metadata": {},
   "outputs": [],
   "source": [
    "import numpy as np\n",
    "import pandas as pd\n",
    "import sklearn as sl\n",
    "import matplotlib.pyplot as plt\n",
    "import lightgbm as lgbm"
   ]
  },
  {
   "cell_type": "code",
   "execution_count": null,
   "metadata": {},
   "outputs": [],
   "source": [
    "# Load datasets into pandas"
   ]
  },
  {
   "cell_type": "code",
   "execution_count": 2,
   "metadata": {},
   "outputs": [],
   "source": [
    "data=pd.read_csv('train.csv',index_col=0)\n",
    "test=pd.read_csv('test.csv',index_col=0)"
   ]
  },
  {
   "cell_type": "code",
   "execution_count": 11,
   "metadata": {
    "scrolled": false
   },
   "outputs": [
    {
     "data": {
      "text/html": [
       "<div>\n",
       "<style scoped>\n",
       "    .dataframe tbody tr th:only-of-type {\n",
       "        vertical-align: middle;\n",
       "    }\n",
       "\n",
       "    .dataframe tbody tr th {\n",
       "        vertical-align: top;\n",
       "    }\n",
       "\n",
       "    .dataframe thead th {\n",
       "        text-align: right;\n",
       "    }\n",
       "</style>\n",
       "<table border=\"1\" class=\"dataframe\">\n",
       "  <thead>\n",
       "    <tr style=\"text-align: right;\">\n",
       "      <th></th>\n",
       "      <th>Survived</th>\n",
       "      <th>Pclass</th>\n",
       "      <th>Name</th>\n",
       "      <th>Sex</th>\n",
       "      <th>Age</th>\n",
       "      <th>SibSp</th>\n",
       "      <th>Parch</th>\n",
       "      <th>Ticket</th>\n",
       "      <th>Fare</th>\n",
       "      <th>Cabin</th>\n",
       "      <th>Embarked</th>\n",
       "    </tr>\n",
       "    <tr>\n",
       "      <th>PassengerId</th>\n",
       "      <th></th>\n",
       "      <th></th>\n",
       "      <th></th>\n",
       "      <th></th>\n",
       "      <th></th>\n",
       "      <th></th>\n",
       "      <th></th>\n",
       "      <th></th>\n",
       "      <th></th>\n",
       "      <th></th>\n",
       "      <th></th>\n",
       "    </tr>\n",
       "  </thead>\n",
       "  <tbody>\n",
       "    <tr>\n",
       "      <th>1</th>\n",
       "      <td>0</td>\n",
       "      <td>3</td>\n",
       "      <td>Braund, Mr. Owen Harris</td>\n",
       "      <td>male</td>\n",
       "      <td>22.0</td>\n",
       "      <td>1</td>\n",
       "      <td>0</td>\n",
       "      <td>A/5 21171</td>\n",
       "      <td>7.2500</td>\n",
       "      <td>NaN</td>\n",
       "      <td>S</td>\n",
       "    </tr>\n",
       "    <tr>\n",
       "      <th>2</th>\n",
       "      <td>1</td>\n",
       "      <td>1</td>\n",
       "      <td>Cumings, Mrs. John Bradley (Florence Briggs Th...</td>\n",
       "      <td>female</td>\n",
       "      <td>38.0</td>\n",
       "      <td>1</td>\n",
       "      <td>0</td>\n",
       "      <td>PC 17599</td>\n",
       "      <td>71.2833</td>\n",
       "      <td>C85</td>\n",
       "      <td>C</td>\n",
       "    </tr>\n",
       "    <tr>\n",
       "      <th>3</th>\n",
       "      <td>1</td>\n",
       "      <td>3</td>\n",
       "      <td>Heikkinen, Miss. Laina</td>\n",
       "      <td>female</td>\n",
       "      <td>26.0</td>\n",
       "      <td>0</td>\n",
       "      <td>0</td>\n",
       "      <td>STON/O2. 3101282</td>\n",
       "      <td>7.9250</td>\n",
       "      <td>NaN</td>\n",
       "      <td>S</td>\n",
       "    </tr>\n",
       "    <tr>\n",
       "      <th>4</th>\n",
       "      <td>1</td>\n",
       "      <td>1</td>\n",
       "      <td>Futrelle, Mrs. Jacques Heath (Lily May Peel)</td>\n",
       "      <td>female</td>\n",
       "      <td>35.0</td>\n",
       "      <td>1</td>\n",
       "      <td>0</td>\n",
       "      <td>113803</td>\n",
       "      <td>53.1000</td>\n",
       "      <td>C123</td>\n",
       "      <td>S</td>\n",
       "    </tr>\n",
       "    <tr>\n",
       "      <th>5</th>\n",
       "      <td>0</td>\n",
       "      <td>3</td>\n",
       "      <td>Allen, Mr. William Henry</td>\n",
       "      <td>male</td>\n",
       "      <td>35.0</td>\n",
       "      <td>0</td>\n",
       "      <td>0</td>\n",
       "      <td>373450</td>\n",
       "      <td>8.0500</td>\n",
       "      <td>NaN</td>\n",
       "      <td>S</td>\n",
       "    </tr>\n",
       "  </tbody>\n",
       "</table>\n",
       "</div>"
      ],
      "text/plain": [
       "             Survived  Pclass  \\\n",
       "PassengerId                     \n",
       "1                   0       3   \n",
       "2                   1       1   \n",
       "3                   1       3   \n",
       "4                   1       1   \n",
       "5                   0       3   \n",
       "\n",
       "                                                          Name     Sex   Age  \\\n",
       "PassengerId                                                                    \n",
       "1                                      Braund, Mr. Owen Harris    male  22.0   \n",
       "2            Cumings, Mrs. John Bradley (Florence Briggs Th...  female  38.0   \n",
       "3                                       Heikkinen, Miss. Laina  female  26.0   \n",
       "4                 Futrelle, Mrs. Jacques Heath (Lily May Peel)  female  35.0   \n",
       "5                                     Allen, Mr. William Henry    male  35.0   \n",
       "\n",
       "             SibSp  Parch            Ticket     Fare Cabin Embarked  \n",
       "PassengerId                                                          \n",
       "1                1      0         A/5 21171   7.2500   NaN        S  \n",
       "2                1      0          PC 17599  71.2833   C85        C  \n",
       "3                0      0  STON/O2. 3101282   7.9250   NaN        S  \n",
       "4                1      0            113803  53.1000  C123        S  \n",
       "5                0      0            373450   8.0500   NaN        S  "
      ]
     },
     "execution_count": 11,
     "metadata": {},
     "output_type": "execute_result"
    }
   ],
   "source": [
    "data.head(5)"
   ]
  },
  {
   "cell_type": "code",
   "execution_count": null,
   "metadata": {},
   "outputs": [],
   "source": [
    "# I join the training and test datasets so that I can investigate general features of the datasets"
   ]
  },
  {
   "cell_type": "code",
   "execution_count": 4,
   "metadata": {},
   "outputs": [],
   "source": [
    "alldata=pd.concat([data.drop('Survived',axis=1),test])"
   ]
  },
  {
   "cell_type": "code",
   "execution_count": null,
   "metadata": {},
   "outputs": [],
   "source": [
    "# I check that Age, Fare, Cabin and Embarked have missing values"
   ]
  },
  {
   "cell_type": "code",
   "execution_count": 12,
   "metadata": {},
   "outputs": [
    {
     "name": "stdout",
     "output_type": "stream",
     "text": [
      "Index(['Age', 'Fare', 'Cabin', 'Embarked'], dtype='object')\n"
     ]
    }
   ],
   "source": [
    "print(test.columns[alldata.isnull().sum()>0])"
   ]
  },
  {
   "cell_type": "code",
   "execution_count": null,
   "metadata": {},
   "outputs": [],
   "source": [
    "# I test some string manipulations to extract the title of the passenger from the Name feature.\n",
    "# I find it surprising that 'the' appears as a title, so I check that it just stands for 'the Countess'"
   ]
  },
  {
   "cell_type": "code",
   "execution_count": 13,
   "metadata": {},
   "outputs": [
    {
     "name": "stdout",
     "output_type": "stream",
     "text": [
      "['Mr.' 'Mrs.' 'Miss.' 'Master.' 'Don.' 'Rev.' 'Dr.' 'Mme.' 'Ms.' 'Major.'\n",
      " 'Lady.' 'Sir.' 'Mlle.' 'Col.' 'Capt.' 'the' 'Jonkheer.' 'Dona.']\n"
     ]
    }
   ],
   "source": [
    "print(alldata.Name.map(lambda x: x.split(',')[1].split(' ')[1]).unique())"
   ]
  },
  {
   "cell_type": "code",
   "execution_count": 16,
   "metadata": {},
   "outputs": [
    {
     "name": "stdout",
     "output_type": "stream",
     "text": [
      "['Rothes, the Countess. of (Lucy Noel Martha Dyer-Edwards)']\n"
     ]
    }
   ],
   "source": [
    "print(alldata.Name[alldata.Name.map(lambda x: x.split(',')[1].split(' ')[1])=='the'].values)"
   ]
  },
  {
   "cell_type": "code",
   "execution_count": null,
   "metadata": {},
   "outputs": [],
   "source": [
    "# I look at the type of categories in Embarked and Cabin\n",
    "# Around 77% of values in Cabin are missing, and still there are many distinct categories. \n",
    "# Therefore the frequency of each value is pretty low, so I will use only the first letter to distinguish categories"
   ]
  },
  {
   "cell_type": "code",
   "execution_count": 17,
   "metadata": {},
   "outputs": [
    {
     "name": "stdout",
     "output_type": "stream",
     "text": [
      "['S' 'C' 'Q' nan]\n"
     ]
    }
   ],
   "source": [
    "print(alldata.Embarked.unique())"
   ]
  },
  {
   "cell_type": "code",
   "execution_count": 18,
   "metadata": {},
   "outputs": [
    {
     "name": "stdout",
     "output_type": "stream",
     "text": [
      "0.774637127578304\n",
      "['A10' 'A11' 'A14' 'A16' 'A18' 'A19' 'A20' 'A21' 'A23' 'A24' 'A26' 'A29'\n",
      " 'A31' 'A32' 'A34' 'A36' 'A5' 'A6' 'A7' 'A9' 'B10' 'B101' 'B102' 'B11'\n",
      " 'B18' 'B19' 'B20' 'B22' 'B24' 'B26' 'B28' 'B3' 'B30' 'B35' 'B36' 'B37'\n",
      " 'B38' 'B39' 'B4' 'B41' 'B42' 'B45' 'B49' 'B5' 'B50' 'B51 B53 B55'\n",
      " 'B52 B54 B56' 'B57 B59 B63 B66' 'B58 B60' 'B61' 'B69' 'B71' 'B73' 'B77'\n",
      " 'B78' 'B79' 'B80' 'B82 B84' 'B86' 'B94' 'B96 B98' 'C101' 'C103' 'C104'\n",
      " 'C105' 'C106' 'C110' 'C111' 'C116' 'C118' 'C123' 'C124' 'C125' 'C126'\n",
      " 'C128' 'C130' 'C132' 'C148' 'C2' 'C22 C26' 'C23 C25 C27' 'C28' 'C30'\n",
      " 'C31' 'C32' 'C39' 'C45' 'C46' 'C47' 'C49' 'C50' 'C51' 'C52' 'C53' 'C54'\n",
      " 'C55 C57' 'C6' 'C62 C64' 'C65' 'C68' 'C7' 'C70' 'C78' 'C80' 'C82' 'C83'\n",
      " 'C85' 'C86' 'C87' 'C89' 'C90' 'C91' 'C92' 'C93' 'C95' 'C97' 'C99' 'D'\n",
      " 'D10 D12' 'D11' 'D15' 'D17' 'D19' 'D20' 'D21' 'D22' 'D26' 'D28' 'D30'\n",
      " 'D33' 'D34' 'D35' 'D36' 'D37' 'D38' 'D40' 'D43' 'D45' 'D46' 'D47' 'D48'\n",
      " 'D49' 'D50' 'D56' 'D6' 'D7' 'D9' 'E10' 'E101' 'E12' 'E121' 'E17' 'E24'\n",
      " 'E25' 'E31' 'E33' 'E34' 'E36' 'E38' 'E39 E41' 'E40' 'E44' 'E45' 'E46'\n",
      " 'E49' 'E50' 'E52' 'E58' 'E60' 'E63' 'E67' 'E68' 'E77' 'E8' 'F' 'F E46'\n",
      " 'F E57' 'F E69' 'F G63' 'F G73' 'F2' 'F33' 'F38' 'F4' 'G6' 'T' nan]\n"
     ]
    }
   ],
   "source": [
    "print(alldata.Cabin.isnull().sum()/len(alldata))\n",
    "print(alldata.Cabin.sort_values().unique())"
   ]
  },
  {
   "cell_type": "code",
   "execution_count": null,
   "metadata": {},
   "outputs": [],
   "source": [
    "# I plot the distribution of ages"
   ]
  },
  {
   "cell_type": "code",
   "execution_count": 34,
   "metadata": {},
   "outputs": [
    {
     "data": {
      "image/png": "[encoded data removed]",
      "text/plain": [
       "<Figure size 432x288 with 1 Axes>"
      ]
     },
     "metadata": {
      "needs_background": "light"
     },
     "output_type": "display_data"
    }
   ],
   "source": [
    "plt.hist(alldata.Age.fillna(alldata.Age.min()-1), range=(alldata.Age.min(), alldata.Age.max()), bins=50);"
   ]
  },
  {
   "cell_type": "code",
   "execution_count": null,
   "metadata": {},
   "outputs": [],
   "source": [
    "# I plot the distribution of Fares and find it is quite skewed. \n",
    "# I check that applying a square root makes it a little more even."
   ]
  },
  {
   "cell_type": "code",
   "execution_count": 22,
   "metadata": {},
   "outputs": [
    {
     "data": {
      "image/png": "[encoded data removed]",
      "text/plain": [
       "<Figure size 432x288 with 1 Axes>"
      ]
     },
     "metadata": {
      "needs_background": "light"
     },
     "output_type": "display_data"
    }
   ],
   "source": [
    "plt.hist(alldata.Fare.fillna(alldata.Fare.min()-1), range=(alldata.Fare.min(),alldata.Fare.max()), bins=50);"
   ]
  },
  {
   "cell_type": "code",
   "execution_count": 23,
   "metadata": {},
   "outputs": [
    {
     "data": {
      "image/png": "[encoded data removed]",
      "text/plain": [
       "<Figure size 432x288 with 1 Axes>"
      ]
     },
     "metadata": {
      "needs_background": "light"
     },
     "output_type": "display_data"
    }
   ],
   "source": [
    "plt.hist(np.sqrt(data.Fare.fillna(-1)), range=(np.sqrt(alldata.Fare.min()), np.sqrt(alldata.Fare.max())), bins=50);"
   ]
  },
  {
   "cell_type": "code",
   "execution_count": null,
   "metadata": {},
   "outputs": [],
   "source": [
    "# Finally, I see that both classes of labels are well represented in the training dataset"
   ]
  },
  {
   "cell_type": "code",
   "execution_count": 60,
   "metadata": {},
   "outputs": [
    {
     "name": "stdout",
     "output_type": "stream",
     "text": [
      "[0.61616162 0.38383838]\n"
     ]
    }
   ],
   "source": [
    "print(data.Survived.value_counts().values/len(data))"
   ]
  },
  {
   "cell_type": "code",
   "execution_count": null,
   "metadata": {},
   "outputs": [],
   "source": []
  },
  {
   "cell_type": "code",
   "execution_count": null,
   "metadata": {},
   "outputs": [],
   "source": []
  },
  {
   "cell_type": "code",
   "execution_count": null,
   "metadata": {},
   "outputs": [],
   "source": [
    "# I apply the insights above to preprocess the data a bit before learning.\n",
    "# I create new dataframes so that I keep the original data intact.\n",
    "# I create a new category 'Family', given by 'SibSp'+'Parch', which denotes the total number of family members onboard\n",
    "# I fill missing values in the Age and Fare category by the median of the training dataset (avoid data leakage)\n",
    "# I rescale the Fare values with a square root to uniformize the distribution somewhat\n",
    "# I fill missing values in both Cabin and Embarked with the letter 'Z', which does not exist in the datasets\n",
    "# For the Cabin category I take only the first letter"
   ]
  },
  {
   "cell_type": "code",
   "execution_count": 35,
   "metadata": {},
   "outputs": [],
   "source": [
    "Data=data[['Survived','Pclass','Sex','SibSp','Parch']]\n",
    "Test=test[['Pclass','Sex','SibSp','Parch']]\n",
    "\n",
    "Data=Data.assign(Family=data.SibSp+data.Parch)\n",
    "Test=Test.assign(Family=test.SibSp+test.Parch)\n",
    "\n",
    "AgeMedian=data.Age.median()\n",
    "Data=Data.assign(Age=data.Age.fillna(AgeMedian))\n",
    "Test=Test.assign(Age=test.Age.fillna(AgeMedian))\n",
    "\n",
    "FareMedian=data.Fare.median()\n",
    "Data=Data.assign(Fare=np.sqrt(data.Fare.fillna(FareMedian)))\n",
    "Test=Test.assign(Fare=np.sqrt(test.Fare.fillna(FareMedian)))\n",
    "\n",
    "Data=Data.assign(Title=data.Name.map(lambda x: x.split(',')[1].split(' ')[1]))\n",
    "Test=Test.assign(Title=test.Name.map(lambda x: x.split(',')[1].split(' ')[1]))\n",
    "\n",
    "Data=Data.assign(Embarked=data.Embarked.fillna('Z'))\n",
    "Test=Test.assign(Embarked=test.Embarked.fillna('Z'))\n",
    "\n",
    "Data=Data.assign(Cabin=data.Cabin.fillna('Z').map(lambda x: x[0]))\n",
    "Test=Test.assign(Cabin=test.Cabin.fillna('Z').map(lambda x: x[0]))"
   ]
  },
  {
   "cell_type": "code",
   "execution_count": null,
   "metadata": {},
   "outputs": [],
   "source": [
    "# I use the label encoder of sklearn to encode the categorical features of the datasets"
   ]
  },
  {
   "cell_type": "code",
   "execution_count": 36,
   "metadata": {},
   "outputs": [],
   "source": [
    "from sklearn.preprocessing import LabelEncoder\n",
    "\n",
    "cats=['Title','Sex','Cabin','Embarked']\n",
    "AllData=pd.concat([Data,Test])\n",
    "\n",
    "for cat in cats:\n",
    "    encoder=LabelEncoder()\n",
    "    encoder.fit(AllData[cat])\n",
    "    Data[cat]=encoder.transform(Data[cat])\n",
    "    Test[cat]=encoder.transform(Test[cat])"
   ]
  },
  {
   "cell_type": "code",
   "execution_count": 37,
   "metadata": {},
   "outputs": [
    {
     "data": {
      "text/html": [
       "<div>\n",
       "<style scoped>\n",
       "    .dataframe tbody tr th:only-of-type {\n",
       "        vertical-align: middle;\n",
       "    }\n",
       "\n",
       "    .dataframe tbody tr th {\n",
       "        vertical-align: top;\n",
       "    }\n",
       "\n",
       "    .dataframe thead th {\n",
       "        text-align: right;\n",
       "    }\n",
       "</style>\n",
       "<table border=\"1\" class=\"dataframe\">\n",
       "  <thead>\n",
       "    <tr style=\"text-align: right;\">\n",
       "      <th></th>\n",
       "      <th>Survived</th>\n",
       "      <th>Pclass</th>\n",
       "      <th>Sex</th>\n",
       "      <th>SibSp</th>\n",
       "      <th>Parch</th>\n",
       "      <th>Family</th>\n",
       "      <th>Age</th>\n",
       "      <th>Fare</th>\n",
       "      <th>Title</th>\n",
       "      <th>Embarked</th>\n",
       "      <th>Cabin</th>\n",
       "    </tr>\n",
       "    <tr>\n",
       "      <th>PassengerId</th>\n",
       "      <th></th>\n",
       "      <th></th>\n",
       "      <th></th>\n",
       "      <th></th>\n",
       "      <th></th>\n",
       "      <th></th>\n",
       "      <th></th>\n",
       "      <th></th>\n",
       "      <th></th>\n",
       "      <th></th>\n",
       "      <th></th>\n",
       "    </tr>\n",
       "  </thead>\n",
       "  <tbody>\n",
       "    <tr>\n",
       "      <th>1</th>\n",
       "      <td>0</td>\n",
       "      <td>3</td>\n",
       "      <td>1</td>\n",
       "      <td>1</td>\n",
       "      <td>0</td>\n",
       "      <td>1</td>\n",
       "      <td>22.0</td>\n",
       "      <td>2.692582</td>\n",
       "      <td>12</td>\n",
       "      <td>2</td>\n",
       "      <td>8</td>\n",
       "    </tr>\n",
       "    <tr>\n",
       "      <th>2</th>\n",
       "      <td>1</td>\n",
       "      <td>1</td>\n",
       "      <td>0</td>\n",
       "      <td>1</td>\n",
       "      <td>0</td>\n",
       "      <td>1</td>\n",
       "      <td>38.0</td>\n",
       "      <td>8.442944</td>\n",
       "      <td>13</td>\n",
       "      <td>0</td>\n",
       "      <td>2</td>\n",
       "    </tr>\n",
       "    <tr>\n",
       "      <th>3</th>\n",
       "      <td>1</td>\n",
       "      <td>3</td>\n",
       "      <td>0</td>\n",
       "      <td>0</td>\n",
       "      <td>0</td>\n",
       "      <td>0</td>\n",
       "      <td>26.0</td>\n",
       "      <td>2.815138</td>\n",
       "      <td>9</td>\n",
       "      <td>2</td>\n",
       "      <td>8</td>\n",
       "    </tr>\n",
       "    <tr>\n",
       "      <th>4</th>\n",
       "      <td>1</td>\n",
       "      <td>1</td>\n",
       "      <td>0</td>\n",
       "      <td>1</td>\n",
       "      <td>0</td>\n",
       "      <td>1</td>\n",
       "      <td>35.0</td>\n",
       "      <td>7.286975</td>\n",
       "      <td>13</td>\n",
       "      <td>2</td>\n",
       "      <td>2</td>\n",
       "    </tr>\n",
       "    <tr>\n",
       "      <th>5</th>\n",
       "      <td>0</td>\n",
       "      <td>3</td>\n",
       "      <td>1</td>\n",
       "      <td>0</td>\n",
       "      <td>0</td>\n",
       "      <td>0</td>\n",
       "      <td>35.0</td>\n",
       "      <td>2.837252</td>\n",
       "      <td>12</td>\n",
       "      <td>2</td>\n",
       "      <td>8</td>\n",
       "    </tr>\n",
       "  </tbody>\n",
       "</table>\n",
       "</div>"
      ],
      "text/plain": [
       "             Survived  Pclass  Sex  SibSp  Parch  Family   Age      Fare  \\\n",
       "PassengerId                                                                \n",
       "1                   0       3    1      1      0       1  22.0  2.692582   \n",
       "2                   1       1    0      1      0       1  38.0  8.442944   \n",
       "3                   1       3    0      0      0       0  26.0  2.815138   \n",
       "4                   1       1    0      1      0       1  35.0  7.286975   \n",
       "5                   0       3    1      0      0       0  35.0  2.837252   \n",
       "\n",
       "             Title  Embarked  Cabin  \n",
       "PassengerId                          \n",
       "1               12         2      8  \n",
       "2               13         0      2  \n",
       "3                9         2      8  \n",
       "4               13         2      2  \n",
       "5               12         2      8  "
      ]
     },
     "execution_count": 37,
     "metadata": {},
     "output_type": "execute_result"
    }
   ],
   "source": [
    "Data.head(5)"
   ]
  },
  {
   "cell_type": "code",
   "execution_count": null,
   "metadata": {},
   "outputs": [],
   "source": []
  },
  {
   "cell_type": "code",
   "execution_count": null,
   "metadata": {},
   "outputs": [],
   "source": [
    "# I set apart 20% of the data for validation of the training algorithm.\n",
    "# The shuffling is random, but I set a seed so the partitioning is always the same\n",
    "# I check that the two classes are well distributed"
   ]
  },
  {
   "cell_type": "code",
   "execution_count": 63,
   "metadata": {},
   "outputs": [
    {
     "name": "stdout",
     "output_type": "stream",
     "text": [
      "True\n",
      "[array([0.62973352, 0.37026648]), array([0.56179775, 0.43820225])]\n"
     ]
    }
   ],
   "source": [
    "train=Data.sample(frac=0.8,random_state=121)\n",
    "valid=Data.drop(train.index,axis=0)\n",
    "print(len(set(np.concatenate([train.index,valid.index])))==len(train)+len(valid)==len(Data))\n",
    "print([train.Survived.value_counts().values/len(train),valid.Survived.value_counts().values/len(valid)])"
   ]
  },
  {
   "cell_type": "code",
   "execution_count": null,
   "metadata": {},
   "outputs": [],
   "source": [
    "# I get the data ready to use with lightgbm"
   ]
  },
  {
   "cell_type": "code",
   "execution_count": 68,
   "metadata": {},
   "outputs": [],
   "source": [
    "features=train.columns.drop('Survived')\n",
    "Train=lgbm.Dataset(train[features],label=train['Survived'])\n",
    "Valid=lgbm.Dataset(valid[features],label=valid['Survived'])"
   ]
  },
  {
   "cell_type": "code",
   "execution_count": null,
   "metadata": {},
   "outputs": [],
   "source": []
  },
  {
   "cell_type": "code",
   "execution_count": null,
   "metadata": {},
   "outputs": [],
   "source": []
  },
  {
   "cell_type": "code",
   "execution_count": 69,
   "metadata": {},
   "outputs": [
    {
     "name": "stdout",
     "output_type": "stream",
     "text": [
      "[1]\tvalid_0's auc: 0.836795\n",
      "Training until validation scores don't improve for 10 rounds\n",
      "[2]\tvalid_0's auc: 0.840321\n",
      "[3]\tvalid_0's auc: 0.839167\n",
      "[4]\tvalid_0's auc: 0.837051\n",
      "[5]\tvalid_0's auc: 0.837949\n",
      "[6]\tvalid_0's auc: 0.839295\n",
      "[7]\tvalid_0's auc: 0.840962\n",
      "[8]\tvalid_0's auc: 0.841987\n",
      "[9]\tvalid_0's auc: 0.843269\n",
      "[10]\tvalid_0's auc: 0.844487\n",
      "[11]\tvalid_0's auc: 0.845897\n",
      "[12]\tvalid_0's auc: 0.845769\n",
      "[13]\tvalid_0's auc: 0.845256\n",
      "[14]\tvalid_0's auc: 0.851282\n",
      "[15]\tvalid_0's auc: 0.856282\n",
      "[16]\tvalid_0's auc: 0.854231\n",
      "[17]\tvalid_0's auc: 0.853782\n",
      "[18]\tvalid_0's auc: 0.8575\n",
      "[19]\tvalid_0's auc: 0.85641\n",
      "[20]\tvalid_0's auc: 0.861795\n",
      "[21]\tvalid_0's auc: 0.859551\n",
      "[22]\tvalid_0's auc: 0.861154\n",
      "[23]\tvalid_0's auc: 0.861795\n",
      "[24]\tvalid_0's auc: 0.860577\n",
      "[25]\tvalid_0's auc: 0.859423\n",
      "[26]\tvalid_0's auc: 0.860705\n",
      "[27]\tvalid_0's auc: 0.857692\n",
      "[28]\tvalid_0's auc: 0.858974\n",
      "[29]\tvalid_0's auc: 0.85641\n",
      "[30]\tvalid_0's auc: 0.856795\n",
      "Early stopping, best iteration is:\n",
      "[20]\tvalid_0's auc: 0.861795\n"
     ]
    }
   ],
   "source": [
    "param1={'num_leaves':32,'objective':'binary','metric':'auc'}\n",
    "model1=lgbm.train(param1,Train,100,valid_sets=[Valid],verbose_eval=True,early_stopping_rounds=10)"
   ]
  },
  {
   "cell_type": "code",
   "execution_count": 70,
   "metadata": {},
   "outputs": [
    {
     "name": "stdout",
     "output_type": "stream",
     "text": [
      "0.940570797057434\n",
      "0.8617948717948719\n"
     ]
    }
   ],
   "source": [
    "print(sl.metrics.roc_auc_score(train['Survived'], model1.predict(train[features])))\n",
    "print(sl.metrics.roc_auc_score(valid['Survived'], model1.predict(valid[features])))"
   ]
  },
  {
   "cell_type": "code",
   "execution_count": 199,
   "metadata": {},
   "outputs": [
    {
     "name": "stdout",
     "output_type": "stream",
     "text": [
      "[[0.4338, 0.8835904628330996], [0.3264, 0.8202247191011236]]\n",
      "[0.8639551192145862, 0.8089887640449438]\n"
     ]
    }
   ],
   "source": [
    "pred1t=model1.predict(train[features])\n",
    "pred1d=model1.predict(valid[features])\n",
    "AccT=0.\n",
    "AccD=0.\n",
    "Tt=0.\n",
    "Td=0.\n",
    "for x in range(10000):\n",
    "    NewT=sl.metrics.accuracy_score(train['Survived'], [int(i) for i in (pred1t>x/10000)])\n",
    "    NewD=sl.metrics.accuracy_score(valid['Survived'], [int(i) for i in (pred1d>x/10000)])\n",
    "    if NewT>AccT:\n",
    "        AccT=NewT\n",
    "        Tt=x/10000\n",
    "    if NewD>AccD:\n",
    "        AccD=NewD\n",
    "        Td=x/10000        \n",
    "print([[Tt,AccT],[Td,AccD]])\n",
    "print([sl.metrics.accuracy_score(train['Survived'], [int(i) for i in (pred1t>Td)]),\n",
    "       sl.metrics.accuracy_score(valid['Survived'], [int(i) for i in (pred1d>Tt)])])"
   ]
  },
  {
   "cell_type": "code",
   "execution_count": null,
   "metadata": {},
   "outputs": [],
   "source": []
  },
  {
   "cell_type": "code",
   "execution_count": 196,
   "metadata": {},
   "outputs": [],
   "source": [
    "def score(labels,probs,step):\n",
    "    FPRs=[0]\n",
    "    TPRs=[0]\n",
    "    auc=0\n",
    "    accuracies=[]\n",
    "    for i in range(1,step+1):\n",
    "        predictions=probs>(step-i)/step\n",
    "        TP=labels[predictions].sum()\n",
    "        FP=predictions.sum()-TP\n",
    "        Pos=labels.sum()\n",
    "        Neg=len(labels)-Pos \n",
    "        FPR=FP/Neg\n",
    "        TPR=TP/Pos\n",
    "        auc+=(FPR-FPRs[-1])*(TPR+TPRs[-1])/2\n",
    "        FPRs.append(FPR)\n",
    "        TPRs.append(TPR)\n",
    "        accuracy=np.sum([i==j for i,j in np.array([labels,predictions]).T])/len(labels)\n",
    "        accuracies.append(accuracy)\n",
    "    posmax=np.argmax(accuracies)\n",
    "    best_threshold=(step-posmax)/step\n",
    "    return FPRs,TPRs,auc,accuracies[posmax],best_threshold"
   ]
  },
  {
   "cell_type": "code",
   "execution_count": 197,
   "metadata": {},
   "outputs": [
    {
     "name": "stdout",
     "output_type": "stream",
     "text": [
      "0.9405707970574346 0.8835904628330996 0.4433\n"
     ]
    },
    {
     "data": {
      "image/png": "[encoded data removed]",
      "text/plain": [
       "<Figure size 432x288 with 1 Axes>"
      ]
     },
     "metadata": {
      "needs_background": "light"
     },
     "output_type": "display_data"
    }
   ],
   "source": [
    "FPRs,TPRs,auc,accuracy,threshold=score(train['Survived'],model1.predict(train[features]),10000);\n",
    "print(auc,accuracy,threshold)\n",
    "plt.plot(FPRs,TPRs);"
   ]
  },
  {
   "cell_type": "code",
   "execution_count": 198,
   "metadata": {},
   "outputs": [
    {
     "name": "stdout",
     "output_type": "stream",
     "text": [
      "0.8617307692307684 0.8202247191011236 0.3294\n"
     ]
    },
    {
     "data": {
      "image/png": "[encoded data removed]",
      "text/plain": [
       "<Figure size 432x288 with 1 Axes>"
      ]
     },
     "metadata": {
      "needs_background": "light"
     },
     "output_type": "display_data"
    }
   ],
   "source": [
    "FPRs,TPRs,auc,accuracy,threshold=score(valid['Survived'],model1.predict(valid[features]),10000);\n",
    "print(auc,accuracy,threshold)\n",
    "plt.plot(FPRs,TPRs);"
   ]
  },
  {
   "cell_type": "code",
   "execution_count": 202,
   "metadata": {},
   "outputs": [
    {
     "name": "stdout",
     "output_type": "stream",
     "text": [
      "0.9241576923486623 0.8686868686868687 0.4345\n"
     ]
    },
    {
     "data": {
      "image/png": "[encoded data removed]",
      "text/plain": [
       "<Figure size 432x288 with 1 Axes>"
      ]
     },
     "metadata": {
      "needs_background": "light"
     },
     "output_type": "display_data"
    }
   ],
   "source": [
    "FPRs,TPRs,auc,accuracy,threshold=score(Data['Survived'],model1.predict(Data[features]),10000);\n",
    "print(auc,accuracy,threshold)\n",
    "plt.plot(FPRs,TPRs);"
   ]
  },
  {
   "cell_type": "code",
   "execution_count": null,
   "metadata": {},
   "outputs": [],
   "source": []
  },
  {
   "cell_type": "code",
   "execution_count": null,
   "metadata": {},
   "outputs": [],
   "source": [
    "param2={'num_leaves':32,'objective':'binary','metric':'binary_logloss'}\n",
    "model2=lgbm.train(param2,Train,100,valid_sets=[Valid],verbose_eval=True,early_stopping_rounds=10)"
   ]
  },
  {
   "cell_type": "code",
   "execution_count": null,
   "metadata": {},
   "outputs": [],
   "source": [
    "print(sl.metrics.roc_auc_score(train['Survived'], model2.predict(train[features])))\n",
    "print(sl.metrics.roc_auc_score(valid['Survived'], model2.predict(valid[features])))"
   ]
  },
  {
   "cell_type": "code",
   "execution_count": null,
   "metadata": {},
   "outputs": [],
   "source": [
    "pred2t=model2.predict(train[features])\n",
    "pred2d=model2.predict(valid[features])\n",
    "AccT=0.\n",
    "AccD=0.\n",
    "Tt=0.\n",
    "Td=0.\n",
    "for x in range(100):\n",
    "    NewT=sl.metrics.accuracy_score(train['Survived'], [int(i) for i in (pred2t>x/100)])\n",
    "    NewD=sl.metrics.accuracy_score(valid['Survived'], [int(i) for i in (pred2d>x/100)])\n",
    "    if NewT>AccT:\n",
    "        AccT=NewT\n",
    "        Tt=x/100\n",
    "    if NewD>AccD:\n",
    "        AccD=NewD\n",
    "        Td=x/100        \n",
    "print([[Tt,AccT],[Td,AccD]])\n",
    "print([sl.metrics.accuracy_score(train['Survived'], [int(i) for i in (pred2t>Td)]),\n",
    "       sl.metrics.accuracy_score(valid['Survived'], [int(i) for i in (pred2d>Tt)])])"
   ]
  },
  {
   "cell_type": "code",
   "execution_count": null,
   "metadata": {},
   "outputs": [],
   "source": [
    "param3={'num_leaves':32,'objective':'binary','metric':'binary_error','learning_rate':0.1}\n",
    "model3=lgbm.train(param3,Train,100,valid_sets=[Valid],verbose_eval=True,early_stopping_rounds=10)"
   ]
  },
  {
   "cell_type": "code",
   "execution_count": null,
   "metadata": {},
   "outputs": [],
   "source": [
    "print(sl.metrics.roc_auc_score(train['Survived'], model3.predict(train[features])))\n",
    "print(sl.metrics.roc_auc_score(valid['Survived'], model3.predict(valid[features])))\n",
    "print(sl.metrics.accuracy_score(train['Survived'], [int(i) for i in (model3.predict(train[features])\n",
    ">0.5)]))\n",
    "print(sl.metrics.accuracy_score(valid['Survived'], [int(i) for i in (model3.predict(valid[features])\n",
    ">0.5)]))"
   ]
  },
  {
   "cell_type": "code",
   "execution_count": null,
   "metadata": {},
   "outputs": [],
   "source": [
    "pred3t=model3.predict(train[features])\n",
    "pred3d=model3.predict(valid[features])\n",
    "AccT=0.\n",
    "AccD=0.\n",
    "Tt=0.\n",
    "Td=0.\n",
    "for x in range(100):\n",
    "    NewT=sl.metrics.accuracy_score(train['Survived'], [int(i) for i in (pred3t>x/100)])\n",
    "    NewD=sl.metrics.accuracy_score(valid['Survived'], [int(i) for i in (pred3d>x/100)])\n",
    "    if NewT>AccT:\n",
    "        AccT=NewT\n",
    "        Tt=x/100\n",
    "    if NewD>AccD:\n",
    "        AccD=NewD\n",
    "        Td=x/100        \n",
    "print([[Tt,AccT],[Td,AccD]])\n",
    "print([sl.metrics.accuracy_score(train['Survived'], [int(i) for i in (pred3t>Td)]),\n",
    "       sl.metrics.accuracy_score(valid['Survived'], [int(i) for i in (pred3d>Tt)])])"
   ]
  },
  {
   "cell_type": "code",
   "execution_count": null,
   "metadata": {},
   "outputs": [],
   "source": [
    "PredF=[int(x) for x in model3.predict(Test)>0.55]"
   ]
  },
  {
   "cell_type": "code",
   "execution_count": null,
   "metadata": {},
   "outputs": [],
   "source": [
    "Final=Test[[]]\n",
    "Final=Final.assign(Survived=PredF)\n",
    "Final.head(10)"
   ]
  },
  {
   "cell_type": "code",
   "execution_count": null,
   "metadata": {},
   "outputs": [],
   "source": [
    "Final.to_csv(\"Final.csv\")"
   ]
  },
  {
   "cell_type": "code",
   "execution_count": null,
   "metadata": {},
   "outputs": [],
   "source": []
  },
  {
   "cell_type": "code",
   "execution_count": null,
   "metadata": {},
   "outputs": [],
   "source": []
  },
  {
   "cell_type": "code",
   "execution_count": null,
   "metadata": {},
   "outputs": [],
   "source": []
  },
  {
   "cell_type": "code",
   "execution_count": null,
   "metadata": {},
   "outputs": [],
   "source": []
  },
  {
   "cell_type": "code",
   "execution_count": null,
   "metadata": {},
   "outputs": [],
   "source": []
  },
  {
   "cell_type": "code",
   "execution_count": null,
   "metadata": {},
   "outputs": [],
   "source": []
  },
  {
   "cell_type": "code",
   "execution_count": null,
   "metadata": {},
   "outputs": [],
   "source": []
  },
  {
   "cell_type": "code",
   "execution_count": null,
   "metadata": {},
   "outputs": [],
   "source": []
  },
  {
   "cell_type": "code",
   "execution_count": null,
   "metadata": {},
   "outputs": [],
   "source": [
    "dev_fracB=0.1\n",
    "dev_nB=int(len(data)*dev_fracB)\n",
    "\n",
    "choice=list(set(np.random.randint(0,len(data),2*dev_nB)))[:dev_nB]\n",
    "trainB=Data.iloc[list(set(range(0,len(data)))-set(choice))]\n",
    "validB=Data.iloc[choice]\n",
    "\n",
    "print(trainB.Survived.value_counts())\n",
    "print(validB.Survived.value_counts())"
   ]
  },
  {
   "cell_type": "code",
   "execution_count": null,
   "metadata": {},
   "outputs": [],
   "source": [
    "features=trainB.columns.drop('Survived')\n",
    "TrainB=lgbm.Dataset(trainB[features],label=trainB['Survived'])\n",
    "ValidB=lgbm.Dataset(validB[features],label=validB['Survived'])"
   ]
  },
  {
   "cell_type": "code",
   "execution_count": null,
   "metadata": {},
   "outputs": [],
   "source": [
    "param4={'num_leaves':16,'objective':'binary','metric':'binary_error','learning_rate':0.07}\n",
    "model4=lgbm.train(param4,TrainB,200,valid_sets=[ValidB],verbose_eval=True,early_stopping_rounds=100)"
   ]
  },
  {
   "cell_type": "code",
   "execution_count": null,
   "metadata": {},
   "outputs": [],
   "source": [
    "print(sl.metrics.roc_auc_score(trainB['Survived'], model4.predict(trainB[features])))\n",
    "print(sl.metrics.roc_auc_score(validB['Survived'], model4.predict(validB[features])))"
   ]
  },
  {
   "cell_type": "code",
   "execution_count": null,
   "metadata": {},
   "outputs": [],
   "source": [
    "pred4t=model4.predict(trainB[features])\n",
    "pred4d=model4.predict(validB[features])\n",
    "AccT=0.\n",
    "AccD=0.\n",
    "Tt=0.\n",
    "Td=0.\n",
    "for x in range(100):\n",
    "    NewT=sl.metrics.accuracy_score(trainB['Survived'], [int(x) for x in (pred4t>x/100)])\n",
    "    NewD=sl.metrics.accuracy_score(validB['Survived'], [int(x) for x in (pred4d>x/100)])\n",
    "    if NewT>AccT:\n",
    "        AccT=NewT\n",
    "        Tt=x/100\n",
    "    if NewD>AccD:\n",
    "        AccD=NewD\n",
    "        Td=x/100        \n",
    "print([[Tt,AccT],[Td,AccD]])\n",
    "print([sl.metrics.accuracy_score(trainB['Survived'], [int(x) for x in (pred4t>Td)]),\n",
    "       sl.metrics.accuracy_score(validB['Survived'], [int(x) for x in (pred4d>Tt)])])"
   ]
  },
  {
   "cell_type": "code",
   "execution_count": null,
   "metadata": {},
   "outputs": [],
   "source": [
    "PredFB=[int(x) for x in model4.predict(Test)>0.5]\n",
    "sl.metrics.accuracy_score(PredF,PredFB)"
   ]
  },
  {
   "cell_type": "code",
   "execution_count": null,
   "metadata": {},
   "outputs": [],
   "source": [
    "FinalB=Test[[]]\n",
    "FinalB=FinalB.assign(Survived=PredFB)\n",
    "FinalB.head(10)"
   ]
  },
  {
   "cell_type": "code",
   "execution_count": null,
   "metadata": {},
   "outputs": [],
   "source": [
    "FinalB.to_csv(\"FinalB.csv\")"
   ]
  },
  {
   "cell_type": "code",
   "execution_count": null,
   "metadata": {},
   "outputs": [],
   "source": []
  },
  {
   "cell_type": "code",
   "execution_count": null,
   "metadata": {},
   "outputs": [],
   "source": []
  },
  {
   "cell_type": "code",
   "execution_count": null,
   "metadata": {},
   "outputs": [],
   "source": [
    "KF=sl.model_selection.KFold(n_splits=5,shuffle=False)"
   ]
  },
  {
   "cell_type": "code",
   "execution_count": null,
   "metadata": {},
   "outputs": [],
   "source": [
    "features=Data.columns.drop('Survived')\n",
    "param={'num_leaves':16,'objective':'binary','metric':'binary_error','learning_rate':0.09}\n",
    "accuracies=[]\n",
    "results=[]\n",
    "for train_ind,valid_ind in KF.split(Data):\n",
    "    train=Data.iloc[train_ind]\n",
    "    valid=Data.iloc[valid_ind]\n",
    "    Train=lgbm.Dataset(train[features],label=train['Survived'])\n",
    "    Valid=lgbm.Dataset(valid[features],label=valid['Survived'])\n",
    "    model=lgbm.train(param,Train,200,valid_sets=[Valid],verbose_eval=False,early_stopping_rounds=50)\n",
    "    accuracy=sl.metrics.accuracy_score(valid['Survived'], [int(i) for i in (model.predict(valid[features])>0.5)])\n",
    "    accuracies.append(accuracy)\n",
    "    results.append(model.predict(Test))"
   ]
  },
  {
   "cell_type": "code",
   "execution_count": null,
   "metadata": {},
   "outputs": [],
   "source": [
    "accuracies"
   ]
  },
  {
   "cell_type": "code",
   "execution_count": null,
   "metadata": {},
   "outputs": [],
   "source": [
    "PredFC=[int(x) for x in (np.sum(results,axis=0)/5)>0.5]\n",
    "print(sl.metrics.accuracy_score(PredF,PredFC),sl.metrics.accuracy_score(PredFB,PredFC))"
   ]
  },
  {
   "cell_type": "code",
   "execution_count": null,
   "metadata": {},
   "outputs": [],
   "source": [
    "FinalC=Test[[]]\n",
    "FinalC=FinalC.assign(Survived=PredFC)\n",
    "FinalC.head(10)"
   ]
  },
  {
   "cell_type": "code",
   "execution_count": null,
   "metadata": {},
   "outputs": [],
   "source": [
    "FinalC.to_csv(\"FinalC.csv\")"
   ]
  },
  {
   "cell_type": "code",
   "execution_count": null,
   "metadata": {},
   "outputs": [],
   "source": []
  },
  {
   "cell_type": "code",
   "execution_count": null,
   "metadata": {},
   "outputs": [],
   "source": [
    "KF2=sl.model_selection.KFold(n_splits=7,shuffle=False)"
   ]
  },
  {
   "cell_type": "code",
   "execution_count": null,
   "metadata": {},
   "outputs": [],
   "source": [
    "features=Data.columns.drop('Survived')\n",
    "param={'num_leaves':16,'objective':'binary','metric':'binary_error','learning_rate':0.09}\n",
    "accuracies2=[]\n",
    "results2=[]\n",
    "for train_ind,valid_ind in KF2.split(Data):\n",
    "    train=Data.iloc[train_ind]\n",
    "    valid=Data.iloc[valid_ind]\n",
    "    Train=lgbm.Dataset(train[features],label=train['Survived'])\n",
    "    Valid=lgbm.Dataset(valid[features],label=valid['Survived'])\n",
    "    model=lgbm.train(param,Train,200,valid_sets=[Valid],verbose_eval=False,early_stopping_rounds=50)\n",
    "    accuracy=sl.metrics.accuracy_score(valid['Survived'], [int(i) for i in (model.predict(valid[features])>0.5)])\n",
    "    accuracies2.append(accuracy)\n",
    "    results2.append(model.predict(Test))"
   ]
  },
  {
   "cell_type": "code",
   "execution_count": null,
   "metadata": {},
   "outputs": [],
   "source": [
    "accuracies2"
   ]
  },
  {
   "cell_type": "code",
   "execution_count": null,
   "metadata": {},
   "outputs": [],
   "source": [
    "PredFD=[int(x) for x in (np.sum(results2,axis=0)/5)>0.5]\n",
    "print(sl.metrics.accuracy_score(PredF,PredFD),sl.metrics.accuracy_score(PredFB,PredFD),sl.metrics.accuracy_score(PredFC,PredFD))"
   ]
  },
  {
   "cell_type": "code",
   "execution_count": null,
   "metadata": {},
   "outputs": [],
   "source": [
    "FinalD=Test[[]]\n",
    "FinalD=FinalD.assign(Survived=PredFD)\n",
    "FinalD.head(10)"
   ]
  },
  {
   "cell_type": "code",
   "execution_count": null,
   "metadata": {},
   "outputs": [],
   "source": [
    "FinalD.to_csv(\"FinalD.csv\")"
   ]
  },
  {
   "cell_type": "code",
   "execution_count": null,
   "metadata": {},
   "outputs": [],
   "source": []
  },
  {
   "cell_type": "code",
   "execution_count": null,
   "metadata": {},
   "outputs": [],
   "source": [
    "KF3=sl.model_selection.KFold(n_splits=3,shuffle=False)"
   ]
  },
  {
   "cell_type": "code",
   "execution_count": null,
   "metadata": {},
   "outputs": [],
   "source": [
    "features=Data.columns.drop('Survived')\n",
    "param={'num_leaves':16,'objective':'binary','metric':'binary_error','learning_rate':0.09}\n",
    "accuracies3=[]\n",
    "results3=[]\n",
    "for train_ind,valid_ind in KF3.split(Data):\n",
    "    train=Data.iloc[train_ind]\n",
    "    valid=Data.iloc[valid_ind]\n",
    "    Train=lgbm.Dataset(train[features],label=train['Survived'])\n",
    "    Valid=lgbm.Dataset(valid[features],label=valid['Survived'])\n",
    "    model=lgbm.train(param,Train,200,valid_sets=[Valid],verbose_eval=False,early_stopping_rounds=50)\n",
    "    accuracy=sl.metrics.accuracy_score(valid['Survived'], [int(i) for i in (model.predict(valid[features])>0.5)])\n",
    "    accuracies3.append(accuracy)\n",
    "    results3.append(model.predict(Test))"
   ]
  },
  {
   "cell_type": "code",
   "execution_count": null,
   "metadata": {},
   "outputs": [],
   "source": [
    "accuracies3"
   ]
  },
  {
   "cell_type": "code",
   "execution_count": null,
   "metadata": {},
   "outputs": [],
   "source": [
    "PredFE=[int(x) for x in (np.sum(results3,axis=0)/5)>0.5]\n",
    "print(sl.metrics.accuracy_score(PredF,PredFE),sl.metrics.accuracy_score(PredFC,PredFE))"
   ]
  },
  {
   "cell_type": "code",
   "execution_count": null,
   "metadata": {},
   "outputs": [],
   "source": [
    "FinalE=Test[[]]\n",
    "FinalE=FinalE.assign(Survived=PredFE)\n",
    "FinalE.head(10)"
   ]
  },
  {
   "cell_type": "code",
   "execution_count": null,
   "metadata": {},
   "outputs": [],
   "source": [
    "FinalE.to_csv(\"FinalE.csv\")"
   ]
  },
  {
   "cell_type": "code",
   "execution_count": null,
   "metadata": {},
   "outputs": [],
   "source": []
  },
  {
   "cell_type": "code",
   "execution_count": null,
   "metadata": {},
   "outputs": [],
   "source": []
  }
 ],
 "metadata": {
  "kernelspec": {
   "display_name": "Python 3",
   "language": "python",
   "name": "python3"
  },
  "language_info": {
   "codemirror_mode": {
    "name": "ipython",
    "version": 3
   },
   "file_extension": ".py",
   "mimetype": "text/x-python",
   "name": "python",
   "nbconvert_exporter": "python",
   "pygments_lexer": "ipython3",
   "version": "3.8.2"
  }
 },
 "nbformat": 4,
 "nbformat_minor": 4
}
