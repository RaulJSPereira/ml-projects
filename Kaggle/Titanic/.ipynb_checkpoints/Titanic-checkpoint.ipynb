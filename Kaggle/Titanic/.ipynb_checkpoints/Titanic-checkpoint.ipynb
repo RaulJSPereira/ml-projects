{
 "cells": [
  {
   "cell_type": "markdown",
   "metadata": {},
   "source": [
    "# Preliminaries"
   ]
  },
  {
   "cell_type": "markdown",
   "metadata": {},
   "source": [
    "### Import data and packages"
   ]
  },
  {
   "cell_type": "markdown",
   "metadata": {},
   "source": [
    "Import numpy, pandas, sklearn, matplotlib.\n",
    "Import lightgbm (gradient boosted decision tree algorithm) for implementing algorithm"
   ]
  },
  {
   "cell_type": "code",
   "execution_count": 1,
   "metadata": {},
   "outputs": [],
   "source": [
    "import numpy as np\n",
    "import pandas as pd\n",
    "import sklearn as sl\n",
    "import matplotlib.pyplot as plt\n",
    "import lightgbm as lgbm"
   ]
  },
  {
   "cell_type": "markdown",
   "metadata": {},
   "source": [
    "Load datasets into pandas"
   ]
  },
  {
   "cell_type": "code",
   "execution_count": 2,
   "metadata": {},
   "outputs": [],
   "source": [
    "data=pd.read_csv('train.csv',index_col=0)\n",
    "test=pd.read_csv('test.csv',index_col=0)"
   ]
  },
  {
   "cell_type": "code",
   "execution_count": 3,
   "metadata": {
    "scrolled": false
   },
   "outputs": [
    {
     "data": {
      "text/html": [
       "<div>\n",
       "<style scoped>\n",
       "    .dataframe tbody tr th:only-of-type {\n",
       "        vertical-align: middle;\n",
       "    }\n",
       "\n",
       "    .dataframe tbody tr th {\n",
       "        vertical-align: top;\n",
       "    }\n",
       "\n",
       "    .dataframe thead th {\n",
       "        text-align: right;\n",
       "    }\n",
       "</style>\n",
       "<table border=\"1\" class=\"dataframe\">\n",
       "  <thead>\n",
       "    <tr style=\"text-align: right;\">\n",
       "      <th></th>\n",
       "      <th>Survived</th>\n",
       "      <th>Pclass</th>\n",
       "      <th>Name</th>\n",
       "      <th>Sex</th>\n",
       "      <th>Age</th>\n",
       "      <th>SibSp</th>\n",
       "      <th>Parch</th>\n",
       "      <th>Ticket</th>\n",
       "      <th>Fare</th>\n",
       "      <th>Cabin</th>\n",
       "      <th>Embarked</th>\n",
       "    </tr>\n",
       "    <tr>\n",
       "      <th>PassengerId</th>\n",
       "      <th></th>\n",
       "      <th></th>\n",
       "      <th></th>\n",
       "      <th></th>\n",
       "      <th></th>\n",
       "      <th></th>\n",
       "      <th></th>\n",
       "      <th></th>\n",
       "      <th></th>\n",
       "      <th></th>\n",
       "      <th></th>\n",
       "    </tr>\n",
       "  </thead>\n",
       "  <tbody>\n",
       "    <tr>\n",
       "      <th>1</th>\n",
       "      <td>0</td>\n",
       "      <td>3</td>\n",
       "      <td>Braund, Mr. Owen Harris</td>\n",
       "      <td>male</td>\n",
       "      <td>22.0</td>\n",
       "      <td>1</td>\n",
       "      <td>0</td>\n",
       "      <td>A/5 21171</td>\n",
       "      <td>7.2500</td>\n",
       "      <td>NaN</td>\n",
       "      <td>S</td>\n",
       "    </tr>\n",
       "    <tr>\n",
       "      <th>2</th>\n",
       "      <td>1</td>\n",
       "      <td>1</td>\n",
       "      <td>Cumings, Mrs. John Bradley (Florence Briggs Th...</td>\n",
       "      <td>female</td>\n",
       "      <td>38.0</td>\n",
       "      <td>1</td>\n",
       "      <td>0</td>\n",
       "      <td>PC 17599</td>\n",
       "      <td>71.2833</td>\n",
       "      <td>C85</td>\n",
       "      <td>C</td>\n",
       "    </tr>\n",
       "    <tr>\n",
       "      <th>3</th>\n",
       "      <td>1</td>\n",
       "      <td>3</td>\n",
       "      <td>Heikkinen, Miss. Laina</td>\n",
       "      <td>female</td>\n",
       "      <td>26.0</td>\n",
       "      <td>0</td>\n",
       "      <td>0</td>\n",
       "      <td>STON/O2. 3101282</td>\n",
       "      <td>7.9250</td>\n",
       "      <td>NaN</td>\n",
       "      <td>S</td>\n",
       "    </tr>\n",
       "    <tr>\n",
       "      <th>4</th>\n",
       "      <td>1</td>\n",
       "      <td>1</td>\n",
       "      <td>Futrelle, Mrs. Jacques Heath (Lily May Peel)</td>\n",
       "      <td>female</td>\n",
       "      <td>35.0</td>\n",
       "      <td>1</td>\n",
       "      <td>0</td>\n",
       "      <td>113803</td>\n",
       "      <td>53.1000</td>\n",
       "      <td>C123</td>\n",
       "      <td>S</td>\n",
       "    </tr>\n",
       "    <tr>\n",
       "      <th>5</th>\n",
       "      <td>0</td>\n",
       "      <td>3</td>\n",
       "      <td>Allen, Mr. William Henry</td>\n",
       "      <td>male</td>\n",
       "      <td>35.0</td>\n",
       "      <td>0</td>\n",
       "      <td>0</td>\n",
       "      <td>373450</td>\n",
       "      <td>8.0500</td>\n",
       "      <td>NaN</td>\n",
       "      <td>S</td>\n",
       "    </tr>\n",
       "  </tbody>\n",
       "</table>\n",
       "</div>"
      ],
      "text/plain": [
       "             Survived  Pclass  \\\n",
       "PassengerId                     \n",
       "1                   0       3   \n",
       "2                   1       1   \n",
       "3                   1       3   \n",
       "4                   1       1   \n",
       "5                   0       3   \n",
       "\n",
       "                                                          Name     Sex   Age  \\\n",
       "PassengerId                                                                    \n",
       "1                                      Braund, Mr. Owen Harris    male  22.0   \n",
       "2            Cumings, Mrs. John Bradley (Florence Briggs Th...  female  38.0   \n",
       "3                                       Heikkinen, Miss. Laina  female  26.0   \n",
       "4                 Futrelle, Mrs. Jacques Heath (Lily May Peel)  female  35.0   \n",
       "5                                     Allen, Mr. William Henry    male  35.0   \n",
       "\n",
       "             SibSp  Parch            Ticket     Fare Cabin Embarked  \n",
       "PassengerId                                                          \n",
       "1                1      0         A/5 21171   7.2500   NaN        S  \n",
       "2                1      0          PC 17599  71.2833   C85        C  \n",
       "3                0      0  STON/O2. 3101282   7.9250   NaN        S  \n",
       "4                1      0            113803  53.1000  C123        S  \n",
       "5                0      0            373450   8.0500   NaN        S  "
      ]
     },
     "execution_count": 3,
     "metadata": {},
     "output_type": "execute_result"
    }
   ],
   "source": [
    "data.head(5)"
   ]
  },
  {
   "cell_type": "markdown",
   "metadata": {},
   "source": [
    "### Data Inspection"
   ]
  },
  {
   "cell_type": "markdown",
   "metadata": {},
   "source": [
    "I join the training and test datasets so that I can investigate general features of the datasets"
   ]
  },
  {
   "cell_type": "code",
   "execution_count": 6,
   "metadata": {},
   "outputs": [],
   "source": [
    "alldata=pd.concat([data.drop('Survived',axis=1),test])"
   ]
  },
  {
   "cell_type": "markdown",
   "metadata": {},
   "source": [
    "I check that Age, Fare, Cabin and Embarked have missing values"
   ]
  },
  {
   "cell_type": "code",
   "execution_count": 7,
   "metadata": {},
   "outputs": [
    {
     "name": "stdout",
     "output_type": "stream",
     "text": [
      "Index(['Age', 'Fare', 'Cabin', 'Embarked'], dtype='object')\n"
     ]
    }
   ],
   "source": [
    "print(test.columns[alldata.isnull().sum()>0])"
   ]
  },
  {
   "cell_type": "markdown",
   "metadata": {},
   "source": [
    "I test some string manipulations to extract the title of the passenger from the Name feature.\n",
    "I find it surprising that 'the' appears as a title, so I check that it just stands for 'the Countess'"
   ]
  },
  {
   "cell_type": "code",
   "execution_count": 8,
   "metadata": {},
   "outputs": [
    {
     "name": "stdout",
     "output_type": "stream",
     "text": [
      "['Mr.' 'Mrs.' 'Miss.' 'Master.' 'Don.' 'Rev.' 'Dr.' 'Mme.' 'Ms.' 'Major.'\n",
      " 'Lady.' 'Sir.' 'Mlle.' 'Col.' 'Capt.' 'the' 'Jonkheer.' 'Dona.']\n"
     ]
    }
   ],
   "source": [
    "print(alldata.Name.map(lambda x: x.split(',')[1].split(' ')[1]).unique())"
   ]
  },
  {
   "cell_type": "code",
   "execution_count": 9,
   "metadata": {},
   "outputs": [
    {
     "name": "stdout",
     "output_type": "stream",
     "text": [
      "['Rothes, the Countess. of (Lucy Noel Martha Dyer-Edwards)']\n"
     ]
    }
   ],
   "source": [
    "print(alldata.Name[alldata.Name.map(lambda x: x.split(',')[1].split(' ')[1])=='the'].values)"
   ]
  },
  {
   "cell_type": "markdown",
   "metadata": {},
   "source": [
    "I look at the type of categories in Embarked and Cabin.\n",
    "Around 77% of values in Cabin are missing, and still there are many distinct categories. \n",
    "Therefore the frequency of each value is pretty low, so I will use only the first letter to distinguish categories"
   ]
  },
  {
   "cell_type": "code",
   "execution_count": 10,
   "metadata": {},
   "outputs": [
    {
     "name": "stdout",
     "output_type": "stream",
     "text": [
      "['S' 'C' 'Q' nan]\n"
     ]
    }
   ],
   "source": [
    "print(alldata.Embarked.unique())"
   ]
  },
  {
   "cell_type": "code",
   "execution_count": 11,
   "metadata": {},
   "outputs": [
    {
     "name": "stdout",
     "output_type": "stream",
     "text": [
      "0.774637127578304\n",
      "['A10' 'A11' 'A14' 'A16' 'A18' 'A19' 'A20' 'A21' 'A23' 'A24' 'A26' 'A29'\n",
      " 'A31' 'A32' 'A34' 'A36' 'A5' 'A6' 'A7' 'A9' 'B10' 'B101' 'B102' 'B11'\n",
      " 'B18' 'B19' 'B20' 'B22' 'B24' 'B26' 'B28' 'B3' 'B30' 'B35' 'B36' 'B37'\n",
      " 'B38' 'B39' 'B4' 'B41' 'B42' 'B45' 'B49' 'B5' 'B50' 'B51 B53 B55'\n",
      " 'B52 B54 B56' 'B57 B59 B63 B66' 'B58 B60' 'B61' 'B69' 'B71' 'B73' 'B77'\n",
      " 'B78' 'B79' 'B80' 'B82 B84' 'B86' 'B94' 'B96 B98' 'C101' 'C103' 'C104'\n",
      " 'C105' 'C106' 'C110' 'C111' 'C116' 'C118' 'C123' 'C124' 'C125' 'C126'\n",
      " 'C128' 'C130' 'C132' 'C148' 'C2' 'C22 C26' 'C23 C25 C27' 'C28' 'C30'\n",
      " 'C31' 'C32' 'C39' 'C45' 'C46' 'C47' 'C49' 'C50' 'C51' 'C52' 'C53' 'C54'\n",
      " 'C55 C57' 'C6' 'C62 C64' 'C65' 'C68' 'C7' 'C70' 'C78' 'C80' 'C82' 'C83'\n",
      " 'C85' 'C86' 'C87' 'C89' 'C90' 'C91' 'C92' 'C93' 'C95' 'C97' 'C99' 'D'\n",
      " 'D10 D12' 'D11' 'D15' 'D17' 'D19' 'D20' 'D21' 'D22' 'D26' 'D28' 'D30'\n",
      " 'D33' 'D34' 'D35' 'D36' 'D37' 'D38' 'D40' 'D43' 'D45' 'D46' 'D47' 'D48'\n",
      " 'D49' 'D50' 'D56' 'D6' 'D7' 'D9' 'E10' 'E101' 'E12' 'E121' 'E17' 'E24'\n",
      " 'E25' 'E31' 'E33' 'E34' 'E36' 'E38' 'E39 E41' 'E40' 'E44' 'E45' 'E46'\n",
      " 'E49' 'E50' 'E52' 'E58' 'E60' 'E63' 'E67' 'E68' 'E77' 'E8' 'F' 'F E46'\n",
      " 'F E57' 'F E69' 'F G63' 'F G73' 'F2' 'F33' 'F38' 'F4' 'G6' 'T' nan]\n"
     ]
    }
   ],
   "source": [
    "print(alldata.Cabin.isnull().sum()/len(alldata))\n",
    "print(alldata.Cabin.sort_values().unique())"
   ]
  },
  {
   "cell_type": "markdown",
   "metadata": {},
   "source": [
    "I plot the distribution of ages"
   ]
  },
  {
   "cell_type": "code",
   "execution_count": 12,
   "metadata": {},
   "outputs": [
    {
     "data": {
      "image/png": "[encoded data removed]",
      "text/plain": [
       "<Figure size 432x288 with 1 Axes>"
      ]
     },
     "metadata": {
      "needs_background": "light"
     },
     "output_type": "display_data"
    }
   ],
   "source": [
    "plt.hist(alldata.Age.fillna(alldata.Age.min()-1), range=(alldata.Age.min(), alldata.Age.max()), bins=50);"
   ]
  },
  {
   "cell_type": "markdown",
   "metadata": {},
   "source": [
    "I plot the distribution of Fares and find it is quite skewed. \n",
    "I check that applying a square root makes it a little more even."
   ]
  },
  {
   "cell_type": "code",
   "execution_count": 13,
   "metadata": {},
   "outputs": [
    {
     "data": {
      "image/png": "[encoded data removed]",
      "text/plain": [
       "<Figure size 936x288 with 2 Axes>"
      ]
     },
     "metadata": {
      "needs_background": "light"
     },
     "output_type": "display_data"
    }
   ],
   "source": [
    "plt.figure(figsize=(13,4))\n",
    "plt.subplot(121)\n",
    "plt.hist(alldata.Fare.fillna(alldata.Fare.min()-1), range=(alldata.Fare.min(),alldata.Fare.max()), bins=50);\n",
    "plt.subplot(122)\n",
    "plt.hist(np.sqrt(data.Fare.fillna(-1)), range=(np.sqrt(alldata.Fare.min()), np.sqrt(alldata.Fare.max())), bins=50);"
   ]
  },
  {
   "cell_type": "markdown",
   "metadata": {},
   "source": [
    "Finally, I see that both classes of labels are well represented in the training dataset"
   ]
  },
  {
   "cell_type": "code",
   "execution_count": 14,
   "metadata": {},
   "outputs": [
    {
     "name": "stdout",
     "output_type": "stream",
     "text": [
      "[0.61616162 0.38383838]\n"
     ]
    }
   ],
   "source": [
    "print(data.Survived.value_counts().values/len(data))"
   ]
  },
  {
   "cell_type": "markdown",
   "metadata": {},
   "source": [
    "### Data Preparation"
   ]
  },
  {
   "cell_type": "markdown",
   "metadata": {},
   "source": [
    "I apply the insights above to preprocess the data a bit before learning.\n",
    "I create new dataframes so that I keep the original data intact.\n",
    "I create a new category 'Family', given by 'SibSp'+'Parch', which denotes the total number of family members onboard.\n",
    "I fill missing values in the Age and Fare category by the median of the training dataset (avoid data leakage).\n",
    "I rescale the Fare values with a square root to uniformize the distribution somewhat.\n",
    "I fill missing values in both Cabin and Embarked with the letter 'Z', which does not exist in the datasets.\n",
    "For the Cabin category I take only the first letter"
   ]
  },
  {
   "cell_type": "code",
   "execution_count": 15,
   "metadata": {},
   "outputs": [],
   "source": [
    "Data=data[['Survived','Pclass','Sex','SibSp','Parch']]\n",
    "Test=test[['Pclass','Sex','SibSp','Parch']]\n",
    "\n",
    "Data=Data.assign(Family=data.SibSp+data.Parch)\n",
    "Test=Test.assign(Family=test.SibSp+test.Parch)\n",
    "\n",
    "AgeMedian=data.Age.median()\n",
    "Data=Data.assign(Age=data.Age.fillna(AgeMedian))\n",
    "Test=Test.assign(Age=test.Age.fillna(AgeMedian))\n",
    "\n",
    "FareMedian=data.Fare.median()\n",
    "Data=Data.assign(Fare=np.sqrt(data.Fare.fillna(FareMedian)))\n",
    "Test=Test.assign(Fare=np.sqrt(test.Fare.fillna(FareMedian)))\n",
    "\n",
    "Data=Data.assign(Title=data.Name.map(lambda x: x.split(',')[1].split(' ')[1]))\n",
    "Test=Test.assign(Title=test.Name.map(lambda x: x.split(',')[1].split(' ')[1]))\n",
    "\n",
    "Data=Data.assign(Embarked=data.Embarked.fillna('Z'))\n",
    "Test=Test.assign(Embarked=test.Embarked.fillna('Z'))\n",
    "\n",
    "Data=Data.assign(Cabin=data.Cabin.fillna('Z').map(lambda x: x[0]))\n",
    "Test=Test.assign(Cabin=test.Cabin.fillna('Z').map(lambda x: x[0]))"
   ]
  },
  {
   "cell_type": "markdown",
   "metadata": {},
   "source": [
    "I use the label encoder of sklearn to encode the categorical features of the datasets"
   ]
  },
  {
   "cell_type": "code",
   "execution_count": 16,
   "metadata": {},
   "outputs": [],
   "source": [
    "from sklearn.preprocessing import LabelEncoder\n",
    "\n",
    "cats=['Title','Sex','Cabin','Embarked']\n",
    "AllData=pd.concat([Data,Test])\n",
    "\n",
    "for cat in cats:\n",
    "    encoder=LabelEncoder()\n",
    "    encoder.fit(AllData[cat])\n",
    "    Data[cat]=encoder.transform(Data[cat])\n",
    "    Test[cat]=encoder.transform(Test[cat])"
   ]
  },
  {
   "cell_type": "code",
   "execution_count": 17,
   "metadata": {},
   "outputs": [
    {
     "data": {
      "text/html": [
       "<div>\n",
       "<style scoped>\n",
       "    .dataframe tbody tr th:only-of-type {\n",
       "        vertical-align: middle;\n",
       "    }\n",
       "\n",
       "    .dataframe tbody tr th {\n",
       "        vertical-align: top;\n",
       "    }\n",
       "\n",
       "    .dataframe thead th {\n",
       "        text-align: right;\n",
       "    }\n",
       "</style>\n",
       "<table border=\"1\" class=\"dataframe\">\n",
       "  <thead>\n",
       "    <tr style=\"text-align: right;\">\n",
       "      <th></th>\n",
       "      <th>Survived</th>\n",
       "      <th>Pclass</th>\n",
       "      <th>Sex</th>\n",
       "      <th>SibSp</th>\n",
       "      <th>Parch</th>\n",
       "      <th>Family</th>\n",
       "      <th>Age</th>\n",
       "      <th>Fare</th>\n",
       "      <th>Title</th>\n",
       "      <th>Embarked</th>\n",
       "      <th>Cabin</th>\n",
       "    </tr>\n",
       "    <tr>\n",
       "      <th>PassengerId</th>\n",
       "      <th></th>\n",
       "      <th></th>\n",
       "      <th></th>\n",
       "      <th></th>\n",
       "      <th></th>\n",
       "      <th></th>\n",
       "      <th></th>\n",
       "      <th></th>\n",
       "      <th></th>\n",
       "      <th></th>\n",
       "      <th></th>\n",
       "    </tr>\n",
       "  </thead>\n",
       "  <tbody>\n",
       "    <tr>\n",
       "      <th>1</th>\n",
       "      <td>0</td>\n",
       "      <td>3</td>\n",
       "      <td>1</td>\n",
       "      <td>1</td>\n",
       "      <td>0</td>\n",
       "      <td>1</td>\n",
       "      <td>22.0</td>\n",
       "      <td>2.692582</td>\n",
       "      <td>12</td>\n",
       "      <td>2</td>\n",
       "      <td>8</td>\n",
       "    </tr>\n",
       "    <tr>\n",
       "      <th>2</th>\n",
       "      <td>1</td>\n",
       "      <td>1</td>\n",
       "      <td>0</td>\n",
       "      <td>1</td>\n",
       "      <td>0</td>\n",
       "      <td>1</td>\n",
       "      <td>38.0</td>\n",
       "      <td>8.442944</td>\n",
       "      <td>13</td>\n",
       "      <td>0</td>\n",
       "      <td>2</td>\n",
       "    </tr>\n",
       "    <tr>\n",
       "      <th>3</th>\n",
       "      <td>1</td>\n",
       "      <td>3</td>\n",
       "      <td>0</td>\n",
       "      <td>0</td>\n",
       "      <td>0</td>\n",
       "      <td>0</td>\n",
       "      <td>26.0</td>\n",
       "      <td>2.815138</td>\n",
       "      <td>9</td>\n",
       "      <td>2</td>\n",
       "      <td>8</td>\n",
       "    </tr>\n",
       "    <tr>\n",
       "      <th>4</th>\n",
       "      <td>1</td>\n",
       "      <td>1</td>\n",
       "      <td>0</td>\n",
       "      <td>1</td>\n",
       "      <td>0</td>\n",
       "      <td>1</td>\n",
       "      <td>35.0</td>\n",
       "      <td>7.286975</td>\n",
       "      <td>13</td>\n",
       "      <td>2</td>\n",
       "      <td>2</td>\n",
       "    </tr>\n",
       "    <tr>\n",
       "      <th>5</th>\n",
       "      <td>0</td>\n",
       "      <td>3</td>\n",
       "      <td>1</td>\n",
       "      <td>0</td>\n",
       "      <td>0</td>\n",
       "      <td>0</td>\n",
       "      <td>35.0</td>\n",
       "      <td>2.837252</td>\n",
       "      <td>12</td>\n",
       "      <td>2</td>\n",
       "      <td>8</td>\n",
       "    </tr>\n",
       "  </tbody>\n",
       "</table>\n",
       "</div>"
      ],
      "text/plain": [
       "             Survived  Pclass  Sex  SibSp  Parch  Family   Age      Fare  \\\n",
       "PassengerId                                                                \n",
       "1                   0       3    1      1      0       1  22.0  2.692582   \n",
       "2                   1       1    0      1      0       1  38.0  8.442944   \n",
       "3                   1       3    0      0      0       0  26.0  2.815138   \n",
       "4                   1       1    0      1      0       1  35.0  7.286975   \n",
       "5                   0       3    1      0      0       0  35.0  2.837252   \n",
       "\n",
       "             Title  Embarked  Cabin  \n",
       "PassengerId                          \n",
       "1               12         2      8  \n",
       "2               13         0      2  \n",
       "3                9         2      8  \n",
       "4               13         2      2  \n",
       "5               12         2      8  "
      ]
     },
     "execution_count": 17,
     "metadata": {},
     "output_type": "execute_result"
    }
   ],
   "source": [
    "Data.head(5)"
   ]
  },
  {
   "cell_type": "markdown",
   "metadata": {},
   "source": [
    "I set apart 20% of the data for validation of the training algorithm.\n",
    "The shuffling is random, but I set a seed so the partitioning is always the same.\n",
    "I check that the two classes are well distributed."
   ]
  },
  {
   "cell_type": "code",
   "execution_count": 18,
   "metadata": {},
   "outputs": [
    {
     "name": "stdout",
     "output_type": "stream",
     "text": [
      "True\n",
      "[array([0.62973352, 0.37026648]), array([0.56179775, 0.43820225])]\n"
     ]
    }
   ],
   "source": [
    "train=Data.sample(frac=0.8,random_state=121)\n",
    "valid=Data.drop(train.index,axis=0)\n",
    "print(len(set(np.concatenate([train.index,valid.index])))==len(train)+len(valid)==len(Data))\n",
    "print([train.Survived.value_counts().values/len(train),valid.Survived.value_counts().values/len(valid)])"
   ]
  },
  {
   "cell_type": "markdown",
   "metadata": {},
   "source": [
    "I get the data ready to use with lightgbm"
   ]
  },
  {
   "cell_type": "code",
   "execution_count": 19,
   "metadata": {},
   "outputs": [],
   "source": [
    "features=train.columns.drop('Survived')\n",
    "Train=lgbm.Dataset(train[features],label=train['Survived'])\n",
    "Valid=lgbm.Dataset(valid[features],label=valid['Survived'])"
   ]
  },
  {
   "cell_type": "markdown",
   "metadata": {},
   "source": [
    "### Implementation of AUC metric"
   ]
  },
  {
   "cell_type": "markdown",
   "metadata": {},
   "source": [
    "In order to get a better understanding of the auc metric I implement it here.\n",
    "I start with a prerun function which partitions the interval of probabilities, [0,1], into a lattice of n values and finds the last one (i0) where the rate of false positives (FPR) is still 0, and the first one (i1) where FPR is 1.\n",
    "The idea is that I can scan the interval fast with a small value of n, and then attemp more precision later by looking only within the interval [ i0, i1 ], since values outside this interval do not contribute to the AUC metric."
   ]
  },
  {
   "cell_type": "code",
   "execution_count": 20,
   "metadata": {},
   "outputs": [],
   "source": [
    "def prerun(labels,probs,n):\n",
    "    Neg=(1-labels).sum()\n",
    "    FP=0\n",
    "    i=0\n",
    "    while FP < Neg:\n",
    "        i+=1\n",
    "        predictions= probs > (1-i/n)\n",
    "        FP=(1-labels[predictions]).sum()\n",
    "        if FP==0:\n",
    "            i0=1-i/n\n",
    "    i1=1-i/n\n",
    "    return i0,i1"
   ]
  },
  {
   "cell_type": "markdown",
   "metadata": {},
   "source": [
    "The function score divides the interval [ i0, i1 ] (found with prerun) into a lattice of n values, each setting a different value for the threshold that allows us to set the predictions to 0 or 1. At each value of the threshold I compute the rate of false positives (FPR) and the rate of true positives (FPR), which allow to obtain the plot the  curve defining the metric.\n",
    "I then use the trapezoidal rule for approximating the area under the curve (AUC), and also compute the accuracy at each value of the threshold.\n",
    "There is a parameter p which gives the degree of the polynomial used to scan the interval [ i0, i1], which I will analyze later."
   ]
  },
  {
   "cell_type": "code",
   "execution_count": 21,
   "metadata": {},
   "outputs": [],
   "source": [
    "def MyAUC(labels,probs,nr,n,p):\n",
    "    Pos=labels.sum()\n",
    "    Neg=len(labels)-Pos \n",
    "    init,fin=prerun(labels,probs,nr)\n",
    "    FPRs=[0.]\n",
    "    TPRs=[0.]\n",
    "    auc=[]\n",
    "    accuracies=[]\n",
    "    thresholds=[]\n",
    "    for i in range(0,n+1):\n",
    "        threshold=init-(init-fin)*(1-(1-i/n)**p)\n",
    "        thresholds.append(threshold)\n",
    "        predictions=probs>threshold\n",
    "        TP=labels[predictions].sum()\n",
    "        FP=predictions.sum()-TP\n",
    "        FPR=FP/Neg\n",
    "        TPR=TP/Pos\n",
    "        auc.append((FPR-FPRs[-1])*(TPR+TPRs[-1])/2)\n",
    "        FPRs.append(FPR)\n",
    "        TPRs.append(TPR)\n",
    "        accuracy=np.sum([i==j for i,j in np.array([labels,predictions]).T])/len(labels)\n",
    "        accuracies.append(accuracy)\n",
    "    posmax=np.argmax(accuracies)\n",
    "    return FPRs,TPRs,auc,accuracies[posmax],thresholds[posmax]"
   ]
  },
  {
   "cell_type": "markdown",
   "metadata": {},
   "source": [
    "The function rescale takes the data found with MyAUC for some high value of n, and produces the AUC result that would be obtained for a smaller value of n. This is so that I can study the convergence of the AUC value with a single run."
   ]
  },
  {
   "cell_type": "code",
   "execution_count": 22,
   "metadata": {},
   "outputs": [],
   "source": [
    "def rescale(x,y,n_old,n_new):\n",
    "    selection=[1+int(n_old*i/n_new) for i in range(0,n_new+1)]\n",
    "    x_new=np.array(x)[selection]\n",
    "    y_new=np.array(y)[selection]\n",
    "    return ((x_new[1:]-x_new[:-1])*(y_new[1:]+y_new[:-1])/2).sum()"
   ]
  },
  {
   "cell_type": "markdown",
   "metadata": {},
   "source": [
    "# Gradient-boosted Implementation"
   ]
  },
  {
   "cell_type": "markdown",
   "metadata": {},
   "source": [
    "### Model 1"
   ]
  },
  {
   "cell_type": "markdown",
   "metadata": {},
   "source": [
    "I set the trees to have 16 leaves, and choose the AUC metric. I select 200 rounds of training, but with early stopping if the results do not improve after 100 rounds."
   ]
  },
  {
   "cell_type": "code",
   "execution_count": 40,
   "metadata": {},
   "outputs": [
    {
     "name": "stdout",
     "output_type": "stream",
     "text": [
      "[1]\tvalid_0's auc: 0.829231\n",
      "Training until validation scores don't improve for 100 rounds\n",
      "[2]\tvalid_0's auc: 0.828462\n",
      "[3]\tvalid_0's auc: 0.829167\n",
      "[4]\tvalid_0's auc: 0.827244\n",
      "[5]\tvalid_0's auc: 0.830577\n",
      "[6]\tvalid_0's auc: 0.831923\n",
      "[7]\tvalid_0's auc: 0.833526\n",
      "[8]\tvalid_0's auc: 0.834936\n",
      "[9]\tvalid_0's auc: 0.835\n",
      "[10]\tvalid_0's auc: 0.836282\n",
      "[11]\tvalid_0's auc: 0.839679\n",
      "[12]\tvalid_0's auc: 0.838654\n",
      "[13]\tvalid_0's auc: 0.838526\n",
      "[14]\tvalid_0's auc: 0.849872\n",
      "[15]\tvalid_0's auc: 0.856026\n",
      "[16]\tvalid_0's auc: 0.856346\n",
      "[17]\tvalid_0's auc: 0.857885\n",
      "[18]\tvalid_0's auc: 0.859936\n",
      "[19]\tvalid_0's auc: 0.857885\n",
      "[20]\tvalid_0's auc: 0.854551\n",
      "[21]\tvalid_0's auc: 0.854679\n",
      "[22]\tvalid_0's auc: 0.853718\n",
      "[23]\tvalid_0's auc: 0.853782\n",
      "[24]\tvalid_0's auc: 0.855897\n",
      "[25]\tvalid_0's auc: 0.855192\n",
      "[26]\tvalid_0's auc: 0.854295\n",
      "[27]\tvalid_0's auc: 0.855064\n",
      "[28]\tvalid_0's auc: 0.855513\n",
      "[29]\tvalid_0's auc: 0.854295\n",
      "[30]\tvalid_0's auc: 0.856859\n",
      "[31]\tvalid_0's auc: 0.856731\n",
      "[32]\tvalid_0's auc: 0.855064\n",
      "[33]\tvalid_0's auc: 0.855385\n",
      "[34]\tvalid_0's auc: 0.855385\n",
      "[35]\tvalid_0's auc: 0.855\n",
      "[36]\tvalid_0's auc: 0.854872\n",
      "[37]\tvalid_0's auc: 0.850385\n",
      "[38]\tvalid_0's auc: 0.85141\n",
      "[39]\tvalid_0's auc: 0.850385\n",
      "[40]\tvalid_0's auc: 0.85\n",
      "[41]\tvalid_0's auc: 0.849231\n",
      "[42]\tvalid_0's auc: 0.84641\n",
      "[43]\tvalid_0's auc: 0.845769\n",
      "[44]\tvalid_0's auc: 0.845513\n",
      "[45]\tvalid_0's auc: 0.843013\n",
      "[46]\tvalid_0's auc: 0.844423\n",
      "[47]\tvalid_0's auc: 0.84391\n",
      "[48]\tvalid_0's auc: 0.844808\n",
      "[49]\tvalid_0's auc: 0.844295\n",
      "[50]\tvalid_0's auc: 0.841987\n",
      "[51]\tvalid_0's auc: 0.840192\n",
      "[52]\tvalid_0's auc: 0.839295\n",
      "[53]\tvalid_0's auc: 0.836667\n",
      "[54]\tvalid_0's auc: 0.837564\n",
      "[55]\tvalid_0's auc: 0.83641\n",
      "[56]\tvalid_0's auc: 0.836538\n",
      "[57]\tvalid_0's auc: 0.833846\n",
      "[58]\tvalid_0's auc: 0.833974\n",
      "[59]\tvalid_0's auc: 0.834487\n",
      "[60]\tvalid_0's auc: 0.835513\n",
      "[61]\tvalid_0's auc: 0.835128\n",
      "[62]\tvalid_0's auc: 0.834103\n",
      "[63]\tvalid_0's auc: 0.83359\n",
      "[64]\tvalid_0's auc: 0.833462\n",
      "[65]\tvalid_0's auc: 0.834359\n",
      "[66]\tvalid_0's auc: 0.83359\n",
      "[67]\tvalid_0's auc: 0.833846\n",
      "[68]\tvalid_0's auc: 0.832051\n",
      "[69]\tvalid_0's auc: 0.832692\n",
      "[70]\tvalid_0's auc: 0.832692\n",
      "[71]\tvalid_0's auc: 0.832051\n",
      "[72]\tvalid_0's auc: 0.831282\n",
      "[73]\tvalid_0's auc: 0.830256\n",
      "[74]\tvalid_0's auc: 0.831923\n",
      "[75]\tvalid_0's auc: 0.83141\n",
      "[76]\tvalid_0's auc: 0.831282\n",
      "[77]\tvalid_0's auc: 0.829872\n",
      "[78]\tvalid_0's auc: 0.82859\n",
      "[79]\tvalid_0's auc: 0.826667\n",
      "[80]\tvalid_0's auc: 0.825897\n",
      "[81]\tvalid_0's auc: 0.825385\n",
      "[82]\tvalid_0's auc: 0.824359\n",
      "[83]\tvalid_0's auc: 0.822821\n",
      "[84]\tvalid_0's auc: 0.82359\n",
      "[85]\tvalid_0's auc: 0.823077\n",
      "[86]\tvalid_0's auc: 0.822949\n",
      "[87]\tvalid_0's auc: 0.823077\n",
      "[88]\tvalid_0's auc: 0.822308\n",
      "[89]\tvalid_0's auc: 0.821538\n",
      "[90]\tvalid_0's auc: 0.822949\n",
      "[91]\tvalid_0's auc: 0.822564\n",
      "[92]\tvalid_0's auc: 0.820897\n",
      "[93]\tvalid_0's auc: 0.819872\n",
      "[94]\tvalid_0's auc: 0.821667\n",
      "[95]\tvalid_0's auc: 0.821795\n",
      "[96]\tvalid_0's auc: 0.822949\n",
      "[97]\tvalid_0's auc: 0.821923\n",
      "[98]\tvalid_0's auc: 0.821795\n",
      "[99]\tvalid_0's auc: 0.822692\n",
      "[100]\tvalid_0's auc: 0.821282\n",
      "[101]\tvalid_0's auc: 0.821795\n",
      "[102]\tvalid_0's auc: 0.821538\n",
      "[103]\tvalid_0's auc: 0.821795\n",
      "[104]\tvalid_0's auc: 0.821795\n",
      "[105]\tvalid_0's auc: 0.820641\n",
      "[106]\tvalid_0's auc: 0.818974\n",
      "[107]\tvalid_0's auc: 0.819487\n",
      "[108]\tvalid_0's auc: 0.819487\n",
      "[109]\tvalid_0's auc: 0.818205\n",
      "[110]\tvalid_0's auc: 0.817949\n",
      "[111]\tvalid_0's auc: 0.817692\n",
      "[112]\tvalid_0's auc: 0.815897\n",
      "[113]\tvalid_0's auc: 0.815256\n",
      "[114]\tvalid_0's auc: 0.816026\n",
      "[115]\tvalid_0's auc: 0.815897\n",
      "[116]\tvalid_0's auc: 0.816154\n",
      "[117]\tvalid_0's auc: 0.816538\n",
      "[118]\tvalid_0's auc: 0.816795\n",
      "Early stopping, best iteration is:\n",
      "[18]\tvalid_0's auc: 0.859936\n"
     ]
    }
   ],
   "source": [
    "param1={'num_leaves':16,'objective':'binary','metric':'auc','learning_rate':0.1}\n",
    "model1=lgbm.train(param1,Train,200,valid_sets=[Valid],verbose_eval=True,early_stopping_rounds=100)"
   ]
  },
  {
   "cell_type": "markdown",
   "metadata": {},
   "source": [
    "I check the AUC score from the sklearn. It is quite different between the training and validation set.\n",
    "In order to find accuracy I would have to find what is the best threshold to use, I will do that later with MyAUC function which also outputs the accuracy score."
   ]
  },
  {
   "cell_type": "code",
   "execution_count": 41,
   "metadata": {},
   "outputs": [
    {
     "name": "stdout",
     "output_type": "stream",
     "text": [
      "0.9261405817641897\n",
      "0.8599358974358975\n"
     ]
    }
   ],
   "source": [
    "print(sl.metrics.roc_auc_score(train['Survived'], model1.predict(train[features])))\n",
    "print(sl.metrics.roc_auc_score(valid['Survived'], model1.predict(valid[features])))"
   ]
  },
  {
   "cell_type": "markdown",
   "metadata": {},
   "source": [
    "I check also the accuracy obtained with threshold=0.5"
   ]
  },
  {
   "cell_type": "code",
   "execution_count": 42,
   "metadata": {},
   "outputs": [
    {
     "name": "stdout",
     "output_type": "stream",
     "text": [
      "0.8695652173913043\n",
      "0.797752808988764\n"
     ]
    }
   ],
   "source": [
    "print(sl.metrics.accuracy_score(train['Survived'], [int(i+0.5) for i in model1.predict(train[features])]))\n",
    "print(sl.metrics.accuracy_score(valid['Survived'], [int(i+0.5) for i in model1.predict(valid[features])]))"
   ]
  },
  {
   "cell_type": "markdown",
   "metadata": {},
   "source": [
    "### Model 2"
   ]
  },
  {
   "cell_type": "markdown",
   "metadata": {},
   "source": [
    "Same parameters as above, except that I use accuracy as a metric"
   ]
  },
  {
   "cell_type": "code",
   "execution_count": 27,
   "metadata": {},
   "outputs": [
    {
     "name": "stdout",
     "output_type": "stream",
     "text": [
      "[1]\tvalid_0's binary_error: 0.438202\n",
      "Training until validation scores don't improve for 100 rounds\n",
      "[2]\tvalid_0's binary_error: 0.438202\n",
      "[3]\tvalid_0's binary_error: 0.247191\n",
      "[4]\tvalid_0's binary_error: 0.247191\n",
      "[5]\tvalid_0's binary_error: 0.247191\n",
      "[6]\tvalid_0's binary_error: 0.224719\n",
      "[7]\tvalid_0's binary_error: 0.224719\n",
      "[8]\tvalid_0's binary_error: 0.224719\n",
      "[9]\tvalid_0's binary_error: 0.224719\n",
      "[10]\tvalid_0's binary_error: 0.224719\n",
      "[11]\tvalid_0's binary_error: 0.224719\n",
      "[12]\tvalid_0's binary_error: 0.224719\n",
      "[13]\tvalid_0's binary_error: 0.219101\n",
      "[14]\tvalid_0's binary_error: 0.202247\n",
      "[15]\tvalid_0's binary_error: 0.202247\n",
      "[16]\tvalid_0's binary_error: 0.202247\n",
      "[17]\tvalid_0's binary_error: 0.202247\n",
      "[18]\tvalid_0's binary_error: 0.202247\n",
      "[19]\tvalid_0's binary_error: 0.213483\n",
      "[20]\tvalid_0's binary_error: 0.213483\n",
      "[21]\tvalid_0's binary_error: 0.213483\n",
      "[22]\tvalid_0's binary_error: 0.213483\n",
      "[23]\tvalid_0's binary_error: 0.207865\n",
      "[24]\tvalid_0's binary_error: 0.202247\n",
      "[25]\tvalid_0's binary_error: 0.202247\n",
      "[26]\tvalid_0's binary_error: 0.202247\n",
      "[27]\tvalid_0's binary_error: 0.196629\n",
      "[28]\tvalid_0's binary_error: 0.202247\n",
      "[29]\tvalid_0's binary_error: 0.202247\n",
      "[30]\tvalid_0's binary_error: 0.202247\n",
      "[31]\tvalid_0's binary_error: 0.196629\n",
      "[32]\tvalid_0's binary_error: 0.202247\n",
      "[33]\tvalid_0's binary_error: 0.202247\n",
      "[34]\tvalid_0's binary_error: 0.196629\n",
      "[35]\tvalid_0's binary_error: 0.196629\n",
      "[36]\tvalid_0's binary_error: 0.196629\n",
      "[37]\tvalid_0's binary_error: 0.196629\n",
      "[38]\tvalid_0's binary_error: 0.196629\n",
      "[39]\tvalid_0's binary_error: 0.196629\n",
      "[40]\tvalid_0's binary_error: 0.196629\n",
      "[41]\tvalid_0's binary_error: 0.196629\n",
      "[42]\tvalid_0's binary_error: 0.196629\n",
      "[43]\tvalid_0's binary_error: 0.196629\n",
      "[44]\tvalid_0's binary_error: 0.196629\n",
      "[45]\tvalid_0's binary_error: 0.196629\n",
      "[46]\tvalid_0's binary_error: 0.196629\n",
      "[47]\tvalid_0's binary_error: 0.196629\n",
      "[48]\tvalid_0's binary_error: 0.196629\n",
      "[49]\tvalid_0's binary_error: 0.196629\n",
      "[50]\tvalid_0's binary_error: 0.191011\n",
      "[51]\tvalid_0's binary_error: 0.191011\n",
      "[52]\tvalid_0's binary_error: 0.191011\n",
      "[53]\tvalid_0's binary_error: 0.191011\n",
      "[54]\tvalid_0's binary_error: 0.191011\n",
      "[55]\tvalid_0's binary_error: 0.191011\n",
      "[56]\tvalid_0's binary_error: 0.196629\n",
      "[57]\tvalid_0's binary_error: 0.191011\n",
      "[58]\tvalid_0's binary_error: 0.191011\n",
      "[59]\tvalid_0's binary_error: 0.191011\n",
      "[60]\tvalid_0's binary_error: 0.191011\n",
      "[61]\tvalid_0's binary_error: 0.191011\n",
      "[62]\tvalid_0's binary_error: 0.185393\n",
      "[63]\tvalid_0's binary_error: 0.191011\n",
      "[64]\tvalid_0's binary_error: 0.191011\n",
      "[65]\tvalid_0's binary_error: 0.191011\n",
      "[66]\tvalid_0's binary_error: 0.191011\n",
      "[67]\tvalid_0's binary_error: 0.191011\n",
      "[68]\tvalid_0's binary_error: 0.191011\n",
      "[69]\tvalid_0's binary_error: 0.191011\n",
      "[70]\tvalid_0's binary_error: 0.191011\n",
      "[71]\tvalid_0's binary_error: 0.191011\n",
      "[72]\tvalid_0's binary_error: 0.191011\n",
      "[73]\tvalid_0's binary_error: 0.191011\n",
      "[74]\tvalid_0's binary_error: 0.191011\n",
      "[75]\tvalid_0's binary_error: 0.191011\n",
      "[76]\tvalid_0's binary_error: 0.185393\n",
      "[77]\tvalid_0's binary_error: 0.185393\n",
      "[78]\tvalid_0's binary_error: 0.185393\n",
      "[79]\tvalid_0's binary_error: 0.191011\n",
      "[80]\tvalid_0's binary_error: 0.191011\n",
      "[81]\tvalid_0's binary_error: 0.191011\n",
      "[82]\tvalid_0's binary_error: 0.185393\n",
      "[83]\tvalid_0's binary_error: 0.185393\n",
      "[84]\tvalid_0's binary_error: 0.185393\n",
      "[85]\tvalid_0's binary_error: 0.185393\n",
      "[86]\tvalid_0's binary_error: 0.185393\n",
      "[87]\tvalid_0's binary_error: 0.185393\n",
      "[88]\tvalid_0's binary_error: 0.185393\n",
      "[89]\tvalid_0's binary_error: 0.185393\n",
      "[90]\tvalid_0's binary_error: 0.185393\n",
      "[91]\tvalid_0's binary_error: 0.191011\n",
      "[92]\tvalid_0's binary_error: 0.185393\n",
      "[93]\tvalid_0's binary_error: 0.185393\n",
      "[94]\tvalid_0's binary_error: 0.191011\n",
      "[95]\tvalid_0's binary_error: 0.196629\n",
      "[96]\tvalid_0's binary_error: 0.196629\n",
      "[97]\tvalid_0's binary_error: 0.196629\n",
      "[98]\tvalid_0's binary_error: 0.196629\n",
      "[99]\tvalid_0's binary_error: 0.191011\n",
      "[100]\tvalid_0's binary_error: 0.196629\n",
      "[101]\tvalid_0's binary_error: 0.196629\n",
      "[102]\tvalid_0's binary_error: 0.196629\n",
      "[103]\tvalid_0's binary_error: 0.191011\n",
      "[104]\tvalid_0's binary_error: 0.191011\n",
      "[105]\tvalid_0's binary_error: 0.191011\n",
      "[106]\tvalid_0's binary_error: 0.196629\n",
      "[107]\tvalid_0's binary_error: 0.196629\n",
      "[108]\tvalid_0's binary_error: 0.196629\n",
      "[109]\tvalid_0's binary_error: 0.196629\n",
      "[110]\tvalid_0's binary_error: 0.196629\n",
      "[111]\tvalid_0's binary_error: 0.196629\n",
      "[112]\tvalid_0's binary_error: 0.202247\n",
      "[113]\tvalid_0's binary_error: 0.207865\n",
      "[114]\tvalid_0's binary_error: 0.207865\n",
      "[115]\tvalid_0's binary_error: 0.207865\n",
      "[116]\tvalid_0's binary_error: 0.207865\n",
      "[117]\tvalid_0's binary_error: 0.207865\n",
      "[118]\tvalid_0's binary_error: 0.207865\n",
      "[119]\tvalid_0's binary_error: 0.207865\n",
      "[120]\tvalid_0's binary_error: 0.202247\n",
      "[121]\tvalid_0's binary_error: 0.207865\n",
      "[122]\tvalid_0's binary_error: 0.213483\n",
      "[123]\tvalid_0's binary_error: 0.213483\n",
      "[124]\tvalid_0's binary_error: 0.213483\n",
      "[125]\tvalid_0's binary_error: 0.213483\n",
      "[126]\tvalid_0's binary_error: 0.213483\n",
      "[127]\tvalid_0's binary_error: 0.213483\n",
      "[128]\tvalid_0's binary_error: 0.213483\n",
      "[129]\tvalid_0's binary_error: 0.213483\n",
      "[130]\tvalid_0's binary_error: 0.213483\n",
      "[131]\tvalid_0's binary_error: 0.213483\n",
      "[132]\tvalid_0's binary_error: 0.213483\n",
      "[133]\tvalid_0's binary_error: 0.213483\n",
      "[134]\tvalid_0's binary_error: 0.213483\n",
      "[135]\tvalid_0's binary_error: 0.219101\n",
      "[136]\tvalid_0's binary_error: 0.213483\n",
      "[137]\tvalid_0's binary_error: 0.224719\n",
      "[138]\tvalid_0's binary_error: 0.230337\n",
      "[139]\tvalid_0's binary_error: 0.230337\n",
      "[140]\tvalid_0's binary_error: 0.224719\n",
      "[141]\tvalid_0's binary_error: 0.230337\n",
      "[142]\tvalid_0's binary_error: 0.224719\n",
      "[143]\tvalid_0's binary_error: 0.230337\n",
      "[144]\tvalid_0's binary_error: 0.224719\n",
      "[145]\tvalid_0's binary_error: 0.224719\n",
      "[146]\tvalid_0's binary_error: 0.224719\n",
      "[147]\tvalid_0's binary_error: 0.230337\n",
      "[148]\tvalid_0's binary_error: 0.224719\n",
      "[149]\tvalid_0's binary_error: 0.224719\n",
      "[150]\tvalid_0's binary_error: 0.230337\n",
      "[151]\tvalid_0's binary_error: 0.230337\n",
      "[152]\tvalid_0's binary_error: 0.230337\n",
      "[153]\tvalid_0's binary_error: 0.230337\n",
      "[154]\tvalid_0's binary_error: 0.230337\n",
      "[155]\tvalid_0's binary_error: 0.230337\n",
      "[156]\tvalid_0's binary_error: 0.235955\n",
      "[157]\tvalid_0's binary_error: 0.235955\n",
      "[158]\tvalid_0's binary_error: 0.235955\n",
      "[159]\tvalid_0's binary_error: 0.235955\n",
      "[160]\tvalid_0's binary_error: 0.235955\n",
      "[161]\tvalid_0's binary_error: 0.235955\n",
      "[162]\tvalid_0's binary_error: 0.235955\n",
      "Early stopping, best iteration is:\n",
      "[62]\tvalid_0's binary_error: 0.185393\n"
     ]
    }
   ],
   "source": [
    "param2={'num_leaves':16,'objective':'binary','metric':'binary_error','learning_rate':0.1}\n",
    "model2=lgbm.train(param2,Train,200,valid_sets=[Valid],verbose_eval=True,early_stopping_rounds=100)"
   ]
  },
  {
   "cell_type": "markdown",
   "metadata": {},
   "source": [
    "The AUC score is slightly lower than in the previous model, but that is expected as I used the accuracy metric for training instead."
   ]
  },
  {
   "cell_type": "code",
   "execution_count": 43,
   "metadata": {},
   "outputs": [
    {
     "name": "stdout",
     "output_type": "stream",
     "text": [
      "0.9726285685361409\n",
      "0.834102564102564\n"
     ]
    }
   ],
   "source": [
    "print(sl.metrics.roc_auc_score(train['Survived'], model2.predict(train[features])))\n",
    "print(sl.metrics.roc_auc_score(valid['Survived'], model2.predict(valid[features])))"
   ]
  },
  {
   "cell_type": "markdown",
   "metadata": {},
   "source": [
    "I check the accuracy obtained with threshold=0.5 (in fact I output the error, to check that it matches the validation error output by the model)."
   ]
  },
  {
   "cell_type": "code",
   "execution_count": 44,
   "metadata": {},
   "outputs": [
    {
     "name": "stdout",
     "output_type": "stream",
     "text": [
      "0.08274894810659184\n",
      "0.1853932584269663\n"
     ]
    }
   ],
   "source": [
    "print(1-sl.metrics.accuracy_score(train['Survived'], [int(i+0.5) for i in model2.predict(train[features])]))\n",
    "print(1-sl.metrics.accuracy_score(valid['Survived'], [int(i+0.5) for i in model2.predict(valid[features])]))"
   ]
  },
  {
   "cell_type": "markdown",
   "metadata": {},
   "source": [
    "The accuracy on the validation set is better with the second model than with the first. This makes sense as it was trained with the relevant metric. Since the evaluation of the model with through the accuracy, it makes sense to train with that metric."
   ]
  },
  {
   "cell_type": "code",
   "execution_count": 45,
   "metadata": {},
   "outputs": [
    {
     "name": "stdout",
     "output_type": "stream",
     "text": [
      "0.202247191011236\n"
     ]
    }
   ],
   "source": [
    "print(1-sl.metrics.accuracy_score(valid['Survived'], [int(i+0.5) for i in model1.predict(valid[features])]))"
   ]
  },
  {
   "cell_type": "markdown",
   "metadata": {},
   "source": [
    "I save the predictions for the test dataset"
   ]
  },
  {
   "cell_type": "code",
   "execution_count": 32,
   "metadata": {},
   "outputs": [],
   "source": [
    "PredF=[int(x+0.5) for x in model2.predict(Test)]\n",
    "Final=Test[[]].assign(Survived=PredF)\n",
    "Final.to_csv(\"Final.csv\")"
   ]
  },
  {
   "cell_type": "markdown",
   "metadata": {},
   "source": [
    "### Understanding the AUC metric"
   ]
  },
  {
   "cell_type": "markdown",
   "metadata": {},
   "source": [
    "I look at the evolution of the FPR, TPR and cumulative AUC values as I scan through possible threshold values. I observe that the contribution to the AUC value is highly skewed, coming mostly from the last threshold values. The plots here are obtained with a discretization of the threshold window through a polynomial of degree 1.\n",
    "At the end I plot also the AUC curve."
   ]
  },
  {
   "cell_type": "code",
   "execution_count": 33,
   "metadata": {},
   "outputs": [
    {
     "name": "stdout",
     "output_type": "stream",
     "text": [
      "0.9726960585813593 0.9256661991584852 0.45522000000000007\n"
     ]
    },
    {
     "data": {
      "image/png": "[encoded data removed]",
      "text/plain": [
       "<Figure size 1296x648 with 4 Axes>"
      ]
     },
     "metadata": {
      "needs_background": "light"
     },
     "output_type": "display_data"
    }
   ],
   "source": [
    "AUCtest1=MyAUC(train['Survived'],model2.predict(train[features]),100,500,1)\n",
    "AUCtest1b=np.cumsum(AUCtest1[2])\n",
    "print(sum(AUCtest1[2]),AUCtest1[3],AUCtest1[4])\n",
    "plt.figure(figsize=(18,9))\n",
    "plt.subplot(231)\n",
    "plt.plot(AUCtest1[0],'r',AUCtest1[1],'b',AUCtest1b,'g')\n",
    "plt.xlabel('Threshold Lattice #')\n",
    "plt.legend(['FPR','TPR','CumAUC'])\n",
    "plt.subplot(232)\n",
    "plt.yscale('log')\n",
    "plt.xlabel('Threshold Lattice #')\n",
    "plt.ylabel('CumAUC')\n",
    "plt.plot(AUCtest1b)\n",
    "plt.subplot(233)\n",
    "plt.plot(AUCtest1[2])\n",
    "plt.xlabel('Threshold Lattice #')\n",
    "plt.ylabel('AUC increments')\n",
    "plt.subplot(234)\n",
    "plt.plot(AUCtest1[0],AUCtest1[1])\n",
    "plt.xlabel('FPR')\n",
    "plt.ylabel('TPR');"
   ]
  },
  {
   "cell_type": "markdown",
   "metadata": {},
   "source": [
    "Note that even with the second model, which was trained with the accuracy metric, the best accuracy appears at values other than 0.5. I shall use that threshold value nonetheless, as it is the one assumed when training."
   ]
  },
  {
   "cell_type": "code",
   "execution_count": 34,
   "metadata": {},
   "outputs": [
    {
     "name": "stdout",
     "output_type": "stream",
     "text": [
      "[(0.9256661991584852, 0.45522000000000007), (0.8146067415730337, 0.6078600000000001)]\n"
     ]
    }
   ],
   "source": [
    "print([MyAUC(train['Survived'],model2.predict(train[features]),100,500,1)[3:],\n",
    "       MyAUC(valid['Survived'],model2.predict(valid[features]),100,500,1)[3:]])"
   ]
  },
  {
   "cell_type": "markdown",
   "metadata": {},
   "source": [
    "I do the same analysis as above, but for polynomials for discretization of degree 2 and 3. These higher orders do seem to spread better the contribution to the AUC value."
   ]
  },
  {
   "cell_type": "code",
   "execution_count": 35,
   "metadata": {},
   "outputs": [
    {
     "name": "stdout",
     "output_type": "stream",
     "text": [
      "0.9726960585813593 0.9256661991584852 0.45562500000000006\n"
     ]
    },
    {
     "data": {
      "image/png": "[encoded data removed]",
      "text/plain": [
       "<Figure size 1296x288 with 3 Axes>"
      ]
     },
     "metadata": {
      "needs_background": "light"
     },
     "output_type": "display_data"
    }
   ],
   "source": [
    "AUCtest2=MyAUC(train['Survived'],model2.predict(train[features]),100,500,2)\n",
    "AUCtest2b=np.cumsum(AUCtest2[2])\n",
    "print(sum(AUCtest2[2]),AUCtest2[3],AUCtest2[4])\n",
    "plt.figure(figsize=(18,4))\n",
    "plt.subplot(131)\n",
    "plt.plot(AUCtest2[0],'r',AUCtest2[1],'b',AUCtest2b,'g')\n",
    "plt.xlabel('Threshold Lattice #')\n",
    "plt.legend(['FPR','TPR','CumAUC'])\n",
    "plt.subplot(132)\n",
    "plt.plot(AUCtest2[2])\n",
    "plt.xlabel('Threshold Lattice #')\n",
    "plt.ylabel('AUC increments')\n",
    "plt.subplot(133)\n",
    "plt.plot(AUCtest2[0],AUCtest2[1])\n",
    "plt.xlabel('FPR')\n",
    "plt.ylabel('TPR');"
   ]
  },
  {
   "cell_type": "code",
   "execution_count": 36,
   "metadata": {},
   "outputs": [
    {
     "name": "stdout",
     "output_type": "stream",
     "text": [
      "0.972712931092664 0.9256661991584852 0.4466080800000001\n"
     ]
    },
    {
     "data": {
      "image/png": "[encoded data removed]",
      "text/plain": [
       "<Figure size 1296x288 with 3 Axes>"
      ]
     },
     "metadata": {
      "needs_background": "light"
     },
     "output_type": "display_data"
    }
   ],
   "source": [
    "AUCtest3=MyAUC(train['Survived'],model2.predict(train[features]),100,500,3)\n",
    "AUCtest3b=np.cumsum(AUCtest3[2])\n",
    "print(sum(AUCtest3[2]),AUCtest3[3],AUCtest3[4])\n",
    "plt.figure(figsize=(18,4))\n",
    "plt.subplot(131)\n",
    "plt.plot(AUCtest3[0],'r',AUCtest3[1],'b',AUCtest3b,'g');\n",
    "plt.xlabel('Threshold Lattice #')\n",
    "plt.legend(['FPR','TPR','CumAUC'])\n",
    "plt.subplot(132)\n",
    "plt.plot(AUCtest3[2])\n",
    "plt.xlabel('Threshold Lattice #')\n",
    "plt.ylabel('AUC increments')\n",
    "plt.subplot(133)\n",
    "plt.plot(AUCtest3[0],AUCtest3[1])\n",
    "plt.xlabel('FPR')\n",
    "plt.ylabel('TPR');"
   ]
  },
  {
   "cell_type": "markdown",
   "metadata": {},
   "source": [
    "In order to better study the convergence of the 3 different discretizations, I obtain the data for the AUC curve with a tightly-knit lattice of 10000 values."
   ]
  },
  {
   "cell_type": "code",
   "execution_count": 37,
   "metadata": {},
   "outputs": [
    {
     "data": {
      "text/plain": [
       "[0.972637004791793, 0.9726201322804885, 0.972632786663967]"
      ]
     },
     "execution_count": 37,
     "metadata": {},
     "output_type": "execute_result"
    }
   ],
   "source": [
    "AUCtest4=MyAUC(train['Survived'],model2.predict(train[features]),100,10000,1)\n",
    "AUCtest5=MyAUC(train['Survived'],model2.predict(train[features]),100,10000,2)\n",
    "AUCtest6=MyAUC(train['Survived'],model2.predict(train[features]),100,10000,3)\n",
    "[sum(x[2]) for x in [AUCtest4,AUCtest5,AUCtest6]]"
   ]
  },
  {
   "cell_type": "markdown",
   "metadata": {},
   "source": [
    "I then use my rescale function to obtain the AUC values for a range of coarser lattices, and plot all the evolution of the AUC value for the 3 different polynomial orders. Despite the better spread found above, this plot does not present any evidence that higher orders provide better results."
   ]
  },
  {
   "cell_type": "code",
   "execution_count": 38,
   "metadata": {},
   "outputs": [
    {
     "data": {
      "image/png": "[encoded data removed]",
      "text/plain": [
       "<Figure size 1296x432 with 1 Axes>"
      ]
     },
     "metadata": {
      "needs_background": "light"
     },
     "output_type": "display_data"
    }
   ],
   "source": [
    "AUCtest4b=[rescale(AUCtest4[0],AUCtest4[1],10000,50*i) for i in range(4,100+1)]\n",
    "AUCtest5b=[rescale(AUCtest5[0],AUCtest5[1],10000,50*i) for i in range(4,100+1)]\n",
    "AUCtest6b=[rescale(AUCtest6[0],AUCtest6[1],10000,50*i) for i in range(4,100+1)]\n",
    "x_axis=[50*i for i in range(4,100+1)]\n",
    "plt.figure(figsize=(18,6))\n",
    "plt.plot(x_axis,AUCtest4b,'r',x_axis,AUCtest5b,'b',x_axis,AUCtest6b,'g')\n",
    "plt.legend(['p=1','p=2','p=3'])\n",
    "plt.xlabel('n')\n",
    "plt.ylabel('AUC');"
   ]
  },
  {
   "cell_type": "markdown",
   "metadata": {},
   "source": [
    "# Different validation sets"
   ]
  },
  {
   "cell_type": "markdown",
   "metadata": {},
   "source": [
    "### Smaller"
   ]
  },
  {
   "cell_type": "markdown",
   "metadata": {},
   "source": [
    "Since the dataset is so small, I try to use a smaller validation set. This increases the available training data, but it is more prone to overfitting"
   ]
  },
  {
   "cell_type": "code",
   "execution_count": 62,
   "metadata": {},
   "outputs": [
    {
     "name": "stdout",
     "output_type": "stream",
     "text": [
      "True\n",
      "[array([0.61845387, 0.38154613]), array([0.59550562, 0.40449438])]\n"
     ]
    }
   ],
   "source": [
    "trainB=Data.sample(frac=0.9,random_state=121)\n",
    "validB=Data.drop(trainB.index,axis=0)\n",
    "print(len(set(np.concatenate([trainB.index,validB.index])))==len(trainB)+len(validB)==len(Data))\n",
    "print([trainB.Survived.value_counts().values/len(trainB),validB.Survived.value_counts().values/len(validB)])"
   ]
  },
  {
   "cell_type": "code",
   "execution_count": 63,
   "metadata": {},
   "outputs": [],
   "source": [
    "features=trainB.columns.drop('Survived')\n",
    "TrainB=lgbm.Dataset(trainB[features],label=trainB['Survived'])\n",
    "ValidB=lgbm.Dataset(validB[features],label=validB['Survived'])"
   ]
  },
  {
   "cell_type": "markdown",
   "metadata": {},
   "source": [
    "I decrease the number of leaves to 16, and also decrease a little the learning rate, while naturally increasing the number of rounds. I also wait longer before allowing early stopping."
   ]
  },
  {
   "cell_type": "code",
   "execution_count": 64,
   "metadata": {},
   "outputs": [
    {
     "name": "stdout",
     "output_type": "stream",
     "text": [
      "[1]\tvalid_0's binary_error: 0.404494\n",
      "Training until validation scores don't improve for 100 rounds\n",
      "[2]\tvalid_0's binary_error: 0.404494\n",
      "[3]\tvalid_0's binary_error: 0.247191\n",
      "[4]\tvalid_0's binary_error: 0.280899\n",
      "[5]\tvalid_0's binary_error: 0.280899\n",
      "[6]\tvalid_0's binary_error: 0.247191\n",
      "[7]\tvalid_0's binary_error: 0.247191\n",
      "[8]\tvalid_0's binary_error: 0.247191\n",
      "[9]\tvalid_0's binary_error: 0.224719\n",
      "[10]\tvalid_0's binary_error: 0.224719\n",
      "[11]\tvalid_0's binary_error: 0.224719\n",
      "[12]\tvalid_0's binary_error: 0.224719\n",
      "[13]\tvalid_0's binary_error: 0.224719\n",
      "[14]\tvalid_0's binary_error: 0.235955\n",
      "[15]\tvalid_0's binary_error: 0.235955\n",
      "[16]\tvalid_0's binary_error: 0.235955\n",
      "[17]\tvalid_0's binary_error: 0.235955\n",
      "[18]\tvalid_0's binary_error: 0.247191\n",
      "[19]\tvalid_0's binary_error: 0.235955\n",
      "[20]\tvalid_0's binary_error: 0.247191\n",
      "[21]\tvalid_0's binary_error: 0.224719\n",
      "[22]\tvalid_0's binary_error: 0.235955\n",
      "[23]\tvalid_0's binary_error: 0.258427\n",
      "[24]\tvalid_0's binary_error: 0.247191\n",
      "[25]\tvalid_0's binary_error: 0.258427\n",
      "[26]\tvalid_0's binary_error: 0.235955\n",
      "[27]\tvalid_0's binary_error: 0.247191\n",
      "[28]\tvalid_0's binary_error: 0.235955\n",
      "[29]\tvalid_0's binary_error: 0.235955\n",
      "[30]\tvalid_0's binary_error: 0.247191\n",
      "[31]\tvalid_0's binary_error: 0.235955\n",
      "[32]\tvalid_0's binary_error: 0.269663\n",
      "[33]\tvalid_0's binary_error: 0.235955\n",
      "[34]\tvalid_0's binary_error: 0.235955\n",
      "[35]\tvalid_0's binary_error: 0.258427\n",
      "[36]\tvalid_0's binary_error: 0.247191\n",
      "[37]\tvalid_0's binary_error: 0.235955\n",
      "[38]\tvalid_0's binary_error: 0.235955\n",
      "[39]\tvalid_0's binary_error: 0.235955\n",
      "[40]\tvalid_0's binary_error: 0.247191\n",
      "[41]\tvalid_0's binary_error: 0.258427\n",
      "[42]\tvalid_0's binary_error: 0.258427\n",
      "[43]\tvalid_0's binary_error: 0.258427\n",
      "[44]\tvalid_0's binary_error: 0.247191\n",
      "[45]\tvalid_0's binary_error: 0.247191\n",
      "[46]\tvalid_0's binary_error: 0.247191\n",
      "[47]\tvalid_0's binary_error: 0.247191\n",
      "[48]\tvalid_0's binary_error: 0.247191\n",
      "[49]\tvalid_0's binary_error: 0.247191\n",
      "[50]\tvalid_0's binary_error: 0.247191\n",
      "[51]\tvalid_0's binary_error: 0.247191\n",
      "[52]\tvalid_0's binary_error: 0.235955\n",
      "[53]\tvalid_0's binary_error: 0.224719\n",
      "[54]\tvalid_0's binary_error: 0.235955\n",
      "[55]\tvalid_0's binary_error: 0.224719\n",
      "[56]\tvalid_0's binary_error: 0.235955\n",
      "[57]\tvalid_0's binary_error: 0.247191\n",
      "[58]\tvalid_0's binary_error: 0.235955\n",
      "[59]\tvalid_0's binary_error: 0.224719\n",
      "[60]\tvalid_0's binary_error: 0.235955\n",
      "[61]\tvalid_0's binary_error: 0.247191\n",
      "[62]\tvalid_0's binary_error: 0.247191\n",
      "[63]\tvalid_0's binary_error: 0.247191\n",
      "[64]\tvalid_0's binary_error: 0.247191\n",
      "[65]\tvalid_0's binary_error: 0.247191\n",
      "[66]\tvalid_0's binary_error: 0.247191\n",
      "[67]\tvalid_0's binary_error: 0.247191\n",
      "[68]\tvalid_0's binary_error: 0.247191\n",
      "[69]\tvalid_0's binary_error: 0.247191\n",
      "[70]\tvalid_0's binary_error: 0.247191\n",
      "[71]\tvalid_0's binary_error: 0.235955\n",
      "[72]\tvalid_0's binary_error: 0.224719\n",
      "[73]\tvalid_0's binary_error: 0.224719\n",
      "[74]\tvalid_0's binary_error: 0.224719\n",
      "[75]\tvalid_0's binary_error: 0.224719\n",
      "[76]\tvalid_0's binary_error: 0.224719\n",
      "[77]\tvalid_0's binary_error: 0.224719\n",
      "[78]\tvalid_0's binary_error: 0.224719\n",
      "[79]\tvalid_0's binary_error: 0.224719\n",
      "[80]\tvalid_0's binary_error: 0.224719\n",
      "[81]\tvalid_0's binary_error: 0.224719\n",
      "[82]\tvalid_0's binary_error: 0.224719\n",
      "[83]\tvalid_0's binary_error: 0.224719\n",
      "[84]\tvalid_0's binary_error: 0.224719\n",
      "[85]\tvalid_0's binary_error: 0.224719\n",
      "[86]\tvalid_0's binary_error: 0.235955\n",
      "[87]\tvalid_0's binary_error: 0.235955\n",
      "[88]\tvalid_0's binary_error: 0.235955\n",
      "[89]\tvalid_0's binary_error: 0.235955\n",
      "[90]\tvalid_0's binary_error: 0.235955\n",
      "[91]\tvalid_0's binary_error: 0.235955\n",
      "[92]\tvalid_0's binary_error: 0.235955\n",
      "[93]\tvalid_0's binary_error: 0.235955\n",
      "[94]\tvalid_0's binary_error: 0.235955\n",
      "[95]\tvalid_0's binary_error: 0.235955\n",
      "[96]\tvalid_0's binary_error: 0.235955\n",
      "[97]\tvalid_0's binary_error: 0.235955\n",
      "[98]\tvalid_0's binary_error: 0.235955\n",
      "[99]\tvalid_0's binary_error: 0.235955\n",
      "[100]\tvalid_0's binary_error: 0.235955\n",
      "[101]\tvalid_0's binary_error: 0.235955\n",
      "[102]\tvalid_0's binary_error: 0.235955\n",
      "[103]\tvalid_0's binary_error: 0.224719\n",
      "[104]\tvalid_0's binary_error: 0.224719\n",
      "[105]\tvalid_0's binary_error: 0.224719\n",
      "[106]\tvalid_0's binary_error: 0.224719\n",
      "[107]\tvalid_0's binary_error: 0.235955\n",
      "[108]\tvalid_0's binary_error: 0.224719\n",
      "[109]\tvalid_0's binary_error: 0.224719\n",
      "Early stopping, best iteration is:\n",
      "[9]\tvalid_0's binary_error: 0.224719\n"
     ]
    }
   ],
   "source": [
    "param3={'num_leaves':16,'objective':'binary','metric':'binary_error','learning_rate':0.1}\n",
    "model3=lgbm.train(param3,TrainB,200,valid_sets=[ValidB],verbose_eval=True,early_stopping_rounds=100)"
   ]
  },
  {
   "cell_type": "markdown",
   "metadata": {},
   "source": [
    "As expected, the accuracy has now decreased, as any further training would further worsen the validation results"
   ]
  },
  {
   "cell_type": "code",
   "execution_count": 65,
   "metadata": {},
   "outputs": [
    {
     "name": "stdout",
     "output_type": "stream",
     "text": [
      "0.15960099750623447\n",
      "0.2247191011235955\n",
      "0.1853932584269663\n"
     ]
    }
   ],
   "source": [
    "print(1-sl.metrics.accuracy_score(trainB['Survived'], [int(i+0.5) for i in model3.predict(trainB[features])]))\n",
    "print(1-sl.metrics.accuracy_score(validB['Survived'], [int(i+0.5) for i in model3.predict(validB[features])]))\n",
    "print(1-sl.metrics.accuracy_score(valid['Survived'], [int(i+0.5) for i in model2.predict(valid[features])]))"
   ]
  },
  {
   "cell_type": "code",
   "execution_count": 56,
   "metadata": {},
   "outputs": [],
   "source": [
    "PredFB=[int(x+0.5) for x in model3.predict(Test)]\n",
    "FinalB=Test[[]].assign(Survived=PredFB)\n",
    "FinalB.to_csv(\"FinalB.csv\")"
   ]
  },
  {
   "cell_type": "markdown",
   "metadata": {},
   "source": [
    "### Larger"
   ]
  },
  {
   "cell_type": "markdown",
   "metadata": {},
   "source": [
    "Now I try to use a larger validation set instead."
   ]
  },
  {
   "cell_type": "code",
   "execution_count": 66,
   "metadata": {},
   "outputs": [
    {
     "name": "stdout",
     "output_type": "stream",
     "text": [
      "True\n",
      "[array([0.62339744, 0.37660256]), array([0.59925094, 0.40074906])]\n"
     ]
    }
   ],
   "source": [
    "trainC=Data.sample(frac=0.7,random_state=121)\n",
    "validC=Data.drop(trainC.index,axis=0)\n",
    "print(len(set(np.concatenate([trainC.index,validC.index])))==len(trainC)+len(validC)==len(Data))\n",
    "print([trainC.Survived.value_counts().values/len(trainC),validC.Survived.value_counts().values/len(validC)])"
   ]
  },
  {
   "cell_type": "code",
   "execution_count": 67,
   "metadata": {},
   "outputs": [],
   "source": [
    "features=trainC.columns.drop('Survived')\n",
    "TrainC=lgbm.Dataset(trainC[features],label=trainC['Survived'])\n",
    "ValidC=lgbm.Dataset(validC[features],label=validC['Survived'])"
   ]
  },
  {
   "cell_type": "code",
   "execution_count": 68,
   "metadata": {},
   "outputs": [
    {
     "name": "stdout",
     "output_type": "stream",
     "text": [
      "[1]\tvalid_0's binary_error: 0.400749\n",
      "Training until validation scores don't improve for 100 rounds\n",
      "[2]\tvalid_0's binary_error: 0.400749\n",
      "[3]\tvalid_0's binary_error: 0.217228\n",
      "[4]\tvalid_0's binary_error: 0.209738\n",
      "[5]\tvalid_0's binary_error: 0.209738\n",
      "[6]\tvalid_0's binary_error: 0.213483\n",
      "[7]\tvalid_0's binary_error: 0.191011\n",
      "[8]\tvalid_0's binary_error: 0.191011\n",
      "[9]\tvalid_0's binary_error: 0.191011\n",
      "[10]\tvalid_0's binary_error: 0.17603\n",
      "[11]\tvalid_0's binary_error: 0.17603\n",
      "[12]\tvalid_0's binary_error: 0.17603\n",
      "[13]\tvalid_0's binary_error: 0.17603\n",
      "[14]\tvalid_0's binary_error: 0.17603\n",
      "[15]\tvalid_0's binary_error: 0.179775\n",
      "[16]\tvalid_0's binary_error: 0.179775\n",
      "[17]\tvalid_0's binary_error: 0.179775\n",
      "[18]\tvalid_0's binary_error: 0.179775\n",
      "[19]\tvalid_0's binary_error: 0.183521\n",
      "[20]\tvalid_0's binary_error: 0.183521\n",
      "[21]\tvalid_0's binary_error: 0.183521\n",
      "[22]\tvalid_0's binary_error: 0.183521\n",
      "[23]\tvalid_0's binary_error: 0.183521\n",
      "[24]\tvalid_0's binary_error: 0.179775\n",
      "[25]\tvalid_0's binary_error: 0.179775\n",
      "[26]\tvalid_0's binary_error: 0.17603\n",
      "[27]\tvalid_0's binary_error: 0.179775\n",
      "[28]\tvalid_0's binary_error: 0.179775\n",
      "[29]\tvalid_0's binary_error: 0.179775\n",
      "[30]\tvalid_0's binary_error: 0.179775\n",
      "[31]\tvalid_0's binary_error: 0.183521\n",
      "[32]\tvalid_0's binary_error: 0.183521\n",
      "[33]\tvalid_0's binary_error: 0.183521\n",
      "[34]\tvalid_0's binary_error: 0.179775\n",
      "[35]\tvalid_0's binary_error: 0.179775\n",
      "[36]\tvalid_0's binary_error: 0.179775\n",
      "[37]\tvalid_0's binary_error: 0.179775\n",
      "[38]\tvalid_0's binary_error: 0.17603\n",
      "[39]\tvalid_0's binary_error: 0.172285\n",
      "[40]\tvalid_0's binary_error: 0.168539\n",
      "[41]\tvalid_0's binary_error: 0.168539\n",
      "[42]\tvalid_0's binary_error: 0.161049\n",
      "[43]\tvalid_0's binary_error: 0.164794\n",
      "[44]\tvalid_0's binary_error: 0.164794\n",
      "[45]\tvalid_0's binary_error: 0.164794\n",
      "[46]\tvalid_0's binary_error: 0.164794\n",
      "[47]\tvalid_0's binary_error: 0.168539\n",
      "[48]\tvalid_0's binary_error: 0.168539\n",
      "[49]\tvalid_0's binary_error: 0.168539\n",
      "[50]\tvalid_0's binary_error: 0.168539\n",
      "[51]\tvalid_0's binary_error: 0.168539\n",
      "[52]\tvalid_0's binary_error: 0.168539\n",
      "[53]\tvalid_0's binary_error: 0.168539\n",
      "[54]\tvalid_0's binary_error: 0.172285\n",
      "[55]\tvalid_0's binary_error: 0.168539\n",
      "[56]\tvalid_0's binary_error: 0.172285\n",
      "[57]\tvalid_0's binary_error: 0.168539\n",
      "[58]\tvalid_0's binary_error: 0.168539\n",
      "[59]\tvalid_0's binary_error: 0.168539\n",
      "[60]\tvalid_0's binary_error: 0.172285\n",
      "[61]\tvalid_0's binary_error: 0.172285\n",
      "[62]\tvalid_0's binary_error: 0.17603\n",
      "[63]\tvalid_0's binary_error: 0.17603\n",
      "[64]\tvalid_0's binary_error: 0.172285\n",
      "[65]\tvalid_0's binary_error: 0.172285\n",
      "[66]\tvalid_0's binary_error: 0.172285\n",
      "[67]\tvalid_0's binary_error: 0.172285\n",
      "[68]\tvalid_0's binary_error: 0.17603\n",
      "[69]\tvalid_0's binary_error: 0.17603\n",
      "[70]\tvalid_0's binary_error: 0.179775\n",
      "[71]\tvalid_0's binary_error: 0.179775\n",
      "[72]\tvalid_0's binary_error: 0.179775\n",
      "[73]\tvalid_0's binary_error: 0.179775\n",
      "[74]\tvalid_0's binary_error: 0.179775\n",
      "[75]\tvalid_0's binary_error: 0.179775\n",
      "[76]\tvalid_0's binary_error: 0.179775\n",
      "[77]\tvalid_0's binary_error: 0.179775\n",
      "[78]\tvalid_0's binary_error: 0.183521\n",
      "[79]\tvalid_0's binary_error: 0.183521\n",
      "[80]\tvalid_0's binary_error: 0.183521\n",
      "[81]\tvalid_0's binary_error: 0.187266\n",
      "[82]\tvalid_0's binary_error: 0.187266\n",
      "[83]\tvalid_0's binary_error: 0.187266\n",
      "[84]\tvalid_0's binary_error: 0.187266\n",
      "[85]\tvalid_0's binary_error: 0.187266\n",
      "[86]\tvalid_0's binary_error: 0.187266\n",
      "[87]\tvalid_0's binary_error: 0.187266\n",
      "[88]\tvalid_0's binary_error: 0.183521\n",
      "[89]\tvalid_0's binary_error: 0.183521\n",
      "[90]\tvalid_0's binary_error: 0.183521\n",
      "[91]\tvalid_0's binary_error: 0.183521\n",
      "[92]\tvalid_0's binary_error: 0.17603\n",
      "[93]\tvalid_0's binary_error: 0.183521\n",
      "[94]\tvalid_0's binary_error: 0.187266\n",
      "[95]\tvalid_0's binary_error: 0.183521\n",
      "[96]\tvalid_0's binary_error: 0.183521\n",
      "[97]\tvalid_0's binary_error: 0.179775\n",
      "[98]\tvalid_0's binary_error: 0.179775\n",
      "[99]\tvalid_0's binary_error: 0.179775\n",
      "[100]\tvalid_0's binary_error: 0.183521\n",
      "[101]\tvalid_0's binary_error: 0.183521\n",
      "[102]\tvalid_0's binary_error: 0.191011\n",
      "[103]\tvalid_0's binary_error: 0.187266\n",
      "[104]\tvalid_0's binary_error: 0.191011\n",
      "[105]\tvalid_0's binary_error: 0.191011\n",
      "[106]\tvalid_0's binary_error: 0.191011\n",
      "[107]\tvalid_0's binary_error: 0.191011\n",
      "[108]\tvalid_0's binary_error: 0.194757\n",
      "[109]\tvalid_0's binary_error: 0.194757\n",
      "[110]\tvalid_0's binary_error: 0.194757\n",
      "[111]\tvalid_0's binary_error: 0.191011\n",
      "[112]\tvalid_0's binary_error: 0.191011\n",
      "[113]\tvalid_0's binary_error: 0.191011\n",
      "[114]\tvalid_0's binary_error: 0.191011\n",
      "[115]\tvalid_0's binary_error: 0.191011\n",
      "[116]\tvalid_0's binary_error: 0.194757\n",
      "[117]\tvalid_0's binary_error: 0.194757\n",
      "[118]\tvalid_0's binary_error: 0.198502\n",
      "[119]\tvalid_0's binary_error: 0.194757\n",
      "[120]\tvalid_0's binary_error: 0.191011\n",
      "[121]\tvalid_0's binary_error: 0.191011\n",
      "[122]\tvalid_0's binary_error: 0.191011\n",
      "[123]\tvalid_0's binary_error: 0.191011\n",
      "[124]\tvalid_0's binary_error: 0.194757\n",
      "[125]\tvalid_0's binary_error: 0.194757\n",
      "[126]\tvalid_0's binary_error: 0.194757\n",
      "[127]\tvalid_0's binary_error: 0.194757\n",
      "[128]\tvalid_0's binary_error: 0.194757\n",
      "[129]\tvalid_0's binary_error: 0.194757\n",
      "[130]\tvalid_0's binary_error: 0.194757\n",
      "[131]\tvalid_0's binary_error: 0.194757\n",
      "[132]\tvalid_0's binary_error: 0.194757\n",
      "[133]\tvalid_0's binary_error: 0.194757\n",
      "[134]\tvalid_0's binary_error: 0.194757\n",
      "[135]\tvalid_0's binary_error: 0.198502\n",
      "[136]\tvalid_0's binary_error: 0.198502\n",
      "[137]\tvalid_0's binary_error: 0.198502\n",
      "[138]\tvalid_0's binary_error: 0.202247\n",
      "[139]\tvalid_0's binary_error: 0.202247\n",
      "[140]\tvalid_0's binary_error: 0.198502\n",
      "[141]\tvalid_0's binary_error: 0.198502\n",
      "[142]\tvalid_0's binary_error: 0.202247\n",
      "Early stopping, best iteration is:\n",
      "[42]\tvalid_0's binary_error: 0.161049\n"
     ]
    }
   ],
   "source": [
    "param4={'num_leaves':16,'objective':'binary','metric':'binary_error','learning_rate':0.1}\n",
    "model4=lgbm.train(param4,TrainC,200,valid_sets=[ValidC],verbose_eval=True,early_stopping_rounds=100)"
   ]
  },
  {
   "cell_type": "markdown",
   "metadata": {},
   "source": [
    "As expected, the validation accuracy improved, even though the training error increased. It is unclear if the results of the test set will be better or worse, but there is potential for improvement"
   ]
  },
  {
   "cell_type": "code",
   "execution_count": 69,
   "metadata": {},
   "outputs": [
    {
     "name": "stdout",
     "output_type": "stream",
     "text": [
      "0.10256410256410253\n",
      "0.16104868913857673\n",
      "0.1853932584269663\n"
     ]
    }
   ],
   "source": [
    "print(1-sl.metrics.accuracy_score(trainC['Survived'], [int(i+0.5) for i in model4.predict(trainC[features])]))\n",
    "print(1-sl.metrics.accuracy_score(validC['Survived'], [int(i+0.5) for i in model4.predict(validC[features])]))\n",
    "print(1-sl.metrics.accuracy_score(valid['Survived'], [int(i+0.5) for i in model2.predict(valid[features])]))"
   ]
  },
  {
   "cell_type": "code",
   "execution_count": 70,
   "metadata": {},
   "outputs": [],
   "source": [
    "PredFC=[int(x+0.5) for x in model4.predict(Test)]\n",
    "FinalC=Test[[]].assign(Survived=PredFC)\n",
    "FinalC.to_csv(\"FinalC.csv\")"
   ]
  },
  {
   "cell_type": "markdown",
   "metadata": {},
   "source": [
    "# Cross-validation"
   ]
  },
  {
   "cell_type": "markdown",
   "metadata": {},
   "source": [
    "Since the dataset is so small, it can be useful to use cross-validation, so that we actually train using the whole dataset.\n",
    "I start with a 5-fold split, yielding 20% data for validation in each iteration."
   ]
  },
  {
   "cell_type": "code",
   "execution_count": 72,
   "metadata": {},
   "outputs": [],
   "source": [
    "KF=sl.model_selection.KFold(n_splits=5,shuffle=False)"
   ]
  },
  {
   "cell_type": "code",
   "execution_count": 76,
   "metadata": {},
   "outputs": [],
   "source": [
    "features=Data.columns.drop('Survived')\n",
    "paramKF={'num_leaves':16,'objective':'binary','metric':'binary_error','learning_rate':0.09}\n",
    "accuraciesA=[]\n",
    "resultsA=[]\n",
    "for train_ind,valid_ind in KF.split(Data):\n",
    "    trainKF=Data.iloc[train_ind]\n",
    "    validKF=Data.iloc[valid_ind]\n",
    "    TrainKF=lgbm.Dataset(trainKF[features],label=trainKF['Survived'])\n",
    "    ValidKF=lgbm.Dataset(validKF[features],label=validKF['Survived'])\n",
    "    modelKF=lgbm.train(paramKF,TrainKF,200,valid_sets=[ValidKF],verbose_eval=False,early_stopping_rounds=100)\n",
    "    accuracy=sl.metrics.accuracy_score(validKF['Survived'], [int(i+0.5) for i in modelKF.predict(validKF[features])])\n",
    "    accuraciesA.append(accuracy)\n",
    "    resultsA.append(modelKF.predict(Test))"
   ]
  },
  {
   "cell_type": "markdown",
   "metadata": {},
   "source": [
    "The accuracies obtained with each of the 5 folds"
   ]
  },
  {
   "cell_type": "code",
   "execution_count": 79,
   "metadata": {},
   "outputs": [
    {
     "name": "stdout",
     "output_type": "stream",
     "text": [
      "[0.8435754189944135, 0.8426966292134831, 0.8707865168539326, 0.8314606741573034, 0.8876404494382022]\n"
     ]
    }
   ],
   "source": [
    "print(accuraciesA)"
   ]
  },
  {
   "cell_type": "markdown",
   "metadata": {},
   "source": [
    "The final prediction is set by the average of the probabilities from each of the 5 folds"
   ]
  },
  {
   "cell_type": "code",
   "execution_count": 86,
   "metadata": {},
   "outputs": [],
   "source": [
    "PredKFA=[int(x+0.5) for x in (np.sum(resultsA,axis=0)/5)]\n",
    "FinalKFA=Test[[]].assign(Survived=PredKFA)\n",
    "FinalKFA.to_csv(\"FinalKFA.csv\")"
   ]
  },
  {
   "cell_type": "markdown",
   "metadata": {},
   "source": [
    "Given my previous analysis on the size of the validation sets, I will attempt now cross-validation with only 3 folds."
   ]
  },
  {
   "cell_type": "code",
   "execution_count": 88,
   "metadata": {},
   "outputs": [],
   "source": [
    "KF2=sl.model_selection.KFold(n_splits=3,shuffle=False)"
   ]
  },
  {
   "cell_type": "code",
   "execution_count": 89,
   "metadata": {},
   "outputs": [],
   "source": [
    "features=Data.columns.drop('Survived')\n",
    "paramKF2={'num_leaves':16,'objective':'binary','metric':'binary_error','learning_rate':0.09}\n",
    "accuraciesB=[]\n",
    "resultsB=[]\n",
    "for train_ind,valid_ind in KF2.split(Data):\n",
    "    trainKF2=Data.iloc[train_ind]\n",
    "    validKF2=Data.iloc[valid_ind]\n",
    "    TrainKF2=lgbm.Dataset(trainKF2[features],label=trainKF2['Survived'])\n",
    "    ValidKF2=lgbm.Dataset(validKF2[features],label=validKF2['Survived'])\n",
    "    modelKF2=lgbm.train(paramKF2,TrainKF2,200,valid_sets=[ValidKF2],verbose_eval=False,early_stopping_rounds=100)\n",
    "    accuracy=sl.metrics.accuracy_score(validKF2['Survived'], [int(i+0.5) for i in modelKF2.predict(validKF2[features])])\n",
    "    accuraciesB.append(accuracy)\n",
    "    resultsB.append(modelKF2.predict(Test))\n",
    "    "
   ]
  },
  {
   "cell_type": "code",
   "execution_count": 90,
   "metadata": {},
   "outputs": [
    {
     "name": "stdout",
     "output_type": "stream",
     "text": [
      "[0.8383838383838383, 0.8484848484848485, 0.8585858585858586]\n"
     ]
    }
   ],
   "source": [
    "print(accuraciesB)"
   ]
  },
  {
   "cell_type": "code",
   "execution_count": 91,
   "metadata": {},
   "outputs": [],
   "source": [
    "PredKFB=[int(x+0.5) for x in (np.sum(resultsB,axis=0)/3)]\n",
    "FinalKFB=Test[[]].assign(Survived=PredKFB)\n",
    "FinalKFB.to_csv(\"FinalKFB.csv\")"
   ]
  }
 ],
 "metadata": {
  "kernelspec": {
   "display_name": "Python 3",
   "language": "python",
   "name": "python3"
  },
  "language_info": {
   "codemirror_mode": {
    "name": "ipython",
    "version": 3
   },
   "file_extension": ".py",
   "mimetype": "text/x-python",
   "name": "python",
   "nbconvert_exporter": "python",
   "pygments_lexer": "ipython3",
   "version": "3.8.2"
  }
 },
 "nbformat": 4,
 "nbformat_minor": 4
}
