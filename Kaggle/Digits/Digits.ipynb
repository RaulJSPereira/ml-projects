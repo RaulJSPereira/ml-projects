{
 "cells": [
  {
   "cell_type": "markdown",
   "metadata": {},
   "source": [
    "# Preliminaries"
   ]
  },
  {
   "cell_type": "markdown",
   "metadata": {},
   "source": [
    "### Import data and packages"
   ]
  },
  {
   "cell_type": "markdown",
   "metadata": {},
   "source": [
    "Import numpy and pandas.\n",
    "Import categorical encoding, necessary layers and Model from keras.\n",
    "Import matplotlib for plotting accuracies"
   ]
  },
  {
   "cell_type": "code",
   "execution_count": 1,
   "metadata": {},
   "outputs": [],
   "source": [
    "import numpy as np\n",
    "import pandas as pd\n",
    "from keras.utils import to_categorical\n",
    "from keras.layers import Input, Dense, Dropout, Flatten, Conv2D, BatchNormalization, Activation, MaxPooling2D\n",
    "from keras.models import Model\n",
    "import matplotlib.pyplot as plt"
   ]
  },
  {
   "cell_type": "markdown",
   "metadata": {},
   "source": [
    "Load datasets into pandas"
   ]
  },
  {
   "cell_type": "code",
   "execution_count": 2,
   "metadata": {},
   "outputs": [],
   "source": [
    "train=pd.read_csv('train.csv')\n",
    "test=pd.read_csv('test.csv')"
   ]
  },
  {
   "cell_type": "code",
   "execution_count": 3,
   "metadata": {
    "scrolled": true
   },
   "outputs": [
    {
     "data": {
      "text/html": [
       "<div>\n",
       "<style scoped>\n",
       "    .dataframe tbody tr th:only-of-type {\n",
       "        vertical-align: middle;\n",
       "    }\n",
       "\n",
       "    .dataframe tbody tr th {\n",
       "        vertical-align: top;\n",
       "    }\n",
       "\n",
       "    .dataframe thead th {\n",
       "        text-align: right;\n",
       "    }\n",
       "</style>\n",
       "<table border=\"1\" class=\"dataframe\">\n",
       "  <thead>\n",
       "    <tr style=\"text-align: right;\">\n",
       "      <th></th>\n",
       "      <th>label</th>\n",
       "      <th>pixel0</th>\n",
       "      <th>pixel1</th>\n",
       "      <th>pixel2</th>\n",
       "      <th>pixel3</th>\n",
       "      <th>pixel4</th>\n",
       "      <th>pixel5</th>\n",
       "      <th>pixel6</th>\n",
       "      <th>pixel7</th>\n",
       "      <th>pixel8</th>\n",
       "      <th>...</th>\n",
       "      <th>pixel774</th>\n",
       "      <th>pixel775</th>\n",
       "      <th>pixel776</th>\n",
       "      <th>pixel777</th>\n",
       "      <th>pixel778</th>\n",
       "      <th>pixel779</th>\n",
       "      <th>pixel780</th>\n",
       "      <th>pixel781</th>\n",
       "      <th>pixel782</th>\n",
       "      <th>pixel783</th>\n",
       "    </tr>\n",
       "  </thead>\n",
       "  <tbody>\n",
       "    <tr>\n",
       "      <th>0</th>\n",
       "      <td>1</td>\n",
       "      <td>0</td>\n",
       "      <td>0</td>\n",
       "      <td>0</td>\n",
       "      <td>0</td>\n",
       "      <td>0</td>\n",
       "      <td>0</td>\n",
       "      <td>0</td>\n",
       "      <td>0</td>\n",
       "      <td>0</td>\n",
       "      <td>...</td>\n",
       "      <td>0</td>\n",
       "      <td>0</td>\n",
       "      <td>0</td>\n",
       "      <td>0</td>\n",
       "      <td>0</td>\n",
       "      <td>0</td>\n",
       "      <td>0</td>\n",
       "      <td>0</td>\n",
       "      <td>0</td>\n",
       "      <td>0</td>\n",
       "    </tr>\n",
       "    <tr>\n",
       "      <th>1</th>\n",
       "      <td>0</td>\n",
       "      <td>0</td>\n",
       "      <td>0</td>\n",
       "      <td>0</td>\n",
       "      <td>0</td>\n",
       "      <td>0</td>\n",
       "      <td>0</td>\n",
       "      <td>0</td>\n",
       "      <td>0</td>\n",
       "      <td>0</td>\n",
       "      <td>...</td>\n",
       "      <td>0</td>\n",
       "      <td>0</td>\n",
       "      <td>0</td>\n",
       "      <td>0</td>\n",
       "      <td>0</td>\n",
       "      <td>0</td>\n",
       "      <td>0</td>\n",
       "      <td>0</td>\n",
       "      <td>0</td>\n",
       "      <td>0</td>\n",
       "    </tr>\n",
       "    <tr>\n",
       "      <th>2</th>\n",
       "      <td>1</td>\n",
       "      <td>0</td>\n",
       "      <td>0</td>\n",
       "      <td>0</td>\n",
       "      <td>0</td>\n",
       "      <td>0</td>\n",
       "      <td>0</td>\n",
       "      <td>0</td>\n",
       "      <td>0</td>\n",
       "      <td>0</td>\n",
       "      <td>...</td>\n",
       "      <td>0</td>\n",
       "      <td>0</td>\n",
       "      <td>0</td>\n",
       "      <td>0</td>\n",
       "      <td>0</td>\n",
       "      <td>0</td>\n",
       "      <td>0</td>\n",
       "      <td>0</td>\n",
       "      <td>0</td>\n",
       "      <td>0</td>\n",
       "    </tr>\n",
       "    <tr>\n",
       "      <th>3</th>\n",
       "      <td>4</td>\n",
       "      <td>0</td>\n",
       "      <td>0</td>\n",
       "      <td>0</td>\n",
       "      <td>0</td>\n",
       "      <td>0</td>\n",
       "      <td>0</td>\n",
       "      <td>0</td>\n",
       "      <td>0</td>\n",
       "      <td>0</td>\n",
       "      <td>...</td>\n",
       "      <td>0</td>\n",
       "      <td>0</td>\n",
       "      <td>0</td>\n",
       "      <td>0</td>\n",
       "      <td>0</td>\n",
       "      <td>0</td>\n",
       "      <td>0</td>\n",
       "      <td>0</td>\n",
       "      <td>0</td>\n",
       "      <td>0</td>\n",
       "    </tr>\n",
       "    <tr>\n",
       "      <th>4</th>\n",
       "      <td>0</td>\n",
       "      <td>0</td>\n",
       "      <td>0</td>\n",
       "      <td>0</td>\n",
       "      <td>0</td>\n",
       "      <td>0</td>\n",
       "      <td>0</td>\n",
       "      <td>0</td>\n",
       "      <td>0</td>\n",
       "      <td>0</td>\n",
       "      <td>...</td>\n",
       "      <td>0</td>\n",
       "      <td>0</td>\n",
       "      <td>0</td>\n",
       "      <td>0</td>\n",
       "      <td>0</td>\n",
       "      <td>0</td>\n",
       "      <td>0</td>\n",
       "      <td>0</td>\n",
       "      <td>0</td>\n",
       "      <td>0</td>\n",
       "    </tr>\n",
       "  </tbody>\n",
       "</table>\n",
       "<p>5 rows × 785 columns</p>\n",
       "</div>"
      ],
      "text/plain": [
       "   label  pixel0  pixel1  pixel2  pixel3  pixel4  pixel5  pixel6  pixel7  \\\n",
       "0      1       0       0       0       0       0       0       0       0   \n",
       "1      0       0       0       0       0       0       0       0       0   \n",
       "2      1       0       0       0       0       0       0       0       0   \n",
       "3      4       0       0       0       0       0       0       0       0   \n",
       "4      0       0       0       0       0       0       0       0       0   \n",
       "\n",
       "   pixel8  ...  pixel774  pixel775  pixel776  pixel777  pixel778  pixel779  \\\n",
       "0       0  ...         0         0         0         0         0         0   \n",
       "1       0  ...         0         0         0         0         0         0   \n",
       "2       0  ...         0         0         0         0         0         0   \n",
       "3       0  ...         0         0         0         0         0         0   \n",
       "4       0  ...         0         0         0         0         0         0   \n",
       "\n",
       "   pixel780  pixel781  pixel782  pixel783  \n",
       "0         0         0         0         0  \n",
       "1         0         0         0         0  \n",
       "2         0         0         0         0  \n",
       "3         0         0         0         0  \n",
       "4         0         0         0         0  \n",
       "\n",
       "[5 rows x 785 columns]"
      ]
     },
     "execution_count": 3,
     "metadata": {},
     "output_type": "execute_result"
    }
   ],
   "source": [
    "train.head(5)"
   ]
  },
  {
   "cell_type": "markdown",
   "metadata": {},
   "source": [
    "### Data Inspection"
   ]
  },
  {
   "cell_type": "markdown",
   "metadata": {},
   "source": [
    "I set some parameters:\n",
    "\n",
    "m  = number of training examples,\n",
    "\n",
    "dt = total number of pixels,\n",
    "\n",
    "d  = number of pixels on dimension of the matrix (square root of d2),\n",
    "\n",
    "n  = number of classes."
   ]
  },
  {
   "cell_type": "code",
   "execution_count": 4,
   "metadata": {},
   "outputs": [
    {
     "name": "stdout",
     "output_type": "stream",
     "text": [
      "[42000, 784, 28, 10]\n"
     ]
    }
   ],
   "source": [
    "m=train.shape[0]\n",
    "dt=train.shape[1]-1\n",
    "d=int(np.sqrt(dt))\n",
    "n=len(train.label.value_counts())\n",
    "print([m,dt,d,n])"
   ]
  },
  {
   "cell_type": "markdown",
   "metadata": {},
   "source": [
    "I check that neither the training nor the test sets have missing values"
   ]
  },
  {
   "cell_type": "code",
   "execution_count": 5,
   "metadata": {},
   "outputs": [
    {
     "data": {
      "text/plain": [
       "Index([], dtype='object')"
      ]
     },
     "execution_count": 5,
     "metadata": {},
     "output_type": "execute_result"
    }
   ],
   "source": [
    "test.columns[pd.concat([train.drop('label',axis=1),test]).isnull().sum()>0]"
   ]
  },
  {
   "cell_type": "markdown",
   "metadata": {},
   "source": [
    "I check that there is an even distribution of training examples across the different classes"
   ]
  },
  {
   "cell_type": "code",
   "execution_count": 6,
   "metadata": {
    "scrolled": true
   },
   "outputs": [
    {
     "data": {
      "text/plain": [
       "0    4132\n",
       "1    4684\n",
       "2    4177\n",
       "3    4351\n",
       "4    4072\n",
       "5    3795\n",
       "6    4137\n",
       "7    4401\n",
       "8    4063\n",
       "9    4188\n",
       "Name: label, dtype: int64"
      ]
     },
     "execution_count": 6,
     "metadata": {},
     "output_type": "execute_result"
    }
   ],
   "source": [
    "train['label'].value_counts(sort=False)"
   ]
  },
  {
   "cell_type": "markdown",
   "metadata": {},
   "source": [
    "Some statistics on the pixel values. \n",
    "I compute Pixel_stats for each pixel, using all training example. \n",
    "Then I get statistics for each Pixel_stat.\n",
    "For example, the minimum value for each pixel is always 0, but the maximum value is not always 255."
   ]
  },
  {
   "cell_type": "code",
   "execution_count": 7,
   "metadata": {
    "scrolled": true
   },
   "outputs": [
    {
     "data": {
      "text/html": [
       "<div>\n",
       "<style scoped>\n",
       "    .dataframe tbody tr th:only-of-type {\n",
       "        vertical-align: middle;\n",
       "    }\n",
       "\n",
       "    .dataframe tbody tr th {\n",
       "        vertical-align: top;\n",
       "    }\n",
       "\n",
       "    .dataframe thead th {\n",
       "        text-align: right;\n",
       "    }\n",
       "</style>\n",
       "<table border=\"1\" class=\"dataframe\">\n",
       "  <thead>\n",
       "    <tr style=\"text-align: right;\">\n",
       "      <th></th>\n",
       "      <th>Pixel_mean</th>\n",
       "      <th>Pixel_std</th>\n",
       "      <th>Pixel_min</th>\n",
       "      <th>Pixel_25%</th>\n",
       "      <th>Pixel_50%</th>\n",
       "      <th>Pixel_75%</th>\n",
       "      <th>Pixel_max</th>\n",
       "    </tr>\n",
       "  </thead>\n",
       "  <tbody>\n",
       "    <tr>\n",
       "      <th>mean</th>\n",
       "      <td>33.408911</td>\n",
       "      <td>49.307334</td>\n",
       "      <td>0.0</td>\n",
       "      <td>0.0</td>\n",
       "      <td>12.241709</td>\n",
       "      <td>62.629145</td>\n",
       "      <td>217.676020</td>\n",
       "    </tr>\n",
       "    <tr>\n",
       "      <th>std</th>\n",
       "      <td>42.573157</td>\n",
       "      <td>44.174709</td>\n",
       "      <td>0.0</td>\n",
       "      <td>0.0</td>\n",
       "      <td>33.240031</td>\n",
       "      <td>99.211592</td>\n",
       "      <td>83.830621</td>\n",
       "    </tr>\n",
       "    <tr>\n",
       "      <th>min</th>\n",
       "      <td>0.000000</td>\n",
       "      <td>0.000000</td>\n",
       "      <td>0.0</td>\n",
       "      <td>0.0</td>\n",
       "      <td>0.000000</td>\n",
       "      <td>0.000000</td>\n",
       "      <td>0.000000</td>\n",
       "    </tr>\n",
       "    <tr>\n",
       "      <th>25%</th>\n",
       "      <td>0.129470</td>\n",
       "      <td>4.626490</td>\n",
       "      <td>0.0</td>\n",
       "      <td>0.0</td>\n",
       "      <td>0.000000</td>\n",
       "      <td>0.000000</td>\n",
       "      <td>255.000000</td>\n",
       "    </tr>\n",
       "    <tr>\n",
       "      <th>50%</th>\n",
       "      <td>7.231500</td>\n",
       "      <td>36.771597</td>\n",
       "      <td>0.0</td>\n",
       "      <td>0.0</td>\n",
       "      <td>0.000000</td>\n",
       "      <td>0.000000</td>\n",
       "      <td>255.000000</td>\n",
       "    </tr>\n",
       "    <tr>\n",
       "      <th>75%</th>\n",
       "      <td>69.034262</td>\n",
       "      <td>100.692231</td>\n",
       "      <td>0.0</td>\n",
       "      <td>0.0</td>\n",
       "      <td>0.000000</td>\n",
       "      <td>153.187500</td>\n",
       "      <td>255.000000</td>\n",
       "    </tr>\n",
       "    <tr>\n",
       "      <th>max</th>\n",
       "      <td>139.826143</td>\n",
       "      <td>113.850143</td>\n",
       "      <td>0.0</td>\n",
       "      <td>0.0</td>\n",
       "      <td>173.000000</td>\n",
       "      <td>253.000000</td>\n",
       "      <td>255.000000</td>\n",
       "    </tr>\n",
       "  </tbody>\n",
       "</table>\n",
       "</div>"
      ],
      "text/plain": [
       "      Pixel_mean   Pixel_std  Pixel_min  Pixel_25%   Pixel_50%   Pixel_75%  \\\n",
       "mean   33.408911   49.307334        0.0        0.0   12.241709   62.629145   \n",
       "std    42.573157   44.174709        0.0        0.0   33.240031   99.211592   \n",
       "min     0.000000    0.000000        0.0        0.0    0.000000    0.000000   \n",
       "25%     0.129470    4.626490        0.0        0.0    0.000000    0.000000   \n",
       "50%     7.231500   36.771597        0.0        0.0    0.000000    0.000000   \n",
       "75%    69.034262  100.692231        0.0        0.0    0.000000  153.187500   \n",
       "max   139.826143  113.850143        0.0        0.0  173.000000  253.000000   \n",
       "\n",
       "       Pixel_max  \n",
       "mean  217.676020  \n",
       "std    83.830621  \n",
       "min     0.000000  \n",
       "25%   255.000000  \n",
       "50%   255.000000  \n",
       "75%   255.000000  \n",
       "max   255.000000  "
      ]
     },
     "execution_count": 7,
     "metadata": {},
     "output_type": "execute_result"
    }
   ],
   "source": [
    "train.drop('label',axis=1).describe().T.drop('count',axis=1).describe().drop('count',axis=0).add_prefix('Pixel_')"
   ]
  },
  {
   "cell_type": "markdown",
   "metadata": {},
   "source": [
    "# Dense Network"
   ]
  },
  {
   "cell_type": "markdown",
   "metadata": {},
   "source": [
    "### Data Preparation"
   ]
  },
  {
   "cell_type": "markdown",
   "metadata": {},
   "source": [
    "I get the dataset ready for usage with keras.\n",
    "\n",
    "Max: maximum pixel value in the training dataset\n",
    "\n",
    "x: array of pixel values from training dataset, normalized by Max\n",
    "\n",
    "y: labels transformed into n-dimensional array\n",
    "\n",
    "x_test: array of pixel values from test dataset, normalized by Max"
   ]
  },
  {
   "cell_type": "code",
   "execution_count": 8,
   "metadata": {},
   "outputs": [
    {
     "name": "stdout",
     "output_type": "stream",
     "text": [
      "[(42000, 784), 1.0, (42000, 10)]\n",
      "[(28000, 784), 1.0]\n"
     ]
    }
   ],
   "source": [
    "Max=train.max().max()\n",
    "x=train.iloc[:,1:].values/Max\n",
    "y=to_categorical(train.label,n)\n",
    "x_test=test.values/Max\n",
    "print([x.shape,x.max(),y.shape])\n",
    "print([x_test.shape,x_test.max()])"
   ]
  },
  {
   "cell_type": "markdown",
   "metadata": {},
   "source": [
    "I check that the categorical encoding of y with '1' at position 'i' of the n-dim array corresponds to label 'i'"
   ]
  },
  {
   "cell_type": "code",
   "execution_count": 9,
   "metadata": {},
   "outputs": [
    {
     "data": {
      "text/plain": [
       "[True, True, True, True, True, True, True, True, True, True]"
      ]
     },
     "execution_count": 9,
     "metadata": {},
     "output_type": "execute_result"
    }
   ],
   "source": [
    "[set(train.label[np.argmax(y,axis=1)==i])=={i} for i in range(10)]"
   ]
  },
  {
   "cell_type": "markdown",
   "metadata": {},
   "source": [
    "### Definition of the Model"
   ]
  },
  {
   "cell_type": "markdown",
   "metadata": {},
   "source": [
    "I define a fully connected network.\n",
    "Each hidden layer uses ReLU as activation function, and I use dropout after each of them for regularization.\n",
    "The number of neurons in each layer is given by the input array dims.\n",
    "The output layer has n neurons and uses softmax activation."
   ]
  },
  {
   "cell_type": "code",
   "execution_count": 10,
   "metadata": {},
   "outputs": [],
   "source": [
    "def DenseModel(dims,dropout_rate):\n",
    "    X_input=Input(shape=(dt))\n",
    "    X=X_input\n",
    "    for dim in dims:\n",
    "        X=Dense(dim,activation='relu')(X)\n",
    "        X=Dropout(dropout_rate)(X)\n",
    "    X_output=Dense(n,activation='softmax')(X)\n",
    "    model=Model(inputs=X_input,outputs=X_output)\n",
    "    return model"
   ]
  },
  {
   "cell_type": "markdown",
   "metadata": {},
   "source": [
    "### Model 1"
   ]
  },
  {
   "cell_type": "markdown",
   "metadata": {},
   "source": [
    "The first model I create has 5 hidden layers with dimensions (392, 196, 196, 98, 98), and 35% dropout rate.\n",
    "I fit the model with 20 epochs of training, batch size of 128 examples, and 20% of the dataset left for validation."
   ]
  },
  {
   "cell_type": "code",
   "execution_count": 13,
   "metadata": {},
   "outputs": [
    {
     "name": "stdout",
     "output_type": "stream",
     "text": [
      "Model: \"functional_3\"\n",
      "_________________________________________________________________\n",
      "Layer (type)                 Output Shape              Param #   \n",
      "=================================================================\n",
      "input_2 (InputLayer)         [(None, 784)]             0         \n",
      "_________________________________________________________________\n",
      "dense_6 (Dense)              (None, 392)               307720    \n",
      "_________________________________________________________________\n",
      "dropout_5 (Dropout)          (None, 392)               0         \n",
      "_________________________________________________________________\n",
      "dense_7 (Dense)              (None, 196)               77028     \n",
      "_________________________________________________________________\n",
      "dropout_6 (Dropout)          (None, 196)               0         \n",
      "_________________________________________________________________\n",
      "dense_8 (Dense)              (None, 196)               38612     \n",
      "_________________________________________________________________\n",
      "dropout_7 (Dropout)          (None, 196)               0         \n",
      "_________________________________________________________________\n",
      "dense_9 (Dense)              (None, 98)                19306     \n",
      "_________________________________________________________________\n",
      "dropout_8 (Dropout)          (None, 98)                0         \n",
      "_________________________________________________________________\n",
      "dense_10 (Dense)             (None, 98)                9702      \n",
      "_________________________________________________________________\n",
      "dropout_9 (Dropout)          (None, 98)                0         \n",
      "_________________________________________________________________\n",
      "dense_11 (Dense)             (None, 10)                990       \n",
      "=================================================================\n",
      "Total params: 453,358\n",
      "Trainable params: 453,358\n",
      "Non-trainable params: 0\n",
      "_________________________________________________________________\n"
     ]
    }
   ],
   "source": [
    "dims=[dt//2,dt//4,dt//4,dt//8,dt//8]\n",
    "model1=DenseModel(dims,0.35)\n",
    "model1.compile(optimizer='adam',loss='categorical_crossentropy',metrics=['accuracy'])\n",
    "model1.summary()"
   ]
  },
  {
   "cell_type": "code",
   "execution_count": 14,
   "metadata": {},
   "outputs": [
    {
     "name": "stdout",
     "output_type": "stream",
     "text": [
      "Epoch 1/20\n",
      "263/263 [==============================] - 2s 8ms/step - loss: 0.8678 - accuracy: 0.7097 - val_loss: 0.2213 - val_accuracy: 0.9377\n",
      "Epoch 2/20\n",
      "263/263 [==============================] - 2s 9ms/step - loss: 0.3027 - accuracy: 0.9196 - val_loss: 0.1788 - val_accuracy: 0.9540\n",
      "Epoch 3/20\n",
      "263/263 [==============================] - 2s 8ms/step - loss: 0.2253 - accuracy: 0.9410 - val_loss: 0.1365 - val_accuracy: 0.9646\n",
      "Epoch 4/20\n",
      "263/263 [==============================] - 2s 8ms/step - loss: 0.1926 - accuracy: 0.9500 - val_loss: 0.1248 - val_accuracy: 0.9671\n",
      "Epoch 5/20\n",
      "263/263 [==============================] - 2s 9ms/step - loss: 0.1567 - accuracy: 0.9591 - val_loss: 0.1265 - val_accuracy: 0.9685\n",
      "Epoch 6/20\n",
      "263/263 [==============================] - 2s 9ms/step - loss: 0.1383 - accuracy: 0.9635 - val_loss: 0.1100 - val_accuracy: 0.9729\n",
      "Epoch 7/20\n",
      "263/263 [==============================] - 2s 8ms/step - loss: 0.1283 - accuracy: 0.9665 - val_loss: 0.1137 - val_accuracy: 0.9701\n",
      "Epoch 8/20\n",
      "263/263 [==============================] - 2s 9ms/step - loss: 0.1182 - accuracy: 0.9687 - val_loss: 0.1156 - val_accuracy: 0.9714\n",
      "Epoch 9/20\n",
      "263/263 [==============================] - 2s 9ms/step - loss: 0.1063 - accuracy: 0.9714 - val_loss: 0.1040 - val_accuracy: 0.9739\n",
      "Epoch 10/20\n",
      "263/263 [==============================] - 2s 9ms/step - loss: 0.0981 - accuracy: 0.9740 - val_loss: 0.1121 - val_accuracy: 0.9738\n",
      "Epoch 11/20\n",
      "263/263 [==============================] - 2s 8ms/step - loss: 0.0892 - accuracy: 0.9765 - val_loss: 0.1060 - val_accuracy: 0.9740\n",
      "Epoch 12/20\n",
      "263/263 [==============================] - 2s 8ms/step - loss: 0.0872 - accuracy: 0.9771 - val_loss: 0.1138 - val_accuracy: 0.9739\n",
      "Epoch 13/20\n",
      "263/263 [==============================] - 2s 9ms/step - loss: 0.0806 - accuracy: 0.9777 - val_loss: 0.1128 - val_accuracy: 0.9749\n",
      "Epoch 14/20\n",
      "263/263 [==============================] - 2s 9ms/step - loss: 0.0777 - accuracy: 0.9789 - val_loss: 0.1040 - val_accuracy: 0.9757\n",
      "Epoch 15/20\n",
      "263/263 [==============================] - 2s 9ms/step - loss: 0.0734 - accuracy: 0.9804 - val_loss: 0.0999 - val_accuracy: 0.9776\n",
      "Epoch 16/20\n",
      "263/263 [==============================] - 2s 9ms/step - loss: 0.0697 - accuracy: 0.9817 - val_loss: 0.1029 - val_accuracy: 0.9774\n",
      "Epoch 17/20\n",
      "263/263 [==============================] - 2s 9ms/step - loss: 0.0662 - accuracy: 0.9826 - val_loss: 0.0976 - val_accuracy: 0.9774\n",
      "Epoch 18/20\n",
      "263/263 [==============================] - 2s 8ms/step - loss: 0.0657 - accuracy: 0.9827 - val_loss: 0.1279 - val_accuracy: 0.9723\n",
      "Epoch 19/20\n",
      "263/263 [==============================] - 3s 10ms/step - loss: 0.0578 - accuracy: 0.9840 - val_loss: 0.1101 - val_accuracy: 0.9785\n",
      "Epoch 20/20\n",
      "263/263 [==============================] - 2s 8ms/step - loss: 0.0619 - accuracy: 0.9839 - val_loss: 0.1188 - val_accuracy: 0.9758\n"
     ]
    }
   ],
   "source": [
    "hist1=model1.fit(x,y,batch_size=128,epochs=20,validation_split=0.2)"
   ]
  },
  {
   "cell_type": "markdown",
   "metadata": {},
   "source": [
    "Plot the training and validation costs for each epoch"
   ]
  },
  {
   "cell_type": "code",
   "execution_count": 68,
   "metadata": {},
   "outputs": [
    {
     "data": {
      "image/png": "[encoded data removed]",
      "text/plain": [
       "<Figure size 432x288 with 1 Axes>"
      ]
     },
     "metadata": {
      "needs_background": "light"
     },
     "output_type": "display_data"
    }
   ],
   "source": [
    "plt.plot(range(2,20),hist1.history['accuracy'][2:],range(2,20),hist1.history['val_accuracy'][2:])\n",
    "plt.ylabel('Accuracy')\n",
    "plt.xlabel('Epoch number')\n",
    "plt.legend(['training','validation'])\n",
    "plt.show()"
   ]
  },
  {
   "cell_type": "markdown",
   "metadata": {},
   "source": [
    "I set the prediction to the the class with the highest probability in the output layer (softmax) "
   ]
  },
  {
   "cell_type": "code",
   "execution_count": 20,
   "metadata": {},
   "outputs": [],
   "source": [
    "pred1=pd.DataFrame({'ImageId':range(1,len(x_test)+1),'Label':model1.predict(x_test).argmax(axis=1)}).set_index('ImageId')"
   ]
  },
  {
   "cell_type": "code",
   "execution_count": 80,
   "metadata": {},
   "outputs": [],
   "source": [
    "pred1.to_csv('pred1.csv')"
   ]
  },
  {
   "cell_type": "markdown",
   "metadata": {},
   "source": [
    "### Model2"
   ]
  },
  {
   "cell_type": "markdown",
   "metadata": {},
   "source": [
    "The second model has 7 hidden layers with dimensions (784, 784, 392, 392, 196, 196, 98), and 35% dropout rate.\n",
    "I fit the model with 25 epochs of training, batch size of 128 examples, and 20% of the dataset left for validation."
   ]
  },
  {
   "cell_type": "code",
   "execution_count": 16,
   "metadata": {},
   "outputs": [
    {
     "name": "stdout",
     "output_type": "stream",
     "text": [
      "Model: \"functional_5\"\n",
      "_________________________________________________________________\n",
      "Layer (type)                 Output Shape              Param #   \n",
      "=================================================================\n",
      "input_3 (InputLayer)         [(None, 784)]             0         \n",
      "_________________________________________________________________\n",
      "dense_12 (Dense)             (None, 784)               615440    \n",
      "_________________________________________________________________\n",
      "dropout_10 (Dropout)         (None, 784)               0         \n",
      "_________________________________________________________________\n",
      "dense_13 (Dense)             (None, 784)               615440    \n",
      "_________________________________________________________________\n",
      "dropout_11 (Dropout)         (None, 784)               0         \n",
      "_________________________________________________________________\n",
      "dense_14 (Dense)             (None, 392)               307720    \n",
      "_________________________________________________________________\n",
      "dropout_12 (Dropout)         (None, 392)               0         \n",
      "_________________________________________________________________\n",
      "dense_15 (Dense)             (None, 392)               154056    \n",
      "_________________________________________________________________\n",
      "dropout_13 (Dropout)         (None, 392)               0         \n",
      "_________________________________________________________________\n",
      "dense_16 (Dense)             (None, 196)               77028     \n",
      "_________________________________________________________________\n",
      "dropout_14 (Dropout)         (None, 196)               0         \n",
      "_________________________________________________________________\n",
      "dense_17 (Dense)             (None, 196)               38612     \n",
      "_________________________________________________________________\n",
      "dropout_15 (Dropout)         (None, 196)               0         \n",
      "_________________________________________________________________\n",
      "dense_18 (Dense)             (None, 98)                19306     \n",
      "_________________________________________________________________\n",
      "dropout_16 (Dropout)         (None, 98)                0         \n",
      "_________________________________________________________________\n",
      "dense_19 (Dense)             (None, 10)                990       \n",
      "=================================================================\n",
      "Total params: 1,828,592\n",
      "Trainable params: 1,828,592\n",
      "Non-trainable params: 0\n",
      "_________________________________________________________________\n"
     ]
    }
   ],
   "source": [
    "dims=[dt,dt,dt//2,dt//2,dt//4,dt//4,dt//8]\n",
    "model2=DenseModel(dims,0.35)\n",
    "model2.compile(optimizer='adam',loss='categorical_crossentropy',metrics=['accuracy'])\n",
    "model2.summary()"
   ]
  },
  {
   "cell_type": "code",
   "execution_count": 17,
   "metadata": {},
   "outputs": [
    {
     "name": "stdout",
     "output_type": "stream",
     "text": [
      "Epoch 1/25\n",
      "263/263 [==============================] - 8s 29ms/step - loss: 0.9251 - accuracy: 0.6846 - val_loss: 0.2491 - val_accuracy: 0.9352\n",
      "Epoch 2/25\n",
      "263/263 [==============================] - 7s 27ms/step - loss: 0.2872 - accuracy: 0.9306 - val_loss: 0.1674 - val_accuracy: 0.9579\n",
      "Epoch 3/25\n",
      "263/263 [==============================] - 7s 26ms/step - loss: 0.2112 - accuracy: 0.9496 - val_loss: 0.1600 - val_accuracy: 0.9604\n",
      "Epoch 4/25\n",
      "263/263 [==============================] - 8s 31ms/step - loss: 0.1742 - accuracy: 0.9592 - val_loss: 0.1326 - val_accuracy: 0.9687\n",
      "Epoch 5/25\n",
      "263/263 [==============================] - 8s 31ms/step - loss: 0.1528 - accuracy: 0.9636 - val_loss: 0.1293 - val_accuracy: 0.9685\n",
      "Epoch 6/25\n",
      "263/263 [==============================] - 8s 31ms/step - loss: 0.1330 - accuracy: 0.9686 - val_loss: 0.1259 - val_accuracy: 0.9707\n",
      "Epoch 7/25\n",
      "263/263 [==============================] - 9s 33ms/step - loss: 0.1259 - accuracy: 0.9694 - val_loss: 0.1291 - val_accuracy: 0.9726\n",
      "Epoch 8/25\n",
      "263/263 [==============================] - 8s 30ms/step - loss: 0.1126 - accuracy: 0.9722 - val_loss: 0.1309 - val_accuracy: 0.9704\n",
      "Epoch 9/25\n",
      "263/263 [==============================] - 8s 29ms/step - loss: 0.1111 - accuracy: 0.9733 - val_loss: 0.1209 - val_accuracy: 0.9749\n",
      "Epoch 10/25\n",
      "263/263 [==============================] - 7s 27ms/step - loss: 0.0975 - accuracy: 0.9771 - val_loss: 0.1211 - val_accuracy: 0.9748\n",
      "Epoch 11/25\n",
      "263/263 [==============================] - 8s 32ms/step - loss: 0.0905 - accuracy: 0.9785 - val_loss: 0.1249 - val_accuracy: 0.9730\n",
      "Epoch 12/25\n",
      "263/263 [==============================] - 8s 29ms/step - loss: 0.0898 - accuracy: 0.9794 - val_loss: 0.1201 - val_accuracy: 0.9756\n",
      "Epoch 13/25\n",
      "263/263 [==============================] - 8s 29ms/step - loss: 0.0820 - accuracy: 0.9806 - val_loss: 0.1246 - val_accuracy: 0.9754\n",
      "Epoch 14/25\n",
      "263/263 [==============================] - 8s 29ms/step - loss: 0.0832 - accuracy: 0.9810 - val_loss: 0.1250 - val_accuracy: 0.9773\n",
      "Epoch 15/25\n",
      "263/263 [==============================] - 9s 34ms/step - loss: 0.0804 - accuracy: 0.9823 - val_loss: 0.1237 - val_accuracy: 0.9773\n",
      "Epoch 16/25\n",
      "263/263 [==============================] - 9s 34ms/step - loss: 0.0723 - accuracy: 0.9818 - val_loss: 0.1316 - val_accuracy: 0.9770\n",
      "Epoch 17/25\n",
      "263/263 [==============================] - 7s 28ms/step - loss: 0.0721 - accuracy: 0.9832 - val_loss: 0.1153 - val_accuracy: 0.9775\n",
      "Epoch 18/25\n",
      "263/263 [==============================] - 8s 29ms/step - loss: 0.0636 - accuracy: 0.9844 - val_loss: 0.1384 - val_accuracy: 0.9756\n",
      "Epoch 19/25\n",
      "263/263 [==============================] - 9s 33ms/step - loss: 0.0630 - accuracy: 0.9864 - val_loss: 0.1171 - val_accuracy: 0.9790\n",
      "Epoch 20/25\n",
      "263/263 [==============================] - 8s 30ms/step - loss: 0.0563 - accuracy: 0.9877 - val_loss: 0.1237 - val_accuracy: 0.9760\n",
      "Epoch 21/25\n",
      "263/263 [==============================] - 8s 31ms/step - loss: 0.0597 - accuracy: 0.9864 - val_loss: 0.1213 - val_accuracy: 0.9790\n",
      "Epoch 22/25\n",
      "263/263 [==============================] - 8s 31ms/step - loss: 0.0585 - accuracy: 0.9862 - val_loss: 0.1350 - val_accuracy: 0.9788\n",
      "Epoch 23/25\n",
      "263/263 [==============================] - 7s 26ms/step - loss: 0.0642 - accuracy: 0.9849 - val_loss: 0.1118 - val_accuracy: 0.9783\n",
      "Epoch 24/25\n",
      "263/263 [==============================] - 8s 31ms/step - loss: 0.0624 - accuracy: 0.9863 - val_loss: 0.1314 - val_accuracy: 0.9789\n",
      "Epoch 25/25\n",
      "263/263 [==============================] - 9s 32ms/step - loss: 0.0559 - accuracy: 0.9873 - val_loss: 0.1258 - val_accuracy: 0.9779\n"
     ]
    }
   ],
   "source": [
    "hist2=model2.fit(x,y,batch_size=128,epochs=25,validation_split=0.2)"
   ]
  },
  {
   "cell_type": "markdown",
   "metadata": {},
   "source": [
    "Plot the training and validation costs for each epoch"
   ]
  },
  {
   "cell_type": "code",
   "execution_count": 69,
   "metadata": {},
   "outputs": [
    {
     "data": {
      "image/png": "[encoded data removed]",
      "text/plain": [
       "<Figure size 432x288 with 1 Axes>"
      ]
     },
     "metadata": {
      "needs_background": "light"
     },
     "output_type": "display_data"
    }
   ],
   "source": [
    "plt.plot(range(2,25),hist2.history['accuracy'][2:],range(2,25),hist2.history['val_accuracy'][2:])\n",
    "plt.ylabel('Accuracy')\n",
    "plt.xlabel('Epoch number')\n",
    "plt.legend(['training','validation'])\n",
    "plt.show()"
   ]
  },
  {
   "cell_type": "markdown",
   "metadata": {},
   "source": [
    "I check that almost 2% of the predictions differ compared with the previous model"
   ]
  },
  {
   "cell_type": "code",
   "execution_count": 21,
   "metadata": {},
   "outputs": [],
   "source": [
    "pred2=pd.DataFrame({'ImageId':range(1,len(x_test)+1),'Label':model2.predict(x_test).argmax(axis=1)}).set_index('ImageId')"
   ]
  },
  {
   "cell_type": "code",
   "execution_count": 22,
   "metadata": {},
   "outputs": [
    {
     "data": {
      "text/plain": [
       "True     0.980071\n",
       "False    0.019929\n",
       "dtype: float64"
      ]
     },
     "execution_count": 22,
     "metadata": {},
     "output_type": "execute_result"
    }
   ],
   "source": [
    "pred2.join(pred1, lsuffix='1',rsuffix='2').apply(lambda x: x.Label1==x.Label2,axis=1).value_counts()/len(x_test)"
   ]
  },
  {
   "cell_type": "code",
   "execution_count": 81,
   "metadata": {},
   "outputs": [],
   "source": [
    "pred2.to_csv('pred2.csv')"
   ]
  },
  {
   "cell_type": "markdown",
   "metadata": {},
   "source": [
    "### Model 3"
   ]
  },
  {
   "cell_type": "markdown",
   "metadata": {},
   "source": [
    "Third model has 9 hidden layers, dimensions are (784, 784, 784, 392, 392, 392, 196, 196, 196), and 35% dropout rate.\n",
    "I fit the model with 30 epochs of training, batch size of 128 examples, and 20% of the dataset left for validation."
   ]
  },
  {
   "cell_type": "code",
   "execution_count": 23,
   "metadata": {},
   "outputs": [
    {
     "name": "stdout",
     "output_type": "stream",
     "text": [
      "Model: \"functional_7\"\n",
      "_________________________________________________________________\n",
      "Layer (type)                 Output Shape              Param #   \n",
      "=================================================================\n",
      "input_4 (InputLayer)         [(None, 784)]             0         \n",
      "_________________________________________________________________\n",
      "dense_20 (Dense)             (None, 784)               615440    \n",
      "_________________________________________________________________\n",
      "dropout_17 (Dropout)         (None, 784)               0         \n",
      "_________________________________________________________________\n",
      "dense_21 (Dense)             (None, 784)               615440    \n",
      "_________________________________________________________________\n",
      "dropout_18 (Dropout)         (None, 784)               0         \n",
      "_________________________________________________________________\n",
      "dense_22 (Dense)             (None, 784)               615440    \n",
      "_________________________________________________________________\n",
      "dropout_19 (Dropout)         (None, 784)               0         \n",
      "_________________________________________________________________\n",
      "dense_23 (Dense)             (None, 392)               307720    \n",
      "_________________________________________________________________\n",
      "dropout_20 (Dropout)         (None, 392)               0         \n",
      "_________________________________________________________________\n",
      "dense_24 (Dense)             (None, 392)               154056    \n",
      "_________________________________________________________________\n",
      "dropout_21 (Dropout)         (None, 392)               0         \n",
      "_________________________________________________________________\n",
      "dense_25 (Dense)             (None, 392)               154056    \n",
      "_________________________________________________________________\n",
      "dropout_22 (Dropout)         (None, 392)               0         \n",
      "_________________________________________________________________\n",
      "dense_26 (Dense)             (None, 196)               77028     \n",
      "_________________________________________________________________\n",
      "dropout_23 (Dropout)         (None, 196)               0         \n",
      "_________________________________________________________________\n",
      "dense_27 (Dense)             (None, 196)               38612     \n",
      "_________________________________________________________________\n",
      "dropout_24 (Dropout)         (None, 196)               0         \n",
      "_________________________________________________________________\n",
      "dense_28 (Dense)             (None, 196)               38612     \n",
      "_________________________________________________________________\n",
      "dropout_25 (Dropout)         (None, 196)               0         \n",
      "_________________________________________________________________\n",
      "dense_29 (Dense)             (None, 10)                1970      \n",
      "=================================================================\n",
      "Total params: 2,618,374\n",
      "Trainable params: 2,618,374\n",
      "Non-trainable params: 0\n",
      "_________________________________________________________________\n"
     ]
    }
   ],
   "source": [
    "dims=[dt,dt,dt,dt//2,dt//2,dt//2,dt//4,dt//4,dt//4]\n",
    "model3=DenseModel(dims,0.35)\n",
    "model3.compile(optimizer='adam',loss='categorical_crossentropy',metrics=['accuracy'])\n",
    "model3.summary()"
   ]
  },
  {
   "cell_type": "code",
   "execution_count": 24,
   "metadata": {},
   "outputs": [
    {
     "name": "stdout",
     "output_type": "stream",
     "text": [
      "Epoch 1/30\n",
      "263/263 [==============================] - 13s 49ms/step - loss: 1.3892 - accuracy: 0.4756 - val_loss: 0.4090 - val_accuracy: 0.8639\n",
      "Epoch 2/30\n",
      "263/263 [==============================] - 13s 48ms/step - loss: 0.3809 - accuracy: 0.9020 - val_loss: 0.2086 - val_accuracy: 0.9523\n",
      "Epoch 3/30\n",
      "263/263 [==============================] - 12s 47ms/step - loss: 0.2676 - accuracy: 0.9386 - val_loss: 0.1752 - val_accuracy: 0.9614\n",
      "Epoch 4/30\n",
      "263/263 [==============================] - 12s 45ms/step - loss: 0.2261 - accuracy: 0.9507 - val_loss: 0.1662 - val_accuracy: 0.9601\n",
      "Epoch 5/30\n",
      "263/263 [==============================] - 11s 43ms/step - loss: 0.1833 - accuracy: 0.9596 - val_loss: 0.1389 - val_accuracy: 0.9686\n",
      "Epoch 6/30\n",
      "263/263 [==============================] - 12s 45ms/step - loss: 0.1656 - accuracy: 0.9639 - val_loss: 0.1350 - val_accuracy: 0.9695\n",
      "Epoch 7/30\n",
      "263/263 [==============================] - 13s 49ms/step - loss: 0.1510 - accuracy: 0.9667 - val_loss: 0.1259 - val_accuracy: 0.9724\n",
      "Epoch 8/30\n",
      "263/263 [==============================] - 12s 44ms/step - loss: 0.1341 - accuracy: 0.9692 - val_loss: 0.1214 - val_accuracy: 0.9733\n",
      "Epoch 9/30\n",
      "263/263 [==============================] - 12s 46ms/step - loss: 0.1357 - accuracy: 0.9693 - val_loss: 0.1418 - val_accuracy: 0.9720\n",
      "Epoch 10/30\n",
      "263/263 [==============================] - 12s 44ms/step - loss: 0.1168 - accuracy: 0.9735 - val_loss: 0.1201 - val_accuracy: 0.9750\n",
      "Epoch 11/30\n",
      "263/263 [==============================] - 12s 44ms/step - loss: 0.1172 - accuracy: 0.9726 - val_loss: 0.1432 - val_accuracy: 0.9736\n",
      "Epoch 12/30\n",
      "263/263 [==============================] - 13s 51ms/step - loss: 0.1064 - accuracy: 0.9750 - val_loss: 0.1266 - val_accuracy: 0.9739\n",
      "Epoch 13/30\n",
      "263/263 [==============================] - 13s 51ms/step - loss: 0.1066 - accuracy: 0.9764 - val_loss: 0.1215 - val_accuracy: 0.9758\n",
      "Epoch 14/30\n",
      "263/263 [==============================] - 13s 50ms/step - loss: 0.0931 - accuracy: 0.9793 - val_loss: 0.1271 - val_accuracy: 0.9711\n",
      "Epoch 15/30\n",
      "263/263 [==============================] - 12s 46ms/step - loss: 0.0932 - accuracy: 0.9795 - val_loss: 0.1188 - val_accuracy: 0.9758\n",
      "Epoch 16/30\n",
      "263/263 [==============================] - 13s 49ms/step - loss: 0.0978 - accuracy: 0.9777 - val_loss: 0.1370 - val_accuracy: 0.9754\n",
      "Epoch 17/30\n",
      "263/263 [==============================] - 12s 47ms/step - loss: 0.0837 - accuracy: 0.9815 - val_loss: 0.1645 - val_accuracy: 0.9756\n",
      "Epoch 18/30\n",
      "263/263 [==============================] - 12s 47ms/step - loss: 0.0867 - accuracy: 0.9815 - val_loss: 0.1255 - val_accuracy: 0.9750\n",
      "Epoch 19/30\n",
      "263/263 [==============================] - 12s 46ms/step - loss: 0.0950 - accuracy: 0.9799 - val_loss: 0.1440 - val_accuracy: 0.9757\n",
      "Epoch 20/30\n",
      "263/263 [==============================] - 11s 41ms/step - loss: 0.0817 - accuracy: 0.9824 - val_loss: 0.1329 - val_accuracy: 0.9738\n",
      "Epoch 21/30\n",
      "263/263 [==============================] - 14s 51ms/step - loss: 0.0823 - accuracy: 0.9817 - val_loss: 0.1317 - val_accuracy: 0.9779\n",
      "Epoch 22/30\n",
      "263/263 [==============================] - 14s 52ms/step - loss: 0.0734 - accuracy: 0.9839 - val_loss: 0.1057 - val_accuracy: 0.9792\n",
      "Epoch 23/30\n",
      "263/263 [==============================] - 13s 48ms/step - loss: 0.0697 - accuracy: 0.9849 - val_loss: 0.1140 - val_accuracy: 0.9768\n",
      "Epoch 24/30\n",
      "263/263 [==============================] - 13s 51ms/step - loss: 0.0739 - accuracy: 0.9837 - val_loss: 0.1453 - val_accuracy: 0.9786\n",
      "Epoch 25/30\n",
      "263/263 [==============================] - 12s 47ms/step - loss: 0.0751 - accuracy: 0.9846 - val_loss: 0.1272 - val_accuracy: 0.9775\n",
      "Epoch 26/30\n",
      "263/263 [==============================] - 12s 44ms/step - loss: 0.0747 - accuracy: 0.9836 - val_loss: 0.1359 - val_accuracy: 0.9768\n",
      "Epoch 27/30\n",
      "263/263 [==============================] - 11s 44ms/step - loss: 0.0751 - accuracy: 0.9833 - val_loss: 0.1838 - val_accuracy: 0.9761\n",
      "Epoch 28/30\n",
      "263/263 [==============================] - 13s 48ms/step - loss: 0.0736 - accuracy: 0.9840 - val_loss: 0.1470 - val_accuracy: 0.9776\n",
      "Epoch 29/30\n",
      "263/263 [==============================] - 14s 54ms/step - loss: 0.0672 - accuracy: 0.9868 - val_loss: 0.1500 - val_accuracy: 0.9775\n",
      "Epoch 30/30\n",
      "263/263 [==============================] - 12s 44ms/step - loss: 0.0707 - accuracy: 0.9855 - val_loss: 0.1414 - val_accuracy: 0.9762\n"
     ]
    }
   ],
   "source": [
    "hist3=model3.fit(x,y,batch_size=128,epochs=30,validation_split=0.2)"
   ]
  },
  {
   "cell_type": "markdown",
   "metadata": {},
   "source": [
    "Plot the training and validation costs for each epoch"
   ]
  },
  {
   "cell_type": "code",
   "execution_count": 70,
   "metadata": {},
   "outputs": [
    {
     "data": {
      "image/png": "[encoded data removed]",
      "text/plain": [
       "<Figure size 432x288 with 1 Axes>"
      ]
     },
     "metadata": {
      "needs_background": "light"
     },
     "output_type": "display_data"
    }
   ],
   "source": [
    "plt.plot(range(2,30),hist3.history['accuracy'][2:],range(2,30),hist3.history['val_accuracy'][2:])\n",
    "plt.ylabel('Accuracy')\n",
    "plt.xlabel('Epoch number')\n",
    "plt.legend(['training','validation'])\n",
    "plt.show()"
   ]
  },
  {
   "cell_type": "markdown",
   "metadata": {},
   "source": [
    "I check that around 2% of the predictions differ compared with both model 1 and 2."
   ]
  },
  {
   "cell_type": "code",
   "execution_count": 26,
   "metadata": {},
   "outputs": [],
   "source": [
    "pred3=pd.DataFrame({'ImageId':range(1,len(x_test)+1),'Label':model3.predict(x_test).argmax(axis=1)}).set_index('ImageId')"
   ]
  },
  {
   "cell_type": "code",
   "execution_count": 27,
   "metadata": {},
   "outputs": [
    {
     "data": {
      "text/plain": [
       "True     0.979964\n",
       "False    0.020036\n",
       "dtype: float64"
      ]
     },
     "execution_count": 27,
     "metadata": {},
     "output_type": "execute_result"
    }
   ],
   "source": [
    "pred3.join(pred1, lsuffix='1',rsuffix='2').apply(lambda x: x.Label1==x.Label2,axis=1).value_counts()/len(x_test)"
   ]
  },
  {
   "cell_type": "code",
   "execution_count": 28,
   "metadata": {},
   "outputs": [
    {
     "data": {
      "text/plain": [
       "True     0.978393\n",
       "False    0.021607\n",
       "dtype: float64"
      ]
     },
     "execution_count": 28,
     "metadata": {},
     "output_type": "execute_result"
    }
   ],
   "source": [
    "pred3.join(pred2, lsuffix='1',rsuffix='2').apply(lambda x: x.Label1==x.Label2,axis=1).value_counts()/len(x_test)"
   ]
  },
  {
   "cell_type": "code",
   "execution_count": 82,
   "metadata": {},
   "outputs": [],
   "source": [
    "pred3.to_csv('pred3.csv')"
   ]
  },
  {
   "cell_type": "markdown",
   "metadata": {},
   "source": [
    "# Convolutional Networks"
   ]
  },
  {
   "cell_type": "markdown",
   "metadata": {},
   "source": [
    "### Data Preparation"
   ]
  },
  {
   "cell_type": "markdown",
   "metadata": {},
   "source": [
    "Now I create the datasets for convolutional neural networks.\n",
    "\n",
    "x_conv: 28 by 28 array of pixel values from training dataset, normalized by Max\n",
    "\n",
    "x_conv_test: 28 by 28 array of pixel values from test dataset, normalized by Max"
   ]
  },
  {
   "cell_type": "code",
   "execution_count": 29,
   "metadata": {},
   "outputs": [
    {
     "name": "stdout",
     "output_type": "stream",
     "text": [
      "[(42000, 28, 28, 1), 1.0, (42000, 10)]\n",
      "[(28000, 28, 28, 1), 1.0]\n"
     ]
    }
   ],
   "source": [
    "x_conv=train.values[:,1:].reshape((m,d,d,1))/Max\n",
    "x_conv_test=test.values.reshape((-1,d,d,1))/Max\n",
    "y=to_categorical(train.label,n)\n",
    "print([x_conv.shape,x_conv.max(),y.shape])\n",
    "print([x_conv_test.shape,x_conv_test.max()])"
   ]
  },
  {
   "cell_type": "markdown",
   "metadata": {},
   "source": [
    "### Definition of the Model"
   ]
  },
  {
   "cell_type": "markdown",
   "metadata": {},
   "source": [
    "I define a convolutional neural network.\n",
    "Each hidden layer uses ReLU as activation function, and I use dropout after each of them for regularization.\n",
    "The number of filters in each convolutional layer, the kernel sizes and strides are given as input arrays.\n",
    "I use square filters, with the same stride on both dimensions. I always use 'same' padding.\n",
    "After convolutional layers I flatten and apply a fully connected layer, with dimension given as input.\n",
    "The output layer has n neurons and uses softmax activation"
   ]
  },
  {
   "cell_type": "code",
   "execution_count": 30,
   "metadata": {},
   "outputs": [],
   "source": [
    "def ConvModel(dims,kernels,strides,dim_dense,dropout_rate):\n",
    "    data=np.array([dims,kernels,strides]).T\n",
    "    X_input=Input(shape=(d,d,1))\n",
    "    X=X_input\n",
    "    for dim,kernel,stride in data:\n",
    "        X=Conv2D(dim,kernel_size=(kernel,kernel),strides=(stride,stride),padding='same',activation='relu')(X)\n",
    "        X=Dropout(dropout_rate)(X)\n",
    "    X=Flatten()(X)\n",
    "    X=Dense(dim_dense,activation='relu')(X)\n",
    "    X_output=Dense(n,activation='softmax')(X)\n",
    "    model=Model(inputs=X_input,outputs=X_output)\n",
    "    return model"
   ]
  },
  {
   "cell_type": "markdown",
   "metadata": {},
   "source": [
    "### Model 1"
   ]
  },
  {
   "cell_type": "markdown",
   "metadata": {},
   "source": [
    "Generically I increase the number of filters as I reduce the size of the matrices. All kernels are 3x3.\n",
    "I start with 28x28x1 and go to 14x14x32 with a stride of 2.\n",
    "I then use 'same' padding and unit stride to stay with 14x14 window, but increase to 64 filters.\n",
    "Finally I use stride of 2 again to go to 7x7x128.\n",
    "I use 128 neurons in the hidden dense layer.\n",
    "I fit the model with 15 epochs of training, 35% dropout, and 20% of the dataset left for validation."
   ]
  },
  {
   "cell_type": "code",
   "execution_count": 32,
   "metadata": {},
   "outputs": [
    {
     "name": "stdout",
     "output_type": "stream",
     "text": [
      "Model: \"functional_9\"\n",
      "_________________________________________________________________\n",
      "Layer (type)                 Output Shape              Param #   \n",
      "=================================================================\n",
      "input_5 (InputLayer)         [(None, 28, 28, 1)]       0         \n",
      "_________________________________________________________________\n",
      "conv2d (Conv2D)              (None, 14, 14, 32)        320       \n",
      "_________________________________________________________________\n",
      "dropout_26 (Dropout)         (None, 14, 14, 32)        0         \n",
      "_________________________________________________________________\n",
      "conv2d_1 (Conv2D)            (None, 14, 14, 64)        18496     \n",
      "_________________________________________________________________\n",
      "dropout_27 (Dropout)         (None, 14, 14, 64)        0         \n",
      "_________________________________________________________________\n",
      "conv2d_2 (Conv2D)            (None, 7, 7, 128)         73856     \n",
      "_________________________________________________________________\n",
      "dropout_28 (Dropout)         (None, 7, 7, 128)         0         \n",
      "_________________________________________________________________\n",
      "flatten (Flatten)            (None, 6272)              0         \n",
      "_________________________________________________________________\n",
      "dense_30 (Dense)             (None, 128)               802944    \n",
      "_________________________________________________________________\n",
      "dense_31 (Dense)             (None, 10)                1290      \n",
      "=================================================================\n",
      "Total params: 896,906\n",
      "Trainable params: 896,906\n",
      "Non-trainable params: 0\n",
      "_________________________________________________________________\n"
     ]
    }
   ],
   "source": [
    "convmodel1=ConvModel([32,64,128],[3,3,3],[2,1,2],128,0.35)\n",
    "convmodel1.compile(optimizer='adam',loss='categorical_crossentropy',metrics=['accuracy'])\n",
    "convmodel1.summary()"
   ]
  },
  {
   "cell_type": "code",
   "execution_count": 33,
   "metadata": {},
   "outputs": [
    {
     "name": "stdout",
     "output_type": "stream",
     "text": [
      "Epoch 1/15\n",
      "263/263 [==============================] - 36s 136ms/step - loss: 0.3495 - accuracy: 0.8933 - val_loss: 0.0999 - val_accuracy: 0.9687\n",
      "Epoch 2/15\n",
      "263/263 [==============================] - 36s 137ms/step - loss: 0.1038 - accuracy: 0.9681 - val_loss: 0.0680 - val_accuracy: 0.9786\n",
      "Epoch 3/15\n",
      "263/263 [==============================] - 35s 134ms/step - loss: 0.0721 - accuracy: 0.9783 - val_loss: 0.0569 - val_accuracy: 0.9813\n",
      "Epoch 4/15\n",
      "263/263 [==============================] - 35s 133ms/step - loss: 0.0578 - accuracy: 0.9819 - val_loss: 0.0472 - val_accuracy: 0.9849\n",
      "Epoch 5/15\n",
      "263/263 [==============================] - 35s 132ms/step - loss: 0.0456 - accuracy: 0.9844 - val_loss: 0.0411 - val_accuracy: 0.9879\n",
      "Epoch 6/15\n",
      "263/263 [==============================] - 36s 136ms/step - loss: 0.0386 - accuracy: 0.9878 - val_loss: 0.0422 - val_accuracy: 0.9873\n",
      "Epoch 7/15\n",
      "263/263 [==============================] - 35s 133ms/step - loss: 0.0363 - accuracy: 0.9885 - val_loss: 0.0397 - val_accuracy: 0.9876\n",
      "Epoch 8/15\n",
      "263/263 [==============================] - 35s 134ms/step - loss: 0.0334 - accuracy: 0.9895 - val_loss: 0.0368 - val_accuracy: 0.9890\n",
      "Epoch 9/15\n",
      "263/263 [==============================] - 34s 131ms/step - loss: 0.0266 - accuracy: 0.9908 - val_loss: 0.0430 - val_accuracy: 0.9870\n",
      "Epoch 10/15\n",
      "263/263 [==============================] - 35s 134ms/step - loss: 0.0242 - accuracy: 0.9918 - val_loss: 0.0401 - val_accuracy: 0.9885\n",
      "Epoch 11/15\n",
      "263/263 [==============================] - 34s 129ms/step - loss: 0.0200 - accuracy: 0.9933 - val_loss: 0.0425 - val_accuracy: 0.9870\n",
      "Epoch 12/15\n",
      "263/263 [==============================] - 40s 151ms/step - loss: 0.0205 - accuracy: 0.9933 - val_loss: 0.0467 - val_accuracy: 0.9877\n",
      "Epoch 13/15\n",
      "263/263 [==============================] - 33s 126ms/step - loss: 0.0189 - accuracy: 0.9936 - val_loss: 0.0388 - val_accuracy: 0.9889\n",
      "Epoch 14/15\n",
      "263/263 [==============================] - 32s 123ms/step - loss: 0.0181 - accuracy: 0.9942 - val_loss: 0.0397 - val_accuracy: 0.9902\n",
      "Epoch 15/15\n",
      "263/263 [==============================] - 39s 149ms/step - loss: 0.0183 - accuracy: 0.9936 - val_loss: 0.0400 - val_accuracy: 0.9893\n"
     ]
    }
   ],
   "source": [
    "convhist1=convmodel1.fit(x_conv,y,batch_size=128,epochs=15,validation_split=0.2)"
   ]
  },
  {
   "cell_type": "code",
   "execution_count": 71,
   "metadata": {},
   "outputs": [
    {
     "data": {
      "image/png": "[encoded data removed]",
      "text/plain": [
       "<Figure size 432x288 with 1 Axes>"
      ]
     },
     "metadata": {
      "needs_background": "light"
     },
     "output_type": "display_data"
    }
   ],
   "source": [
    "plt.plot(range(2,15),convhist1.history['accuracy'][2:],range(2,15),convhist1.history['val_accuracy'][2:])\n",
    "plt.ylabel('Accuracy')\n",
    "plt.xlabel('Epoch number')\n",
    "plt.legend(['training','validation'])\n",
    "plt.show()"
   ]
  },
  {
   "cell_type": "code",
   "execution_count": 36,
   "metadata": {},
   "outputs": [],
   "source": [
    "convpred1=pd.DataFrame({'ImageId':range(1,len(x_conv_test)+1),'Label':convmodel1.predict(x_conv_test).argmax(axis=1)}).set_index('ImageId')"
   ]
  },
  {
   "cell_type": "code",
   "execution_count": 83,
   "metadata": {},
   "outputs": [],
   "source": [
    "convpred1.to_csv('convpred1.csv')"
   ]
  },
  {
   "cell_type": "markdown",
   "metadata": {},
   "source": [
    "### Model 2"
   ]
  },
  {
   "cell_type": "markdown",
   "metadata": {},
   "source": [
    "I use more hidden layers, but still all kernels are 3x3.\n",
    "Number of filters is 32,64 and 128, twice each. \n",
    "I half the size of the window every two layers (to 14x14, 7x7 and 4x4).\n",
    "I use 256 neurons in the hidden dense layer.\n",
    "I fit the model with 20 epochs of training, 35% dropout, and 20% of the dataset left for validation."
   ]
  },
  {
   "cell_type": "code",
   "execution_count": 37,
   "metadata": {},
   "outputs": [
    {
     "name": "stdout",
     "output_type": "stream",
     "text": [
      "Model: \"functional_11\"\n",
      "_________________________________________________________________\n",
      "Layer (type)                 Output Shape              Param #   \n",
      "=================================================================\n",
      "input_6 (InputLayer)         [(None, 28, 28, 1)]       0         \n",
      "_________________________________________________________________\n",
      "conv2d_3 (Conv2D)            (None, 14, 14, 32)        320       \n",
      "_________________________________________________________________\n",
      "dropout_29 (Dropout)         (None, 14, 14, 32)        0         \n",
      "_________________________________________________________________\n",
      "conv2d_4 (Conv2D)            (None, 14, 14, 32)        9248      \n",
      "_________________________________________________________________\n",
      "dropout_30 (Dropout)         (None, 14, 14, 32)        0         \n",
      "_________________________________________________________________\n",
      "conv2d_5 (Conv2D)            (None, 7, 7, 64)          18496     \n",
      "_________________________________________________________________\n",
      "dropout_31 (Dropout)         (None, 7, 7, 64)          0         \n",
      "_________________________________________________________________\n",
      "conv2d_6 (Conv2D)            (None, 7, 7, 64)          36928     \n",
      "_________________________________________________________________\n",
      "dropout_32 (Dropout)         (None, 7, 7, 64)          0         \n",
      "_________________________________________________________________\n",
      "conv2d_7 (Conv2D)            (None, 4, 4, 128)         73856     \n",
      "_________________________________________________________________\n",
      "dropout_33 (Dropout)         (None, 4, 4, 128)         0         \n",
      "_________________________________________________________________\n",
      "conv2d_8 (Conv2D)            (None, 4, 4, 128)         147584    \n",
      "_________________________________________________________________\n",
      "dropout_34 (Dropout)         (None, 4, 4, 128)         0         \n",
      "_________________________________________________________________\n",
      "flatten_1 (Flatten)          (None, 2048)              0         \n",
      "_________________________________________________________________\n",
      "dense_32 (Dense)             (None, 256)               524544    \n",
      "_________________________________________________________________\n",
      "dense_33 (Dense)             (None, 10)                2570      \n",
      "=================================================================\n",
      "Total params: 813,546\n",
      "Trainable params: 813,546\n",
      "Non-trainable params: 0\n",
      "_________________________________________________________________\n"
     ]
    }
   ],
   "source": [
    "convmodel2=ConvModel([32,32,64,64,128,128],[3,3,3,3,3,3],[2,1,2,1,2,1],256,0.35)\n",
    "convmodel2.compile(optimizer='adam',loss='categorical_crossentropy',metrics=['accuracy'])\n",
    "convmodel2.summary()"
   ]
  },
  {
   "cell_type": "code",
   "execution_count": 38,
   "metadata": {},
   "outputs": [
    {
     "name": "stdout",
     "output_type": "stream",
     "text": [
      "Epoch 1/20\n",
      "263/263 [==============================] - 46s 174ms/step - loss: 0.5498 - accuracy: 0.8142 - val_loss: 0.1168 - val_accuracy: 0.9631\n",
      "Epoch 2/20\n",
      "263/263 [==============================] - 43s 165ms/step - loss: 0.1583 - accuracy: 0.9503 - val_loss: 0.0738 - val_accuracy: 0.9736\n",
      "Epoch 3/20\n",
      "263/263 [==============================] - 45s 171ms/step - loss: 0.1209 - accuracy: 0.9623 - val_loss: 0.0568 - val_accuracy: 0.9811\n",
      "Epoch 4/20\n",
      "263/263 [==============================] - 45s 172ms/step - loss: 0.0967 - accuracy: 0.9691 - val_loss: 0.0501 - val_accuracy: 0.9849\n",
      "Epoch 5/20\n",
      "263/263 [==============================] - 41s 156ms/step - loss: 0.0854 - accuracy: 0.9733 - val_loss: 0.0471 - val_accuracy: 0.9850\n",
      "Epoch 6/20\n",
      "263/263 [==============================] - 44s 168ms/step - loss: 0.0756 - accuracy: 0.9751 - val_loss: 0.0423 - val_accuracy: 0.9875\n",
      "Epoch 7/20\n",
      "263/263 [==============================] - 50s 190ms/step - loss: 0.0689 - accuracy: 0.9786 - val_loss: 0.0411 - val_accuracy: 0.9873\n",
      "Epoch 8/20\n",
      "263/263 [==============================] - 41s 155ms/step - loss: 0.0638 - accuracy: 0.9787 - val_loss: 0.0423 - val_accuracy: 0.9864\n",
      "Epoch 9/20\n",
      "263/263 [==============================] - 43s 162ms/step - loss: 0.0615 - accuracy: 0.9808 - val_loss: 0.0349 - val_accuracy: 0.9892\n",
      "Epoch 10/20\n",
      "263/263 [==============================] - 43s 163ms/step - loss: 0.0588 - accuracy: 0.9815 - val_loss: 0.0439 - val_accuracy: 0.9864\n",
      "Epoch 11/20\n",
      "263/263 [==============================] - 44s 166ms/step - loss: 0.0549 - accuracy: 0.9827 - val_loss: 0.0358 - val_accuracy: 0.9892\n",
      "Epoch 12/20\n",
      "263/263 [==============================] - 48s 182ms/step - loss: 0.0516 - accuracy: 0.9824 - val_loss: 0.0391 - val_accuracy: 0.9883\n",
      "Epoch 13/20\n",
      "263/263 [==============================] - 44s 169ms/step - loss: 0.0493 - accuracy: 0.9832 - val_loss: 0.0380 - val_accuracy: 0.9882\n",
      "Epoch 14/20\n",
      "263/263 [==============================] - 45s 171ms/step - loss: 0.0496 - accuracy: 0.9843 - val_loss: 0.0328 - val_accuracy: 0.9904\n",
      "Epoch 15/20\n",
      "263/263 [==============================] - 46s 174ms/step - loss: 0.0446 - accuracy: 0.9855 - val_loss: 0.0375 - val_accuracy: 0.9890\n",
      "Epoch 16/20\n",
      "263/263 [==============================] - 44s 167ms/step - loss: 0.0456 - accuracy: 0.9855 - val_loss: 0.0355 - val_accuracy: 0.9886\n",
      "Epoch 17/20\n",
      "263/263 [==============================] - 46s 177ms/step - loss: 0.0420 - accuracy: 0.9862 - val_loss: 0.0308 - val_accuracy: 0.9912\n",
      "Epoch 18/20\n",
      "263/263 [==============================] - 46s 176ms/step - loss: 0.0418 - accuracy: 0.9864 - val_loss: 0.0379 - val_accuracy: 0.9895\n",
      "Epoch 19/20\n",
      "263/263 [==============================] - 43s 165ms/step - loss: 0.0404 - accuracy: 0.9876 - val_loss: 0.0399 - val_accuracy: 0.9888\n",
      "Epoch 20/20\n",
      "263/263 [==============================] - 45s 171ms/step - loss: 0.0406 - accuracy: 0.9873 - val_loss: 0.0332 - val_accuracy: 0.9911\n"
     ]
    }
   ],
   "source": [
    "convhist2=convmodel2.fit(x_conv,y,batch_size=128,epochs=20,validation_split=0.2)"
   ]
  },
  {
   "cell_type": "code",
   "execution_count": 72,
   "metadata": {},
   "outputs": [
    {
     "data": {
      "image/png": "[encoded data removed]",
      "text/plain": [
       "<Figure size 432x288 with 1 Axes>"
      ]
     },
     "metadata": {
      "needs_background": "light"
     },
     "output_type": "display_data"
    }
   ],
   "source": [
    "plt.plot(range(2,20),convhist2.history['accuracy'][2:],range(2,20),convhist2.history['val_accuracy'][2:])\n",
    "plt.ylabel('Accuracy')\n",
    "plt.xlabel('Epoch number')\n",
    "plt.legend(['training','validation'])\n",
    "plt.show()"
   ]
  },
  {
   "cell_type": "code",
   "execution_count": 40,
   "metadata": {},
   "outputs": [],
   "source": [
    "convpred2=pd.DataFrame({'ImageId':range(1,len(x_conv_test)+1),'Label':convmodel2.predict(x_conv_test).argmax(axis=1)}).set_index('ImageId')"
   ]
  },
  {
   "cell_type": "code",
   "execution_count": 84,
   "metadata": {},
   "outputs": [],
   "source": [
    "convpred2.to_csv('convpred2.csv')"
   ]
  },
  {
   "cell_type": "markdown",
   "metadata": {},
   "source": [
    "### Model 3"
   ]
  },
  {
   "cell_type": "markdown",
   "metadata": {},
   "source": [
    "I try a simpler network now, with just two concolutional layers, dimensions are 32 and 64, windows 14x14 and 7x7.\n",
    "Dense layer with 128 neurons. I use 13 epochs of training, 35% dropout rate, and 20% train/dev partitioning."
   ]
  },
  {
   "cell_type": "code",
   "execution_count": 41,
   "metadata": {},
   "outputs": [
    {
     "name": "stdout",
     "output_type": "stream",
     "text": [
      "Model: \"functional_13\"\n",
      "_________________________________________________________________\n",
      "Layer (type)                 Output Shape              Param #   \n",
      "=================================================================\n",
      "input_7 (InputLayer)         [(None, 28, 28, 1)]       0         \n",
      "_________________________________________________________________\n",
      "conv2d_9 (Conv2D)            (None, 14, 14, 32)        320       \n",
      "_________________________________________________________________\n",
      "dropout_35 (Dropout)         (None, 14, 14, 32)        0         \n",
      "_________________________________________________________________\n",
      "conv2d_10 (Conv2D)           (None, 7, 7, 64)          18496     \n",
      "_________________________________________________________________\n",
      "dropout_36 (Dropout)         (None, 7, 7, 64)          0         \n",
      "_________________________________________________________________\n",
      "flatten_2 (Flatten)          (None, 3136)              0         \n",
      "_________________________________________________________________\n",
      "dense_34 (Dense)             (None, 128)               401536    \n",
      "_________________________________________________________________\n",
      "dense_35 (Dense)             (None, 10)                1290      \n",
      "=================================================================\n",
      "Total params: 421,642\n",
      "Trainable params: 421,642\n",
      "Non-trainable params: 0\n",
      "_________________________________________________________________\n"
     ]
    }
   ],
   "source": [
    "convmodel3=ConvModel([32,64],[3,3],[2,2],128,0.35)\n",
    "convmodel3.compile(optimizer='adam',loss='categorical_crossentropy',metrics=['accuracy'])\n",
    "convmodel3.summary()"
   ]
  },
  {
   "cell_type": "code",
   "execution_count": 42,
   "metadata": {},
   "outputs": [
    {
     "name": "stdout",
     "output_type": "stream",
     "text": [
      "Epoch 1/13\n",
      "263/263 [==============================] - 13s 48ms/step - loss: 0.4406 - accuracy: 0.8677 - val_loss: 0.1473 - val_accuracy: 0.9544\n",
      "Epoch 2/13\n",
      "263/263 [==============================] - 11s 41ms/step - loss: 0.1571 - accuracy: 0.9501 - val_loss: 0.0965 - val_accuracy: 0.9687\n",
      "Epoch 3/13\n",
      "263/263 [==============================] - 10s 37ms/step - loss: 0.1101 - accuracy: 0.9661 - val_loss: 0.0777 - val_accuracy: 0.9738\n",
      "Epoch 4/13\n",
      "263/263 [==============================] - 12s 47ms/step - loss: 0.0870 - accuracy: 0.9735 - val_loss: 0.0677 - val_accuracy: 0.9781\n",
      "Epoch 5/13\n",
      "263/263 [==============================] - 11s 40ms/step - loss: 0.0718 - accuracy: 0.9780 - val_loss: 0.0553 - val_accuracy: 0.9821\n",
      "Epoch 6/13\n",
      "263/263 [==============================] - 10s 37ms/step - loss: 0.0629 - accuracy: 0.9800 - val_loss: 0.0519 - val_accuracy: 0.9829\n",
      "Epoch 7/13\n",
      "263/263 [==============================] - 11s 41ms/step - loss: 0.0532 - accuracy: 0.9827 - val_loss: 0.0525 - val_accuracy: 0.9830\n",
      "Epoch 8/13\n",
      "263/263 [==============================] - 11s 42ms/step - loss: 0.0485 - accuracy: 0.9847 - val_loss: 0.0493 - val_accuracy: 0.9843\n",
      "Epoch 9/13\n",
      "263/263 [==============================] - 10s 39ms/step - loss: 0.0427 - accuracy: 0.9860 - val_loss: 0.0541 - val_accuracy: 0.9836\n",
      "Epoch 10/13\n",
      "263/263 [==============================] - 11s 42ms/step - loss: 0.0357 - accuracy: 0.9884 - val_loss: 0.0427 - val_accuracy: 0.9860\n",
      "Epoch 11/13\n",
      "263/263 [==============================] - 10s 39ms/step - loss: 0.0341 - accuracy: 0.9887 - val_loss: 0.0430 - val_accuracy: 0.9868\n",
      "Epoch 12/13\n",
      "263/263 [==============================] - 11s 40ms/step - loss: 0.0301 - accuracy: 0.9897 - val_loss: 0.0434 - val_accuracy: 0.9860\n",
      "Epoch 13/13\n",
      "263/263 [==============================] - 11s 40ms/step - loss: 0.0263 - accuracy: 0.9912 - val_loss: 0.0499 - val_accuracy: 0.9856\n"
     ]
    }
   ],
   "source": [
    "convhist3=convmodel3.fit(x_conv,y,batch_size=128,epochs=13,validation_split=0.2)"
   ]
  },
  {
   "cell_type": "code",
   "execution_count": 73,
   "metadata": {},
   "outputs": [
    {
     "data": {
      "image/png": "[encoded data removed]",
      "text/plain": [
       "<Figure size 432x288 with 1 Axes>"
      ]
     },
     "metadata": {
      "needs_background": "light"
     },
     "output_type": "display_data"
    }
   ],
   "source": [
    "plt.plot(range(2,13),convhist3.history['accuracy'][2:],range(2,13),convhist3.history['val_accuracy'][2:])\n",
    "plt.ylabel('Accuracy')\n",
    "plt.xlabel('Epoch number')\n",
    "plt.legend(['training','validation'])\n",
    "plt.show()"
   ]
  },
  {
   "cell_type": "code",
   "execution_count": 44,
   "metadata": {},
   "outputs": [],
   "source": [
    "convpred3=pd.DataFrame({'ImageId':range(1,len(x_conv_test)+1),'Label':convmodel3.predict(x_conv_test).argmax(axis=1)}).set_index('ImageId')"
   ]
  },
  {
   "cell_type": "code",
   "execution_count": 85,
   "metadata": {},
   "outputs": [],
   "source": [
    "convpred3.to_csv('convpred3.csv')"
   ]
  },
  {
   "cell_type": "markdown",
   "metadata": {},
   "source": [
    "### Definition of Model with Batch Normalization"
   ]
  },
  {
   "cell_type": "markdown",
   "metadata": {},
   "source": [
    "I define a new convolutional neural network, with batch normalization layers between convolution and activation"
   ]
  },
  {
   "cell_type": "code",
   "execution_count": 45,
   "metadata": {},
   "outputs": [],
   "source": [
    "def ConvModel2(dims,kernels,strides,dim_dense,dropout_rate):\n",
    "    data=np.array([dims,kernels,strides]).T\n",
    "    X_input=Input(shape=(d,d,1))\n",
    "    X=X_input\n",
    "    for dim,kernel,stride in data:\n",
    "        X=Conv2D(dim,kernel_size=(kernel,kernel),strides=(stride,stride),padding='same',use_bias=False)(X)\n",
    "        X=BatchNormalization()(X)\n",
    "        X=Activation('relu')(X)\n",
    "        X=Dropout(dropout_rate)(X)\n",
    "    X=Flatten()(X)\n",
    "    X=Dense(dim_dense,use_bias=False)(X)\n",
    "    X=BatchNormalization()(X)\n",
    "    X=Activation('relu')(X)\n",
    "    X_output=Dense(n,activation='softmax')(X)\n",
    "    model=Model(inputs=X_input,outputs=X_output)\n",
    "    return model"
   ]
  },
  {
   "cell_type": "markdown",
   "metadata": {},
   "source": [
    "### Model 4"
   ]
  },
  {
   "cell_type": "markdown",
   "metadata": {},
   "source": [
    "Like convolutional model 1 (4 hidden layers), but with batch normalization"
   ]
  },
  {
   "cell_type": "code",
   "execution_count": 46,
   "metadata": {},
   "outputs": [
    {
     "name": "stdout",
     "output_type": "stream",
     "text": [
      "Model: \"functional_15\"\n",
      "_________________________________________________________________\n",
      "Layer (type)                 Output Shape              Param #   \n",
      "=================================================================\n",
      "input_8 (InputLayer)         [(None, 28, 28, 1)]       0         \n",
      "_________________________________________________________________\n",
      "conv2d_11 (Conv2D)           (None, 14, 14, 32)        288       \n",
      "_________________________________________________________________\n",
      "batch_normalization (BatchNo (None, 14, 14, 32)        128       \n",
      "_________________________________________________________________\n",
      "activation (Activation)      (None, 14, 14, 32)        0         \n",
      "_________________________________________________________________\n",
      "dropout_37 (Dropout)         (None, 14, 14, 32)        0         \n",
      "_________________________________________________________________\n",
      "conv2d_12 (Conv2D)           (None, 14, 14, 64)        18432     \n",
      "_________________________________________________________________\n",
      "batch_normalization_1 (Batch (None, 14, 14, 64)        256       \n",
      "_________________________________________________________________\n",
      "activation_1 (Activation)    (None, 14, 14, 64)        0         \n",
      "_________________________________________________________________\n",
      "dropout_38 (Dropout)         (None, 14, 14, 64)        0         \n",
      "_________________________________________________________________\n",
      "conv2d_13 (Conv2D)           (None, 7, 7, 128)         73728     \n",
      "_________________________________________________________________\n",
      "batch_normalization_2 (Batch (None, 7, 7, 128)         512       \n",
      "_________________________________________________________________\n",
      "activation_2 (Activation)    (None, 7, 7, 128)         0         \n",
      "_________________________________________________________________\n",
      "dropout_39 (Dropout)         (None, 7, 7, 128)         0         \n",
      "_________________________________________________________________\n",
      "flatten_3 (Flatten)          (None, 6272)              0         \n",
      "_________________________________________________________________\n",
      "dense_36 (Dense)             (None, 128)               802816    \n",
      "_________________________________________________________________\n",
      "batch_normalization_3 (Batch (None, 128)               512       \n",
      "_________________________________________________________________\n",
      "activation_3 (Activation)    (None, 128)               0         \n",
      "_________________________________________________________________\n",
      "dense_37 (Dense)             (None, 10)                1290      \n",
      "=================================================================\n",
      "Total params: 897,962\n",
      "Trainable params: 897,258\n",
      "Non-trainable params: 704\n",
      "_________________________________________________________________\n"
     ]
    }
   ],
   "source": [
    "convmodel4=ConvModel2([32,64,128],[3,3,3],[2,1,2],128,0.35)\n",
    "convmodel4.compile(optimizer='adam',loss='categorical_crossentropy',metrics=['accuracy'])\n",
    "convmodel4.summary()"
   ]
  },
  {
   "cell_type": "code",
   "execution_count": 47,
   "metadata": {},
   "outputs": [
    {
     "name": "stdout",
     "output_type": "stream",
     "text": [
      "Epoch 1/15\n",
      "263/263 [==============================] - 46s 176ms/step - loss: 0.3118 - accuracy: 0.9078 - val_loss: 1.3978 - val_accuracy: 0.5598\n",
      "Epoch 2/15\n",
      "263/263 [==============================] - 50s 191ms/step - loss: 0.0941 - accuracy: 0.9718 - val_loss: 0.1087 - val_accuracy: 0.9663\n",
      "Epoch 3/15\n",
      "263/263 [==============================] - 41s 155ms/step - loss: 0.0677 - accuracy: 0.9794 - val_loss: 0.0461 - val_accuracy: 0.9852\n",
      "Epoch 4/15\n",
      "263/263 [==============================] - 44s 168ms/step - loss: 0.0555 - accuracy: 0.9834 - val_loss: 0.0381 - val_accuracy: 0.9877\n",
      "Epoch 5/15\n",
      "263/263 [==============================] - 41s 156ms/step - loss: 0.0469 - accuracy: 0.9847 - val_loss: 0.0356 - val_accuracy: 0.9887\n",
      "Epoch 6/15\n",
      "263/263 [==============================] - 44s 168ms/step - loss: 0.0362 - accuracy: 0.9885 - val_loss: 0.0367 - val_accuracy: 0.9893\n",
      "Epoch 7/15\n",
      "263/263 [==============================] - 47s 179ms/step - loss: 0.0366 - accuracy: 0.9884 - val_loss: 0.0304 - val_accuracy: 0.9904\n",
      "Epoch 8/15\n",
      "263/263 [==============================] - 41s 157ms/step - loss: 0.0301 - accuracy: 0.9905 - val_loss: 0.0311 - val_accuracy: 0.9910\n",
      "Epoch 9/15\n",
      "263/263 [==============================] - 39s 150ms/step - loss: 0.0289 - accuracy: 0.9904 - val_loss: 0.0292 - val_accuracy: 0.9906\n",
      "Epoch 10/15\n",
      "263/263 [==============================] - 43s 165ms/step - loss: 0.0253 - accuracy: 0.9918 - val_loss: 0.0308 - val_accuracy: 0.9902\n",
      "Epoch 11/15\n",
      "263/263 [==============================] - 47s 180ms/step - loss: 0.0222 - accuracy: 0.9930 - val_loss: 0.0305 - val_accuracy: 0.9911\n",
      "Epoch 12/15\n",
      "263/263 [==============================] - 44s 168ms/step - loss: 0.0227 - accuracy: 0.9925 - val_loss: 0.0319 - val_accuracy: 0.9901\n",
      "Epoch 13/15\n",
      "263/263 [==============================] - 47s 180ms/step - loss: 0.0194 - accuracy: 0.9939 - val_loss: 0.0280 - val_accuracy: 0.9919\n",
      "Epoch 14/15\n",
      "263/263 [==============================] - 43s 163ms/step - loss: 0.0192 - accuracy: 0.9937 - val_loss: 0.0315 - val_accuracy: 0.9907\n",
      "Epoch 15/15\n",
      "263/263 [==============================] - 43s 163ms/step - loss: 0.0189 - accuracy: 0.9938 - val_loss: 0.0293 - val_accuracy: 0.9910\n"
     ]
    }
   ],
   "source": [
    "convhist4=convmodel4.fit(x_conv,y,batch_size=128,epochs=15,validation_split=0.2)"
   ]
  },
  {
   "cell_type": "code",
   "execution_count": 74,
   "metadata": {},
   "outputs": [
    {
     "data": {
      "image/png": "[encoded data removed]",
      "text/plain": [
       "<Figure size 432x288 with 1 Axes>"
      ]
     },
     "metadata": {
      "needs_background": "light"
     },
     "output_type": "display_data"
    }
   ],
   "source": [
    "plt.plot(range(2,15),convhist4.history['accuracy'][2:],range(2,15),convhist4.history['val_accuracy'][2:])\n",
    "plt.ylabel('Accuracy')\n",
    "plt.xlabel('Epoch number')\n",
    "plt.legend(['training','validation'])\n",
    "plt.show()"
   ]
  },
  {
   "cell_type": "code",
   "execution_count": 49,
   "metadata": {},
   "outputs": [],
   "source": [
    "convpred4=pd.DataFrame({'ImageId':range(1,len(x_conv_test)+1),'Label':convmodel4.predict(x_conv_test).argmax(axis=1)}).set_index('ImageId')"
   ]
  },
  {
   "cell_type": "code",
   "execution_count": 86,
   "metadata": {},
   "outputs": [],
   "source": [
    "convpred4.to_csv('convpred4.csv')"
   ]
  },
  {
   "cell_type": "markdown",
   "metadata": {},
   "source": [
    "### Model 5"
   ]
  },
  {
   "cell_type": "markdown",
   "metadata": {},
   "source": [
    "Like Convolutional model 2 (7 hidden layers), but with batch normalization"
   ]
  },
  {
   "cell_type": "code",
   "execution_count": 50,
   "metadata": {
    "scrolled": true
   },
   "outputs": [
    {
     "name": "stdout",
     "output_type": "stream",
     "text": [
      "Model: \"functional_17\"\n",
      "_________________________________________________________________\n",
      "Layer (type)                 Output Shape              Param #   \n",
      "=================================================================\n",
      "input_9 (InputLayer)         [(None, 28, 28, 1)]       0         \n",
      "_________________________________________________________________\n",
      "conv2d_14 (Conv2D)           (None, 14, 14, 32)        288       \n",
      "_________________________________________________________________\n",
      "batch_normalization_4 (Batch (None, 14, 14, 32)        128       \n",
      "_________________________________________________________________\n",
      "activation_4 (Activation)    (None, 14, 14, 32)        0         \n",
      "_________________________________________________________________\n",
      "dropout_40 (Dropout)         (None, 14, 14, 32)        0         \n",
      "_________________________________________________________________\n",
      "conv2d_15 (Conv2D)           (None, 14, 14, 32)        9216      \n",
      "_________________________________________________________________\n",
      "batch_normalization_5 (Batch (None, 14, 14, 32)        128       \n",
      "_________________________________________________________________\n",
      "activation_5 (Activation)    (None, 14, 14, 32)        0         \n",
      "_________________________________________________________________\n",
      "dropout_41 (Dropout)         (None, 14, 14, 32)        0         \n",
      "_________________________________________________________________\n",
      "conv2d_16 (Conv2D)           (None, 7, 7, 64)          18432     \n",
      "_________________________________________________________________\n",
      "batch_normalization_6 (Batch (None, 7, 7, 64)          256       \n",
      "_________________________________________________________________\n",
      "activation_6 (Activation)    (None, 7, 7, 64)          0         \n",
      "_________________________________________________________________\n",
      "dropout_42 (Dropout)         (None, 7, 7, 64)          0         \n",
      "_________________________________________________________________\n",
      "conv2d_17 (Conv2D)           (None, 7, 7, 64)          36864     \n",
      "_________________________________________________________________\n",
      "batch_normalization_7 (Batch (None, 7, 7, 64)          256       \n",
      "_________________________________________________________________\n",
      "activation_7 (Activation)    (None, 7, 7, 64)          0         \n",
      "_________________________________________________________________\n",
      "dropout_43 (Dropout)         (None, 7, 7, 64)          0         \n",
      "_________________________________________________________________\n",
      "conv2d_18 (Conv2D)           (None, 4, 4, 128)         73728     \n",
      "_________________________________________________________________\n",
      "batch_normalization_8 (Batch (None, 4, 4, 128)         512       \n",
      "_________________________________________________________________\n",
      "activation_8 (Activation)    (None, 4, 4, 128)         0         \n",
      "_________________________________________________________________\n",
      "dropout_44 (Dropout)         (None, 4, 4, 128)         0         \n",
      "_________________________________________________________________\n",
      "conv2d_19 (Conv2D)           (None, 4, 4, 128)         147456    \n",
      "_________________________________________________________________\n",
      "batch_normalization_9 (Batch (None, 4, 4, 128)         512       \n",
      "_________________________________________________________________\n",
      "activation_9 (Activation)    (None, 4, 4, 128)         0         \n",
      "_________________________________________________________________\n",
      "dropout_45 (Dropout)         (None, 4, 4, 128)         0         \n",
      "_________________________________________________________________\n",
      "flatten_4 (Flatten)          (None, 2048)              0         \n",
      "_________________________________________________________________\n",
      "dense_38 (Dense)             (None, 256)               524288    \n",
      "_________________________________________________________________\n",
      "batch_normalization_10 (Batc (None, 256)               1024      \n",
      "_________________________________________________________________\n",
      "activation_10 (Activation)   (None, 256)               0         \n",
      "_________________________________________________________________\n",
      "dense_39 (Dense)             (None, 10)                2570      \n",
      "=================================================================\n",
      "Total params: 815,658\n",
      "Trainable params: 814,250\n",
      "Non-trainable params: 1,408\n",
      "_________________________________________________________________\n"
     ]
    }
   ],
   "source": [
    "convmodel5=ConvModel2([32,32,64,64,128,128],[3,3,3,3,3,3],[2,1,2,1,2,1],256,0.35)\n",
    "convmodel5.compile(optimizer='adam',loss='categorical_crossentropy',metrics=['accuracy'])\n",
    "convmodel5.summary()"
   ]
  },
  {
   "cell_type": "code",
   "execution_count": 51,
   "metadata": {},
   "outputs": [
    {
     "name": "stdout",
     "output_type": "stream",
     "text": [
      "Epoch 1/20\n",
      "263/263 [==============================] - 55s 210ms/step - loss: 0.6147 - accuracy: 0.7951 - val_loss: 5.1121 - val_accuracy: 0.1401\n",
      "Epoch 2/20\n",
      "263/263 [==============================] - 55s 210ms/step - loss: 0.1877 - accuracy: 0.9404 - val_loss: 0.3533 - val_accuracy: 0.9058\n",
      "Epoch 3/20\n",
      "263/263 [==============================] - 63s 240ms/step - loss: 0.1333 - accuracy: 0.9571 - val_loss: 0.0574 - val_accuracy: 0.9815\n",
      "Epoch 4/20\n",
      "263/263 [==============================] - 48s 183ms/step - loss: 0.1089 - accuracy: 0.9657 - val_loss: 0.0472 - val_accuracy: 0.9846\n",
      "Epoch 5/20\n",
      "263/263 [==============================] - 56s 213ms/step - loss: 0.0951 - accuracy: 0.9690 - val_loss: 0.0467 - val_accuracy: 0.9832\n",
      "Epoch 6/20\n",
      "263/263 [==============================] - 48s 184ms/step - loss: 0.0851 - accuracy: 0.9717 - val_loss: 0.0508 - val_accuracy: 0.9824\n",
      "Epoch 7/20\n",
      "263/263 [==============================] - 58s 220ms/step - loss: 0.0748 - accuracy: 0.9757 - val_loss: 0.0412 - val_accuracy: 0.9863\n",
      "Epoch 8/20\n",
      "263/263 [==============================] - 47s 180ms/step - loss: 0.0677 - accuracy: 0.9787 - val_loss: 0.0357 - val_accuracy: 0.9886\n",
      "Epoch 9/20\n",
      "263/263 [==============================] - 48s 182ms/step - loss: 0.0658 - accuracy: 0.9789 - val_loss: 0.0353 - val_accuracy: 0.9899\n",
      "Epoch 10/20\n",
      "263/263 [==============================] - 54s 204ms/step - loss: 0.0592 - accuracy: 0.9809 - val_loss: 0.0340 - val_accuracy: 0.9889\n",
      "Epoch 11/20\n",
      "263/263 [==============================] - 56s 213ms/step - loss: 0.0568 - accuracy: 0.9817 - val_loss: 0.0310 - val_accuracy: 0.9894\n",
      "Epoch 12/20\n",
      "263/263 [==============================] - 51s 192ms/step - loss: 0.0521 - accuracy: 0.9829 - val_loss: 0.0339 - val_accuracy: 0.9894\n",
      "Epoch 13/20\n",
      "263/263 [==============================] - 49s 188ms/step - loss: 0.0520 - accuracy: 0.9830 - val_loss: 0.0327 - val_accuracy: 0.9896\n",
      "Epoch 14/20\n",
      "263/263 [==============================] - 50s 191ms/step - loss: 0.0502 - accuracy: 0.9837 - val_loss: 0.0381 - val_accuracy: 0.9893\n",
      "Epoch 15/20\n",
      "263/263 [==============================] - 49s 186ms/step - loss: 0.0463 - accuracy: 0.9840 - val_loss: 0.0340 - val_accuracy: 0.9893\n",
      "Epoch 16/20\n",
      "263/263 [==============================] - 62s 236ms/step - loss: 0.0438 - accuracy: 0.9859 - val_loss: 0.0341 - val_accuracy: 0.9898\n",
      "Epoch 17/20\n",
      "263/263 [==============================] - 61s 233ms/step - loss: 0.0430 - accuracy: 0.9857 - val_loss: 0.0331 - val_accuracy: 0.9908\n",
      "Epoch 18/20\n",
      "263/263 [==============================] - 57s 218ms/step - loss: 0.0387 - accuracy: 0.9881 - val_loss: 0.0310 - val_accuracy: 0.9902\n",
      "Epoch 19/20\n",
      "263/263 [==============================] - 53s 201ms/step - loss: 0.0392 - accuracy: 0.9874 - val_loss: 0.0300 - val_accuracy: 0.9911\n",
      "Epoch 20/20\n",
      "263/263 [==============================] - 54s 204ms/step - loss: 0.0395 - accuracy: 0.9865 - val_loss: 0.0297 - val_accuracy: 0.9913\n"
     ]
    }
   ],
   "source": [
    "convhist5=convmodel5.fit(x_conv,y,batch_size=128,epochs=20,validation_split=0.2)"
   ]
  },
  {
   "cell_type": "code",
   "execution_count": 75,
   "metadata": {},
   "outputs": [
    {
     "data": {
      "image/png": "[encoded data removed]",
      "text/plain": [
       "<Figure size 432x288 with 1 Axes>"
      ]
     },
     "metadata": {
      "needs_background": "light"
     },
     "output_type": "display_data"
    }
   ],
   "source": [
    "plt.plot(range(2,20),convhist5.history['accuracy'][2:],range(2,20),convhist5.history['val_accuracy'][2:])\n",
    "plt.ylabel('Accuracy')\n",
    "plt.xlabel('Epoch number')\n",
    "plt.legend(['training','validation'])\n",
    "plt.show()"
   ]
  },
  {
   "cell_type": "code",
   "execution_count": 53,
   "metadata": {},
   "outputs": [],
   "source": [
    "convpred5=pd.DataFrame({'ImageId':range(1,len(x_conv_test)+1),'Label':convmodel5.predict(x_conv_test).argmax(axis=1)}).set_index('ImageId')"
   ]
  },
  {
   "cell_type": "code",
   "execution_count": 87,
   "metadata": {},
   "outputs": [],
   "source": [
    "convpred5.to_csv('convpred5.csv')"
   ]
  },
  {
   "cell_type": "markdown",
   "metadata": {},
   "source": [
    "### Definition of Model with Batch Normalization and Pooling"
   ]
  },
  {
   "cell_type": "markdown",
   "metadata": {},
   "source": [
    "Finally, I create yet a third type of model, where there is a pooling layer between activation and dropout.\n",
    "The idea is that I will now be able to decrease the window size with pooling instead of using wider strides."
   ]
  },
  {
   "cell_type": "code",
   "execution_count": 54,
   "metadata": {},
   "outputs": [],
   "source": [
    "def ConvModel3(dims,kernels,strides,pools,dim_dense,dropout_rate):\n",
    "    data=np.array([dims,kernels,strides,pools]).T\n",
    "    X_input=Input(shape=(d,d,1))\n",
    "    X=X_input\n",
    "    for dim,kernel,stride,pool in data:\n",
    "        X=Conv2D(dim,kernel_size=(kernel,kernel),strides=(stride,stride),padding='same',use_bias=False)(X)\n",
    "        X=BatchNormalization()(X)\n",
    "        X=Activation('relu')(X)\n",
    "        X=MaxPooling2D(pool_size=(pool,pool),strides=(pool,pool),padding='same')(X)\n",
    "        X=Dropout(dropout_rate)(X)\n",
    "    X=Flatten()(X)\n",
    "    X=Dense(dim_dense,use_bias=False)(X)\n",
    "    X=BatchNormalization()(X)\n",
    "    X=Activation('relu')(X)\n",
    "    X_output=Dense(n,activation='softmax')(X)\n",
    "    model=Model(inputs=X_input,outputs=X_output)\n",
    "    return model"
   ]
  },
  {
   "cell_type": "markdown",
   "metadata": {},
   "source": [
    "### Model 6"
   ]
  },
  {
   "cell_type": "markdown",
   "metadata": {},
   "source": [
    "Like Convolutional model 1 (4 hidden layers), but with batch normalization and pooling.\n",
    "All strides are set to 1. I pool with 2x2 filters after some of the convolutional layers. "
   ]
  },
  {
   "cell_type": "code",
   "execution_count": 55,
   "metadata": {},
   "outputs": [
    {
     "name": "stdout",
     "output_type": "stream",
     "text": [
      "Model: \"functional_19\"\n",
      "_________________________________________________________________\n",
      "Layer (type)                 Output Shape              Param #   \n",
      "=================================================================\n",
      "input_10 (InputLayer)        [(None, 28, 28, 1)]       0         \n",
      "_________________________________________________________________\n",
      "conv2d_20 (Conv2D)           (None, 28, 28, 32)        288       \n",
      "_________________________________________________________________\n",
      "batch_normalization_11 (Batc (None, 28, 28, 32)        128       \n",
      "_________________________________________________________________\n",
      "activation_11 (Activation)   (None, 28, 28, 32)        0         \n",
      "_________________________________________________________________\n",
      "max_pooling2d (MaxPooling2D) (None, 14, 14, 32)        0         \n",
      "_________________________________________________________________\n",
      "dropout_46 (Dropout)         (None, 14, 14, 32)        0         \n",
      "_________________________________________________________________\n",
      "conv2d_21 (Conv2D)           (None, 14, 14, 64)        18432     \n",
      "_________________________________________________________________\n",
      "batch_normalization_12 (Batc (None, 14, 14, 64)        256       \n",
      "_________________________________________________________________\n",
      "activation_12 (Activation)   (None, 14, 14, 64)        0         \n",
      "_________________________________________________________________\n",
      "max_pooling2d_1 (MaxPooling2 (None, 14, 14, 64)        0         \n",
      "_________________________________________________________________\n",
      "dropout_47 (Dropout)         (None, 14, 14, 64)        0         \n",
      "_________________________________________________________________\n",
      "conv2d_22 (Conv2D)           (None, 14, 14, 128)       73728     \n",
      "_________________________________________________________________\n",
      "batch_normalization_13 (Batc (None, 14, 14, 128)       512       \n",
      "_________________________________________________________________\n",
      "activation_13 (Activation)   (None, 14, 14, 128)       0         \n",
      "_________________________________________________________________\n",
      "max_pooling2d_2 (MaxPooling2 (None, 7, 7, 128)         0         \n",
      "_________________________________________________________________\n",
      "dropout_48 (Dropout)         (None, 7, 7, 128)         0         \n",
      "_________________________________________________________________\n",
      "flatten_5 (Flatten)          (None, 6272)              0         \n",
      "_________________________________________________________________\n",
      "dense_40 (Dense)             (None, 128)               802816    \n",
      "_________________________________________________________________\n",
      "batch_normalization_14 (Batc (None, 128)               512       \n",
      "_________________________________________________________________\n",
      "activation_14 (Activation)   (None, 128)               0         \n",
      "_________________________________________________________________\n",
      "dense_41 (Dense)             (None, 10)                1290      \n",
      "=================================================================\n",
      "Total params: 897,962\n",
      "Trainable params: 897,258\n",
      "Non-trainable params: 704\n",
      "_________________________________________________________________\n"
     ]
    }
   ],
   "source": [
    "convmodel6=ConvModel3([32,64,128],[3,3,3],[1,1,1],[2,1,2],128,0.35)\n",
    "convmodel6.compile(optimizer='adam',loss='categorical_crossentropy',metrics=['accuracy'])\n",
    "convmodel6.summary()"
   ]
  },
  {
   "cell_type": "code",
   "execution_count": 56,
   "metadata": {},
   "outputs": [
    {
     "name": "stdout",
     "output_type": "stream",
     "text": [
      "Epoch 1/15\n",
      "263/263 [==============================] - 92s 349ms/step - loss: 0.2434 - accuracy: 0.9285 - val_loss: 7.4472 - val_accuracy: 0.1131\n",
      "Epoch 2/15\n",
      "263/263 [==============================] - 86s 327ms/step - loss: 0.0812 - accuracy: 0.9762 - val_loss: 0.8908 - val_accuracy: 0.7539\n",
      "Epoch 3/15\n",
      "263/263 [==============================] - 80s 305ms/step - loss: 0.0588 - accuracy: 0.9822 - val_loss: 0.0525 - val_accuracy: 0.9833\n",
      "Epoch 4/15\n",
      "263/263 [==============================] - 80s 304ms/step - loss: 0.0501 - accuracy: 0.9843 - val_loss: 0.0381 - val_accuracy: 0.9873\n",
      "Epoch 5/15\n",
      "263/263 [==============================] - 80s 305ms/step - loss: 0.0396 - accuracy: 0.9879 - val_loss: 0.0285 - val_accuracy: 0.9920\n",
      "Epoch 6/15\n",
      "263/263 [==============================] - 81s 306ms/step - loss: 0.0366 - accuracy: 0.9886 - val_loss: 0.0339 - val_accuracy: 0.9904\n",
      "Epoch 7/15\n",
      "263/263 [==============================] - 81s 307ms/step - loss: 0.0325 - accuracy: 0.9901 - val_loss: 0.0286 - val_accuracy: 0.9919\n",
      "Epoch 8/15\n",
      "263/263 [==============================] - 81s 306ms/step - loss: 0.0285 - accuracy: 0.9912 - val_loss: 0.0285 - val_accuracy: 0.9914\n",
      "Epoch 9/15\n",
      "263/263 [==============================] - 80s 306ms/step - loss: 0.0257 - accuracy: 0.9922 - val_loss: 0.0266 - val_accuracy: 0.9923\n",
      "Epoch 10/15\n",
      "263/263 [==============================] - 79s 302ms/step - loss: 0.0237 - accuracy: 0.9918 - val_loss: 0.0279 - val_accuracy: 0.9925\n",
      "Epoch 11/15\n",
      "263/263 [==============================] - 78s 297ms/step - loss: 0.0210 - accuracy: 0.9931 - val_loss: 0.0270 - val_accuracy: 0.9921\n",
      "Epoch 12/15\n",
      "263/263 [==============================] - 78s 297ms/step - loss: 0.0201 - accuracy: 0.9940 - val_loss: 0.0291 - val_accuracy: 0.9918\n",
      "Epoch 13/15\n",
      "263/263 [==============================] - 77s 294ms/step - loss: 0.0196 - accuracy: 0.9936 - val_loss: 0.0280 - val_accuracy: 0.9914\n",
      "Epoch 14/15\n",
      "263/263 [==============================] - 78s 298ms/step - loss: 0.0171 - accuracy: 0.9942 - val_loss: 0.0266 - val_accuracy: 0.9926\n",
      "Epoch 15/15\n",
      "263/263 [==============================] - 78s 296ms/step - loss: 0.0176 - accuracy: 0.9943 - val_loss: 0.0321 - val_accuracy: 0.9911\n"
     ]
    }
   ],
   "source": [
    "convhist6=convmodel6.fit(x_conv,y,batch_size=128,epochs=15,validation_split=0.2)"
   ]
  },
  {
   "cell_type": "code",
   "execution_count": 76,
   "metadata": {},
   "outputs": [
    {
     "data": {
      "image/png": "[encoded data removed]",
      "text/plain": [
       "<Figure size 432x288 with 1 Axes>"
      ]
     },
     "metadata": {
      "needs_background": "light"
     },
     "output_type": "display_data"
    }
   ],
   "source": [
    "plt.plot(range(2,15),convhist6.history['accuracy'][2:],range(2,15),convhist6.history['val_accuracy'][2:])\n",
    "plt.ylabel('Accuracy')\n",
    "plt.xlabel('Epoch number')\n",
    "plt.legend(['training','validation'])\n",
    "plt.show()"
   ]
  },
  {
   "cell_type": "code",
   "execution_count": 58,
   "metadata": {},
   "outputs": [],
   "source": [
    "convpred6=pd.DataFrame({'ImageId':range(1,len(x_conv_test)+1),'Label':convmodel6.predict(x_conv_test).argmax(axis=1)}).set_index('ImageId')"
   ]
  },
  {
   "cell_type": "code",
   "execution_count": 88,
   "metadata": {},
   "outputs": [],
   "source": [
    "convpred6.to_csv('convpred6.csv')"
   ]
  },
  {
   "cell_type": "markdown",
   "metadata": {},
   "source": [
    "### Model 7"
   ]
  },
  {
   "cell_type": "markdown",
   "metadata": {},
   "source": [
    "Like Convolutional model 2 (7 hidden layers), but with batch normalization and pooling."
   ]
  },
  {
   "cell_type": "code",
   "execution_count": 59,
   "metadata": {},
   "outputs": [
    {
     "name": "stdout",
     "output_type": "stream",
     "text": [
      "Model: \"functional_21\"\n",
      "_________________________________________________________________\n",
      "Layer (type)                 Output Shape              Param #   \n",
      "=================================================================\n",
      "input_11 (InputLayer)        [(None, 28, 28, 1)]       0         \n",
      "_________________________________________________________________\n",
      "conv2d_23 (Conv2D)           (None, 28, 28, 32)        288       \n",
      "_________________________________________________________________\n",
      "batch_normalization_15 (Batc (None, 28, 28, 32)        128       \n",
      "_________________________________________________________________\n",
      "activation_15 (Activation)   (None, 28, 28, 32)        0         \n",
      "_________________________________________________________________\n",
      "max_pooling2d_3 (MaxPooling2 (None, 14, 14, 32)        0         \n",
      "_________________________________________________________________\n",
      "dropout_49 (Dropout)         (None, 14, 14, 32)        0         \n",
      "_________________________________________________________________\n",
      "conv2d_24 (Conv2D)           (None, 14, 14, 32)        9216      \n",
      "_________________________________________________________________\n",
      "batch_normalization_16 (Batc (None, 14, 14, 32)        128       \n",
      "_________________________________________________________________\n",
      "activation_16 (Activation)   (None, 14, 14, 32)        0         \n",
      "_________________________________________________________________\n",
      "max_pooling2d_4 (MaxPooling2 (None, 14, 14, 32)        0         \n",
      "_________________________________________________________________\n",
      "dropout_50 (Dropout)         (None, 14, 14, 32)        0         \n",
      "_________________________________________________________________\n",
      "conv2d_25 (Conv2D)           (None, 14, 14, 64)        18432     \n",
      "_________________________________________________________________\n",
      "batch_normalization_17 (Batc (None, 14, 14, 64)        256       \n",
      "_________________________________________________________________\n",
      "activation_17 (Activation)   (None, 14, 14, 64)        0         \n",
      "_________________________________________________________________\n",
      "max_pooling2d_5 (MaxPooling2 (None, 7, 7, 64)          0         \n",
      "_________________________________________________________________\n",
      "dropout_51 (Dropout)         (None, 7, 7, 64)          0         \n",
      "_________________________________________________________________\n",
      "conv2d_26 (Conv2D)           (None, 7, 7, 64)          36864     \n",
      "_________________________________________________________________\n",
      "batch_normalization_18 (Batc (None, 7, 7, 64)          256       \n",
      "_________________________________________________________________\n",
      "activation_18 (Activation)   (None, 7, 7, 64)          0         \n",
      "_________________________________________________________________\n",
      "max_pooling2d_6 (MaxPooling2 (None, 7, 7, 64)          0         \n",
      "_________________________________________________________________\n",
      "dropout_52 (Dropout)         (None, 7, 7, 64)          0         \n",
      "_________________________________________________________________\n",
      "conv2d_27 (Conv2D)           (None, 7, 7, 128)         73728     \n",
      "_________________________________________________________________\n",
      "batch_normalization_19 (Batc (None, 7, 7, 128)         512       \n",
      "_________________________________________________________________\n",
      "activation_19 (Activation)   (None, 7, 7, 128)         0         \n",
      "_________________________________________________________________\n",
      "max_pooling2d_7 (MaxPooling2 (None, 4, 4, 128)         0         \n",
      "_________________________________________________________________\n",
      "dropout_53 (Dropout)         (None, 4, 4, 128)         0         \n",
      "_________________________________________________________________\n",
      "conv2d_28 (Conv2D)           (None, 4, 4, 128)         147456    \n",
      "_________________________________________________________________\n",
      "batch_normalization_20 (Batc (None, 4, 4, 128)         512       \n",
      "_________________________________________________________________\n",
      "activation_20 (Activation)   (None, 4, 4, 128)         0         \n",
      "_________________________________________________________________\n",
      "max_pooling2d_8 (MaxPooling2 (None, 4, 4, 128)         0         \n",
      "_________________________________________________________________\n",
      "dropout_54 (Dropout)         (None, 4, 4, 128)         0         \n",
      "_________________________________________________________________\n",
      "flatten_6 (Flatten)          (None, 2048)              0         \n",
      "_________________________________________________________________\n",
      "dense_42 (Dense)             (None, 256)               524288    \n",
      "_________________________________________________________________\n",
      "batch_normalization_21 (Batc (None, 256)               1024      \n",
      "_________________________________________________________________\n",
      "activation_21 (Activation)   (None, 256)               0         \n",
      "_________________________________________________________________\n",
      "dense_43 (Dense)             (None, 10)                2570      \n",
      "=================================================================\n",
      "Total params: 815,658\n",
      "Trainable params: 814,250\n",
      "Non-trainable params: 1,408\n",
      "_________________________________________________________________\n"
     ]
    }
   ],
   "source": [
    "convmodel7=ConvModel3([32,32,64,64,128,128],[3,3,3,3,3,3],[1,1,1,1,1,1],[2,1,2,1,2,1],256,0.35)\n",
    "convmodel7.compile(optimizer='adam',loss='categorical_crossentropy',metrics=['accuracy'])\n",
    "convmodel7.summary()"
   ]
  },
  {
   "cell_type": "code",
   "execution_count": 60,
   "metadata": {},
   "outputs": [
    {
     "name": "stdout",
     "output_type": "stream",
     "text": [
      "Epoch 1/20\n",
      "263/263 [==============================] - 80s 303ms/step - loss: 0.5847 - accuracy: 0.8035 - val_loss: 9.6939 - val_accuracy: 0.1131\n",
      "Epoch 2/20\n",
      "263/263 [==============================] - 79s 301ms/step - loss: 0.1605 - accuracy: 0.9500 - val_loss: 0.8700 - val_accuracy: 0.7917\n",
      "Epoch 3/20\n",
      "263/263 [==============================] - 79s 301ms/step - loss: 0.1150 - accuracy: 0.9626 - val_loss: 0.1211 - val_accuracy: 0.9626\n",
      "Epoch 4/20\n",
      "263/263 [==============================] - 79s 300ms/step - loss: 0.0917 - accuracy: 0.9710 - val_loss: 0.0522 - val_accuracy: 0.9830\n",
      "Epoch 5/20\n",
      "263/263 [==============================] - 79s 302ms/step - loss: 0.0799 - accuracy: 0.9751 - val_loss: 0.0752 - val_accuracy: 0.9763\n",
      "Epoch 6/20\n",
      "263/263 [==============================] - 79s 302ms/step - loss: 0.0695 - accuracy: 0.9770 - val_loss: 0.0392 - val_accuracy: 0.9887\n",
      "Epoch 7/20\n",
      "263/263 [==============================] - 80s 303ms/step - loss: 0.0638 - accuracy: 0.9796 - val_loss: 0.0356 - val_accuracy: 0.9889\n",
      "Epoch 8/20\n",
      "263/263 [==============================] - 79s 302ms/step - loss: 0.0596 - accuracy: 0.9803 - val_loss: 0.0376 - val_accuracy: 0.9889\n",
      "Epoch 9/20\n",
      "263/263 [==============================] - 79s 301ms/step - loss: 0.0532 - accuracy: 0.9833 - val_loss: 0.0377 - val_accuracy: 0.9880\n",
      "Epoch 10/20\n",
      "263/263 [==============================] - 80s 304ms/step - loss: 0.0510 - accuracy: 0.9827 - val_loss: 0.0283 - val_accuracy: 0.9915\n",
      "Epoch 11/20\n",
      "263/263 [==============================] - 80s 303ms/step - loss: 0.0471 - accuracy: 0.9847 - val_loss: 0.0270 - val_accuracy: 0.9918\n",
      "Epoch 12/20\n",
      "263/263 [==============================] - 80s 303ms/step - loss: 0.0476 - accuracy: 0.9847 - val_loss: 0.0321 - val_accuracy: 0.9918\n",
      "Epoch 13/20\n",
      "263/263 [==============================] - 79s 302ms/step - loss: 0.0415 - accuracy: 0.9862 - val_loss: 0.0375 - val_accuracy: 0.9901\n",
      "Epoch 14/20\n",
      "263/263 [==============================] - 80s 304ms/step - loss: 0.0409 - accuracy: 0.9864 - val_loss: 0.0280 - val_accuracy: 0.9919\n",
      "Epoch 15/20\n",
      "263/263 [==============================] - 80s 303ms/step - loss: 0.0411 - accuracy: 0.9862 - val_loss: 0.0329 - val_accuracy: 0.9896\n",
      "Epoch 16/20\n",
      "263/263 [==============================] - 79s 302ms/step - loss: 0.0387 - accuracy: 0.9869 - val_loss: 0.0295 - val_accuracy: 0.9921\n",
      "Epoch 17/20\n",
      "263/263 [==============================] - 80s 303ms/step - loss: 0.0383 - accuracy: 0.9869 - val_loss: 0.0281 - val_accuracy: 0.9915\n",
      "Epoch 18/20\n",
      "263/263 [==============================] - 80s 303ms/step - loss: 0.0372 - accuracy: 0.9883 - val_loss: 0.0338 - val_accuracy: 0.9900\n",
      "Epoch 19/20\n",
      "263/263 [==============================] - 80s 303ms/step - loss: 0.0341 - accuracy: 0.9887 - val_loss: 0.0270 - val_accuracy: 0.9920\n",
      "Epoch 20/20\n",
      "263/263 [==============================] - 79s 302ms/step - loss: 0.0324 - accuracy: 0.9897 - val_loss: 0.0264 - val_accuracy: 0.9927\n"
     ]
    }
   ],
   "source": [
    "convhist7=convmodel7.fit(x_conv,y,batch_size=128,epochs=20,validation_split=0.2)"
   ]
  },
  {
   "cell_type": "code",
   "execution_count": 77,
   "metadata": {},
   "outputs": [
    {
     "data": {
      "image/png": "[encoded data removed]",
      "text/plain": [
       "<Figure size 432x288 with 1 Axes>"
      ]
     },
     "metadata": {
      "needs_background": "light"
     },
     "output_type": "display_data"
    }
   ],
   "source": [
    "plt.plot(range(2,20),convhist7.history['accuracy'][2:],range(2,20),convhist7.history['val_accuracy'][2:])\n",
    "plt.ylabel('Accuracy')\n",
    "plt.xlabel('Epoch number')\n",
    "plt.legend(['training','validation'])\n",
    "plt.show()"
   ]
  },
  {
   "cell_type": "code",
   "execution_count": 62,
   "metadata": {},
   "outputs": [],
   "source": [
    "convpred7=pd.DataFrame({'ImageId':range(1,len(x_conv_test)+1),'Label':convmodel7.predict(x_conv_test).argmax(axis=1)}).set_index('ImageId')"
   ]
  },
  {
   "cell_type": "code",
   "execution_count": 89,
   "metadata": {},
   "outputs": [],
   "source": [
    "convpred7.to_csv('convpred7.csv')"
   ]
  },
  {
   "cell_type": "markdown",
   "metadata": {},
   "source": [
    "Looking at the plot above, it seems I should train it a bit longer"
   ]
  },
  {
   "cell_type": "code",
   "execution_count": 67,
   "metadata": {},
   "outputs": [
    {
     "name": "stdout",
     "output_type": "stream",
     "text": [
      "Epoch 1/8\n",
      "263/263 [==============================] - 100s 380ms/step - loss: 0.0342 - accuracy: 0.9885 - val_loss: 0.0264 - val_accuracy: 0.9937\n",
      "Epoch 2/8\n",
      "263/263 [==============================] - 96s 363ms/step - loss: 0.0317 - accuracy: 0.9889 - val_loss: 0.0241 - val_accuracy: 0.9931\n",
      "Epoch 3/8\n",
      "263/263 [==============================] - 95s 360ms/step - loss: 0.0312 - accuracy: 0.9893 - val_loss: 0.0265 - val_accuracy: 0.9935\n",
      "Epoch 4/8\n",
      "263/263 [==============================] - 92s 349ms/step - loss: 0.0274 - accuracy: 0.9907 - val_loss: 0.0309 - val_accuracy: 0.9917\n",
      "Epoch 5/8\n",
      "263/263 [==============================] - 96s 366ms/step - loss: 0.0244 - accuracy: 0.9916 - val_loss: 0.0301 - val_accuracy: 0.9919\n",
      "Epoch 6/8\n",
      "263/263 [==============================] - 83s 317ms/step - loss: 0.0285 - accuracy: 0.9906 - val_loss: 0.0232 - val_accuracy: 0.9940\n",
      "Epoch 7/8\n",
      "263/263 [==============================] - 82s 312ms/step - loss: 0.0264 - accuracy: 0.9913 - val_loss: 0.0312 - val_accuracy: 0.9920\n",
      "Epoch 8/8\n",
      "263/263 [==============================] - 81s 309ms/step - loss: 0.0254 - accuracy: 0.9912 - val_loss: 0.0246 - val_accuracy: 0.9938\n"
     ]
    }
   ],
   "source": [
    "convhist7b=convmodel7.fit(x_conv,y,batch_size=128,epochs=8,validation_split=0.2)"
   ]
  },
  {
   "cell_type": "code",
   "execution_count": 79,
   "metadata": {},
   "outputs": [
    {
     "data": {
      "image/png": "[encoded data removed]",
      "text/plain": [
       "<Figure size 432x288 with 1 Axes>"
      ]
     },
     "metadata": {
      "needs_background": "light"
     },
     "output_type": "display_data"
    }
   ],
   "source": [
    "plt.plot(range(21,29),convhist7b.history['accuracy'],range(21,29),convhist7b.history['val_accuracy'])\n",
    "plt.ylabel('Accuracy')\n",
    "plt.xlabel('Epoch number')\n",
    "plt.legend(['training','validation'])\n",
    "plt.show()"
   ]
  },
  {
   "cell_type": "code",
   "execution_count": 90,
   "metadata": {},
   "outputs": [],
   "source": [
    "convpred7b=pd.DataFrame({'ImageId':range(1,len(x_conv_test)+1),'Label':convmodel7.predict(x_conv_test).argmax(axis=1)}).set_index('ImageId')"
   ]
  },
  {
   "cell_type": "code",
   "execution_count": 91,
   "metadata": {},
   "outputs": [],
   "source": [
    "convpred7b.to_csv('convpred7b.csv')"
   ]
  },
  {
   "cell_type": "code",
   "execution_count": null,
   "metadata": {},
   "outputs": [],
   "source": []
  }
 ],
 "metadata": {
  "kernelspec": {
   "display_name": "Python 3",
   "language": "python",
   "name": "python3"
  },
  "language_info": {
   "codemirror_mode": {
    "name": "ipython",
    "version": 3
   },
   "file_extension": ".py",
   "mimetype": "text/x-python",
   "name": "python",
   "nbconvert_exporter": "python",
   "pygments_lexer": "ipython3",
   "version": "3.8.2"
  }
 },
 "nbformat": 4,
 "nbformat_minor": 4
}
